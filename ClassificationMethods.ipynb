{
 "cells": [
  {
   "cell_type": "code",
   "execution_count": null,
   "id": "e416258b-d8d7-47e1-a2e9-1a269feb8057",
   "metadata": {},
   "outputs": [],
   "source": [
    "import pandas as pd\n",
    "import numpy as np\n",
    "from collections import Counter\n",
    "import matplotlib.pyplot as plt\n",
    "from seaborn import set_style\n",
    "from sklearn.model_selection import train_test_split\n",
    "from sklearn.linear_model import LinearRegression\n",
    "from sklearn.neighbors import KNeighborsClassifier\n",
    "from sklearn import tree\n",
    "from sklearn.tree import DecisionTreeClassifier\n",
    "from mpl_toolkits import mplot3d\n",
    "set_style(\"whitegrid\")\n"
   ]
  },
  {
   "cell_type": "code",
   "execution_count": null,
   "id": "e2df1b5d-8955-4308-b710-5b7cea8a24e8",
   "metadata": {},
   "outputs": [],
   "source": [
    "clTrials = pd.read_csv(\"Cleaned_and_Modified_Data.csv\")"
   ]
  },
  {
   "cell_type": "code",
   "execution_count": null,
   "id": "49ec8e94-cfdf-485f-a9a5-81da29210b5d",
   "metadata": {
    "scrolled": true
   },
   "outputs": [],
   "source": [
    "clTrials"
   ]
  },
  {
   "cell_type": "code",
   "execution_count": null,
   "id": "61bb0ba1-b8f4-4cc1-9365-0e29206cba2a",
   "metadata": {},
   "outputs": [],
   "source": [
    "clTrials_train, clTrials_test = train_test_split(clTrials.copy(), \n",
    "                                            shuffle=True,\n",
    "                                            random_state=314,\n",
    "                                            stratify=clTrials['Completed_Status'],\n",
    "                                            test_size=.2)"
   ]
  },
  {
   "cell_type": "code",
   "execution_count": null,
   "id": "66a9d531",
   "metadata": {},
   "outputs": [],
   "source": [
    "clTrials_completed = clTrials[clTrials[\"Status\"]==\"Completed\"]\n",
    "clTrials_not_completed = clTrials[clTrials[\"Status\"]!=\"Completed\"]"
   ]
  },
  {
   "cell_type": "code",
   "execution_count": null,
   "id": "14b7cc17-340c-43ad-bf4c-dd2994604bdf",
   "metadata": {},
   "outputs": [],
   "source": [
    "clTrials_train_modified = clTrials_train[clTrials_train['Enrollment'] <= 1500]\n",
    "clTrials_test_modified = clTrials_test[clTrials_test['Enrollment'] <= 1500]"
   ]
  },
  {
   "cell_type": "markdown",
   "id": "4792ffc7-1dac-4827-ad9c-6a2d31ae0dfe",
   "metadata": {},
   "source": [
    "## Use k-nearest neighbor model."
   ]
  },
  {
   "cell_type": "code",
   "execution_count": null,
   "id": "dd542f77-7946-446c-8705-c0c9951f49e0",
   "metadata": {},
   "outputs": [],
   "source": [
    "TEST = list(clTrials_test_modified['Completed_Status'])\n",
    "\n",
    "# Function that applies knn to k neighbours with features p,q,r\n",
    "def knn_for_three_features_pred(k,p,q,r):\n",
    "    a = KNeighborsClassifier(k)\n",
    "    a.fit(clTrials_train_modified[[p, q, r]],clTrials_train_modified.Completed_Status)\n",
    "    return a.predict(clTrials_test_modified[[p, q, r]])\n",
    "def knn_for_three_features_err(k,p,q,r):\n",
    "    c=0\n",
    "    for i in range(len(knn_for_three_features_pred(k,p,q,r))):\n",
    "        if knn_for_three_features_pred(k,p,q,r)[i] == TEST[i]:\n",
    "            c = c+1\n",
    "    return c/len(knn_for_three_features_pred(k,p,q,r))"
   ]
  },
  {
   "cell_type": "code",
   "execution_count": null,
   "id": "194cf3bc",
   "metadata": {},
   "outputs": [],
   "source": [
    "# For graphing the number of neighbours for knn versus error\n",
    "inp = [2*i+1 for i in range(18)]\n",
    "def graph(p,q,r):\n",
    "    out = [knn_for_three_features_err(k,p,q,r) for k in inp]\n",
    "    plt.plot(inp,out)"
   ]
  },
  {
   "cell_type": "code",
   "execution_count": null,
   "id": "56a0c6d9-3a11-4262-ac90-fa4984087709",
   "metadata": {},
   "outputs": [],
   "source": [
    "graph(\"Enrollment\",\"Study Duration (months)\",\"Intervention Model\")"
   ]
  },
  {
   "cell_type": "code",
   "execution_count": null,
   "id": "1630ca1e-7e31-46f7-ba5f-b75333a357c8",
   "metadata": {},
   "outputs": [],
   "source": [
    "graph(\"Enrollment\",\"Study Duration (months)\",\"Minimum Age\")"
   ]
  },
  {
   "cell_type": "code",
   "execution_count": null,
   "id": "3986114a-0a54-48d7-a8ba-d7af6268a8b0",
   "metadata": {},
   "outputs": [],
   "source": [
    "graph(\"Enrollment\",\"Study Duration (months)\",\"Hospital\")"
   ]
  },
  {
   "cell_type": "markdown",
   "id": "8ec020df-3716-4bf9-8cc3-9eb4b652a967",
   "metadata": {},
   "source": [
    "### So far, it seems to us that, only 2 features are important, namely Enrollment and Study Duration. Therefore, we now apply KNN to only these two features"
   ]
  },
  {
   "cell_type": "code",
   "execution_count": null,
   "id": "ac4b33e6-5d51-40bb-ba34-2a785a8dd9b9",
   "metadata": {},
   "outputs": [],
   "source": [
    "# Function that applies knn to k neighbours with features p,q\n",
    "def knn_for_two_features_pred(k,p,q):\n",
    "    a = KNeighborsClassifier(k)\n",
    "    a.fit(clTrials_train_modified[[p, q]],clTrials_train_modified.Completed_Status)\n",
    "    return a.predict(clTrials_test_modified[[p, q]])\n",
    "def knn_for_two_features_err(k,p,q):\n",
    "    c=0\n",
    "    for i in range(len(knn_for_two_features_pred(k,p,q))):\n",
    "        if knn_for_two_features_pred(k,p,q)[i] == TEST[i]:\n",
    "            c = c+1\n",
    "    return c/len(knn_for_two_features_pred(k,p,q))"
   ]
  },
  {
   "cell_type": "code",
   "execution_count": null,
   "id": "ccf92e2e-0108-4f09-8b3f-6bf2079d3d7e",
   "metadata": {},
   "outputs": [],
   "source": [
    "plt.plot(inp, [knn_for_two_features_err(k,\"Enrollment\",\"Study Duration (months)\") for k in inp])"
   ]
  },
  {
   "cell_type": "markdown",
   "id": "3573a26d-e491-40a5-a9ef-b90f0c71ea91",
   "metadata": {},
   "source": [
    "### With k-nearest approach, where k=5, we get 80% accuracy. With k = 27, we get ~83%"
   ]
  },
  {
   "cell_type": "code",
   "execution_count": null,
   "id": "3cb20a20-fd64-48a7-b95b-811210e5e10b",
   "metadata": {},
   "outputs": [],
   "source": [
    "#Confusion Matrix\n",
    "#Decide what y values to use!\n",
    "sklearn.metrics.confusion_matrix(y_true, y_pred)"
   ]
  },
  {
   "cell_type": "markdown",
   "id": "3b9b3d80-73bd-4364-a23a-ee9d8fb03cc9",
   "metadata": {},
   "source": [
    "## Now use Decision Tree Classifier"
   ]
  },
  {
   "cell_type": "code",
   "execution_count": null,
   "id": "87c15fa6-c496-4d08-a772-1ee5b14054f9",
   "metadata": {},
   "outputs": [],
   "source": [
    "# Defining a function that takes depth of the decision tree and features as input and gives out acurracy\n",
    "TEST = list(clTrials_test['Completed_Status'])\n",
    "def decision_tree(depth,features):\n",
    "    X = np.array([[list(clTrials_train[features[j]])[i] for j in range(len(features))] for i in range(len(clTrials_train[\"Enrollment\"]))])\n",
    "    y = np.array(clTrials_train[\"Completed_Status\"])\n",
    "    X_test = np.array([[list(clTrials_test[features[j]])[i] for j in range(len(features))] for i in range(len(clTrials_test[\"Enrollment\"]))])\n",
    "    tree = DecisionTreeClassifier(max_depth  = depth)\n",
    "    tree.fit(X,y)\n",
    "    preds = tree.predict(X_test)\n",
    "    c=0\n",
    "    for j in range(len(preds)):\n",
    "        if preds[j] == TEST[j]:\n",
    "            c = c+1\n",
    "    return c/len(preds)\n",
    "    "
   ]
  },
  {
   "cell_type": "code",
   "execution_count": null,
   "id": "5d3de4a6-f25d-44b4-ae66-3364b42c5254",
   "metadata": {},
   "outputs": [],
   "source": [
    "decision_tree(5,[\"Enrollment\",\"Minimum Age\",\"Study Duration (months)\"])"
   ]
  },
  {
   "cell_type": "code",
   "execution_count": null,
   "id": "8d773d4b-4612-467e-a9a9-7f2989772c33",
   "metadata": {},
   "outputs": [],
   "source": [
    "#to show overfitting as we increase the depth, we introduce the accuracy function on the tranining set.\n",
    "TRAIN = list(clTrials_train['Completed_Status'])\n",
    "def decision_tree_on_training_set(depth,features):\n",
    "    X = np.array([[list(clTrials_train[features[j]])[i] for j in range(len(features))] for i in range(len(clTrials_train[\"Enrollment\"]))])\n",
    "    y = np.array(clTrials_train[\"Completed_Status\"])\n",
    "    #X_test = np.array([[list(clTrials_test[features[j]])[i] for j in range(len(features))] for i in range(len(clTrials_test[\"Enrollment\"]))])\n",
    "    tree = DecisionTreeClassifier(max_depth  = depth)\n",
    "    tree.fit(X,y)\n",
    "    preds = tree.predict(X)\n",
    "    c=0\n",
    "    for j in range(len(preds)):\n",
    "        if preds[j] == TRAIN[j]:\n",
    "            c = c+1\n",
    "    return c/len(preds)"
   ]
  },
  {
   "cell_type": "code",
   "execution_count": null,
   "id": "026e690f-f390-47b8-9e41-2b23467cfede",
   "metadata": {},
   "outputs": [],
   "source": [
    "decision_tree_on_training_set(5,[\"Enrollment\",\"Minimum Age\",\"Study Duration (months)\"])"
   ]
  },
  {
   "cell_type": "code",
   "execution_count": null,
   "id": "6358462f-7d71-44f3-ae4f-ebf63cc43fe0",
   "metadata": {},
   "outputs": [],
   "source": [
    "Features = [\"Enrollment\",\"Study Duration (months)\"]\n",
    "b = [decision_tree(i,Features) for i in range(1,16)]\n",
    "b"
   ]
  },
  {
   "cell_type": "code",
   "execution_count": null,
   "id": "cc8370e9-efa7-41d6-a36f-eeabdc00bc0d",
   "metadata": {},
   "outputs": [],
   "source": [
    "plt.plot(range(1,16),b)"
   ]
  },
  {
   "cell_type": "code",
   "execution_count": null,
   "id": "d632e363-f9b8-4424-9b1c-06ddef06a83b",
   "metadata": {},
   "outputs": [],
   "source": [
    "c = [decision_tree_on_training_set(i,Features) for i in range(1,16)]\n",
    "c"
   ]
  },
  {
   "cell_type": "code",
   "execution_count": null,
   "id": "7ee2a6ce-e245-4a78-83d4-6df0d800eceb",
   "metadata": {},
   "outputs": [],
   "source": [
    "plt.plot(range(1,16),c)"
   ]
  },
  {
   "cell_type": "code",
   "execution_count": null,
   "id": "3f2fff93-9ec3-4ff3-8c25-671a7a499ab7",
   "metadata": {},
   "outputs": [],
   "source": [
    "plt.figure(figsize = (10,8))\n",
    "plt.plot(range(1,16),b,color = 'blue',label = \"Accuracy of Prediction\")\n",
    "plt.plot(range(1,16),c,color = 'green',label = \"Accuracy of Training set\")\n",
    "plt.legend(loc = \"upper left\")\n",
    "plt.show()"
   ]
  },
  {
   "cell_type": "code",
   "execution_count": null,
   "id": "ea4fb521-1f25-466f-b694-3dc4ee8e2081",
   "metadata": {},
   "outputs": [],
   "source": [
    "# xx1, xx2 = np.meshgrid(np.arange(-.01, 1.01, .01),\n",
    "#                           np.arange(-.01, 1.01, .01))\n",
    "\n",
    "# X_pred = np.zeros((len(xx1.reshape(-1,1)), 2))\n",
    "# X_pred[:,0] = xx1.flatten()\n",
    "#X_pred[:,1] = xx2.flatten()\n",
    "X = np.array([[list(clTrials_train[\"Study Duration (months)\"])[i],list(clTrials_train[\"Enrollment\"])[i]] for i in range(len(clTrials_train[\"Enrollment\"]))])\n",
    "y = np.array(clTrials_train[\"Completed_Status\"])\n",
    "\n",
    "X_pred = np.array([[list(clTrials_test[\"Study Duration (months)\"])[i],list(clTrials_test[\"Enrollment\"])[i]] for i in range(len(clTrials_test[\"Enrollment\"]))])\n",
    "\n",
    "\n",
    "for i in range(1,11):\n",
    "    tree = DecisionTreeClassifier(max_depth  = i)\n",
    "    \n",
    "    tree.fit(X, y)\n",
    "    \n",
    "    preds = tree.predict(X_pred)\n",
    "    \n",
    "    plt.figure(figsize=(10,8))\n",
    "\n",
    "    plt.scatter(X_pred[preds==0,0],\n",
    "                X_pred[preds==0,1],\n",
    "                alpha=.1,\n",
    "                c='lightblue',\n",
    "                s=100)\n",
    "    plt.scatter(X_pred[preds==1,0],\n",
    "                X_pred[preds==1,1],\n",
    "                alpha=.1,\n",
    "                c='orange',\n",
    "                s=100)\n",
    "    \n",
    "    plt.scatter(X[y==0,0], \n",
    "                X[y==0,1],\n",
    "                label='Training 0',\n",
    "                c = 'darkblue',\n",
    "                edgecolor='black',\n",
    "                s=100)\n",
    "    plt.scatter(X[y==1,0], \n",
    "                X[y==1,1],\n",
    "                label='Training 1',\n",
    "                c = 'darkorange',\n",
    "                marker='v',\n",
    "                edgecolor='black',\n",
    "                s=100)\n",
    "    \n",
    "    plt.title(\"Maximum Depth of \" + str(i), fontsize=20)\n",
    "    plt.xlabel(\"$x_1$\", fontsize=18)\n",
    "    plt.ylabel(\"$x_2$\", fontsize=18)\n",
    "    plt.legend(fontsize=14)\n",
    "    \n",
    "    plt.show()\n"
   ]
  },
  {
   "cell_type": "markdown",
   "id": "972becc9-0654-459e-a698-27d8f21d067b",
   "metadata": {},
   "source": [
    "### We do not even see the staircase shape of the decision tree because the two different types of data are mixed with each other. This might suggest Decision Trees might not be the best approach for this data set."
   ]
  }
 ],
 "metadata": {
  "kernelspec": {
   "display_name": "Python 3 (ipykernel)",
   "language": "python",
   "name": "python3"
  },
  "language_info": {
   "codemirror_mode": {
    "name": "ipython",
    "version": 3
   },
   "file_extension": ".py",
   "mimetype": "text/x-python",
   "name": "python",
   "nbconvert_exporter": "python",
   "pygments_lexer": "ipython3",
   "version": "3.10.4"
  }
 },
 "nbformat": 4,
 "nbformat_minor": 5
}
