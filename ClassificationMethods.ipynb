{
 "cells": [
  {
   "cell_type": "code",
   "execution_count": 20,
   "metadata": {},
   "outputs": [],
   "source": [
    "import pandas as pd\n",
    "import numpy as np\n",
    "from collections import Counter\n",
    "import matplotlib.pyplot as plt\n",
    "from seaborn import set_style\n",
    "from sklearn.model_selection import train_test_split\n",
    "from sklearn.linear_model import LinearRegression\n",
    "from sklearn.neighbors import KNeighborsClassifier\n",
    "from sklearn import tree\n",
    "from sklearn.tree import DecisionTreeClassifier\n",
    "from mpl_toolkits import mplot3d\n",
    "from sklearn.svm import SVC\n",
    "from sklearn.model_selection import StratifiedKFold\n",
    "from sklearn.metrics import confusion_matrix\n",
    "set_style(\"whitegrid\")\n"
   ]
  },
  {
   "cell_type": "code",
   "execution_count": 2,
   "metadata": {},
   "outputs": [],
   "source": [
    "clTrials = pd.read_csv(\"Cleaned_and_Modified_Data.csv\")"
   ]
  },
  {
   "cell_type": "code",
   "execution_count": null,
   "metadata": {
    "scrolled": true
   },
   "outputs": [],
   "source": [
    "clTrials"
   ]
  },
  {
   "cell_type": "code",
   "execution_count": 3,
   "metadata": {},
   "outputs": [],
   "source": [
    "clTrials_train, clTrials_test = train_test_split(clTrials.copy(), \n",
    "                                            shuffle=True,\n",
    "                                            random_state=314,\n",
    "                                            stratify=clTrials['Completed_Status'],\n",
    "                                            test_size=.2)"
   ]
  },
  {
   "cell_type": "markdown",
   "metadata": {},
   "source": [
    "### Produce K-fold cross validation sets"
   ]
  },
  {
   "cell_type": "code",
   "execution_count": null,
   "metadata": {},
   "outputs": [],
   "source": [
    "kfold = StratifiedKFold(5, shuffle=True, random_state=314)\n",
    "for train_index, test_index in kfold.split(clTrials_train, clTrials_train['Completed_Status']):\n",
    "    ## get the kfold training data\n",
    "    ## X_tt\n",
    "    X_train_train = X_train[train_index,:]\n",
    "    y_train_train = y_train[train_index]\n",
    "    \n",
    "    ## get the holdout data\n",
    "    X_holdout = X_train[test_index,:]\n",
    "    y_holdout = y_train[test_index]"
   ]
  },
  {
   "cell_type": "code",
   "execution_count": 4,
   "metadata": {},
   "outputs": [],
   "source": [
    "clTrials_completed = clTrials[clTrials[\"Status\"]==\"Completed\"]\n",
    "clTrials_not_completed = clTrials[clTrials[\"Status\"]!=\"Completed\"]"
   ]
  },
  {
   "cell_type": "code",
   "execution_count": 5,
   "metadata": {},
   "outputs": [],
   "source": [
    "clTrials_train_modified = clTrials_train[clTrials_train['Enrollment'] <= 1500]\n",
    "clTrials_test_modified = clTrials_test[clTrials_test['Enrollment'] <= 1500]"
   ]
  },
  {
   "cell_type": "markdown",
   "metadata": {},
   "source": [
    "## Use k-nearest neighbor model."
   ]
  },
  {
   "cell_type": "code",
   "execution_count": null,
   "metadata": {},
   "outputs": [],
   "source": [
    "TEST = list(clTrials_test_modified['Completed_Status'])\n",
    "\n",
    "# Function that applies knn to k neighbours with features p,q,r\n",
    "def knn_for_three_features_pred(k,p,q,r):\n",
    "    a = KNeighborsClassifier(k)\n",
    "    a.fit(clTrials_train_modified[[p, q, r]],clTrials_train_modified.Completed_Status)\n",
    "    return a.predict(clTrials_test_modified[[p, q, r]])\n",
    "def knn_for_three_features_err(k,p,q,r):\n",
    "    c=0\n",
    "    for i in range(len(knn_for_three_features_pred(k,p,q,r))):\n",
    "        if knn_for_three_features_pred(k,p,q,r)[i] == TEST[i]:\n",
    "            c = c+1\n",
    "    return c/len(knn_for_three_features_pred(k,p,q,r))"
   ]
  },
  {
   "cell_type": "code",
   "execution_count": null,
   "metadata": {},
   "outputs": [],
   "source": [
    "# For graphing the number of neighbours for knn versus error\n",
    "inp = [2*i+1 for i in range(18)]\n",
    "def graph(p,q,r):\n",
    "    out = [knn_for_three_features_err(k,p,q,r) for k in inp]\n",
    "    plt.plot(inp,out)"
   ]
  },
  {
   "cell_type": "code",
   "execution_count": null,
   "metadata": {},
   "outputs": [],
   "source": [
    "graph(\"Enrollment\",\"Study Duration (months)\",\"Intervention Model\")"
   ]
  },
  {
   "cell_type": "code",
   "execution_count": null,
   "metadata": {},
   "outputs": [],
   "source": [
    "graph(\"Enrollment\",\"Study Duration (months)\",\"Minimum Age\")"
   ]
  },
  {
   "cell_type": "code",
   "execution_count": null,
   "metadata": {},
   "outputs": [],
   "source": [
    "graph(\"Enrollment\",\"Study Duration (months)\",\"Hospital\")"
   ]
  },
  {
   "cell_type": "markdown",
   "metadata": {},
   "source": [
    "### So far, it seems to us that, only 2 features are important, namely Enrollment and Study Duration. Therefore, we now apply KNN to only these two features"
   ]
  },
  {
   "cell_type": "code",
   "execution_count": null,
   "metadata": {},
   "outputs": [],
   "source": [
    "# Function that applies knn to k neighbours with features p,q\n",
    "def knn_for_two_features_pred(k,p,q):\n",
    "    a = KNeighborsClassifier(k)\n",
    "    a.fit(clTrials_train_modified[[p, q]],clTrials_train_modified.Completed_Status)\n",
    "    return a.predict(clTrials_test_modified[[p, q]])\n",
    "def knn_for_two_features_err(k,p,q):\n",
    "    c=0\n",
    "    for i in range(len(knn_for_two_features_pred(k,p,q))):\n",
    "        if knn_for_two_features_pred(k,p,q)[i] == TEST[i]:\n",
    "            c = c+1\n",
    "    return c/len(knn_for_two_features_pred(k,p,q))"
   ]
  },
  {
   "cell_type": "code",
   "execution_count": null,
   "metadata": {},
   "outputs": [],
   "source": [
    "plt.plot(inp, [knn_for_two_features_err(k,\"Enrollment\",\"Study Duration (months)\") for k in inp])"
   ]
  },
  {
   "cell_type": "markdown",
   "metadata": {},
   "source": [
    "### With k-nearest approach, where k=5, we get 80% accuracy. With k = 27, we get ~83%"
   ]
  },
  {
   "cell_type": "code",
   "execution_count": null,
   "metadata": {},
   "outputs": [],
   "source": [
    "#Confusion Matrix\n",
    "#Decide what y values to use!\n",
    "sklearn.metrics.confusion_matrix(y_true, y_pred)"
   ]
  },
  {
   "cell_type": "markdown",
   "metadata": {},
   "source": [
    "## Now use Decision Tree Classifier"
   ]
  },
  {
   "cell_type": "code",
   "execution_count": null,
   "metadata": {},
   "outputs": [],
   "source": [
    "# Defining a function that takes depth of the decision tree and features as input and gives out acurracy\n",
    "TEST = list(clTrials_test['Completed_Status'])\n",
    "def decision_tree(depth,features):\n",
    "    X = np.array([[list(clTrials_train[features[j]])[i] for j in range(len(features))] for i in range(len(clTrials_train[\"Enrollment\"]))])\n",
    "    y = np.array(clTrials_train[\"Completed_Status\"])\n",
    "    X_test = np.array([[list(clTrials_test[features[j]])[i] for j in range(len(features))] for i in range(len(clTrials_test[\"Enrollment\"]))])\n",
    "    tree = DecisionTreeClassifier(max_depth  = depth)\n",
    "    tree.fit(X,y)\n",
    "    preds = tree.predict(X_test)\n",
    "    c=0\n",
    "    for j in range(len(preds)):\n",
    "        if preds[j] == TEST[j]:\n",
    "            c = c+1\n",
    "    return c/len(preds)\n",
    "    "
   ]
  },
  {
   "cell_type": "code",
   "execution_count": null,
   "metadata": {},
   "outputs": [],
   "source": [
    "decision_tree(5,[\"Enrollment\",\"Minimum Age\",\"Study Duration (months)\"])"
   ]
  },
  {
   "cell_type": "code",
   "execution_count": null,
   "metadata": {},
   "outputs": [],
   "source": [
    "#to show overfitting as we increase the depth, we introduce the accuracy function on the tranining set.\n",
    "TRAIN = list(clTrials_train['Completed_Status'])\n",
    "def decision_tree_on_training_set(depth,features):\n",
    "    X = np.array([[list(clTrials_train[features[j]])[i] for j in range(len(features))] for i in range(len(clTrials_train[\"Enrollment\"]))])\n",
    "    y = np.array(clTrials_train[\"Completed_Status\"])\n",
    "    #X_test = np.array([[list(clTrials_test[features[j]])[i] for j in range(len(features))] for i in range(len(clTrials_test[\"Enrollment\"]))])\n",
    "    tree = DecisionTreeClassifier(max_depth  = depth)\n",
    "    tree.fit(X,y)\n",
    "    preds = tree.predict(X)\n",
    "    c=0\n",
    "    for j in range(len(preds)):\n",
    "        if preds[j] == TRAIN[j]:\n",
    "            c = c+1\n",
    "    return c/len(preds)"
   ]
  },
  {
   "cell_type": "code",
   "execution_count": null,
   "metadata": {},
   "outputs": [],
   "source": [
    "decision_tree_on_training_set(5,[\"Enrollment\",\"Minimum Age\",\"Study Duration (months)\"])"
   ]
  },
  {
   "cell_type": "code",
   "execution_count": null,
   "metadata": {},
   "outputs": [],
   "source": [
    "Features = [\"Enrollment\",\"Study Duration (months)\"]\n",
    "b = [decision_tree(i,Features) for i in range(1,16)]\n",
    "b"
   ]
  },
  {
   "cell_type": "code",
   "execution_count": null,
   "metadata": {},
   "outputs": [],
   "source": [
    "plt.plot(range(1,16),b)"
   ]
  },
  {
   "cell_type": "code",
   "execution_count": null,
   "metadata": {},
   "outputs": [],
   "source": [
    "c = [decision_tree_on_training_set(i,Features) for i in range(1,16)]\n",
    "c"
   ]
  },
  {
   "cell_type": "code",
   "execution_count": null,
   "metadata": {},
   "outputs": [],
   "source": [
    "plt.plot(range(1,16),c)"
   ]
  },
  {
   "cell_type": "code",
   "execution_count": null,
   "metadata": {},
   "outputs": [],
   "source": [
    "plt.figure(figsize = (10,8))\n",
    "plt.plot(range(1,16),b,color = 'blue',label = \"Accuracy of Prediction\")\n",
    "plt.plot(range(1,16),c,color = 'green',label = \"Accuracy of Training set\")\n",
    "plt.legend(loc = \"upper left\")\n",
    "plt.show()"
   ]
  },
  {
   "cell_type": "code",
   "execution_count": null,
   "metadata": {},
   "outputs": [],
   "source": [
    "# xx1, xx2 = np.meshgrid(np.arange(-.01, 1.01, .01),\n",
    "#                           np.arange(-.01, 1.01, .01))\n",
    "\n",
    "# X_pred = np.zeros((len(xx1.reshape(-1,1)), 2))\n",
    "# X_pred[:,0] = xx1.flatten()\n",
    "#X_pred[:,1] = xx2.flatten()\n",
    "X = np.array([[list(clTrials_train[\"Study Duration (months)\"])[i],list(clTrials_train[\"Enrollment\"])[i]] for i in range(len(clTrials_train[\"Enrollment\"]))])\n",
    "y = np.array(clTrials_train[\"Completed_Status\"])\n",
    "\n",
    "X_pred = np.array([[list(clTrials_test[\"Study Duration (months)\"])[i],list(clTrials_test[\"Enrollment\"])[i]] for i in range(len(clTrials_test[\"Enrollment\"]))])\n",
    "\n",
    "\n",
    "for i in range(1,11):\n",
    "    tree = DecisionTreeClassifier(max_depth  = i)\n",
    "    \n",
    "    tree.fit(X, y)\n",
    "    \n",
    "    preds = tree.predict(X_pred)\n",
    "    \n",
    "    plt.figure(figsize=(10,8))\n",
    "\n",
    "    plt.scatter(X_pred[preds==0,0],\n",
    "                X_pred[preds==0,1],\n",
    "                alpha=.1,\n",
    "                c='lightblue',\n",
    "                s=100)\n",
    "    plt.scatter(X_pred[preds==1,0],\n",
    "                X_pred[preds==1,1],\n",
    "                alpha=.1,\n",
    "                c='orange',\n",
    "                s=100)\n",
    "    \n",
    "    plt.scatter(X[y==0,0], \n",
    "                X[y==0,1],\n",
    "                label='Training 0',\n",
    "                c = 'darkblue',\n",
    "                edgecolor='black',\n",
    "                s=100)\n",
    "    plt.scatter(X[y==1,0], \n",
    "                X[y==1,1],\n",
    "                label='Training 1',\n",
    "                c = 'darkorange',\n",
    "                marker='v',\n",
    "                edgecolor='black',\n",
    "                s=100)\n",
    "    \n",
    "    plt.title(\"Maximum Depth of \" + str(i), fontsize=20)\n",
    "    plt.xlabel(\"$x_1$\", fontsize=18)\n",
    "    plt.ylabel(\"$x_2$\", fontsize=18)\n",
    "    plt.legend(fontsize=14)\n",
    "    \n",
    "    plt.show()\n"
   ]
  },
  {
   "cell_type": "markdown",
   "metadata": {},
   "source": [
    "### We do not even see the staircase shape of the decision tree because the two different types of data are mixed with each other. This might suggest Decision Trees might not be the best approach for this data set."
   ]
  },
  {
   "cell_type": "markdown",
   "metadata": {},
   "source": [
    "## We will now try a few different types of Support Vector Machines"
   ]
  },
  {
   "cell_type": "code",
   "execution_count": 9,
   "metadata": {},
   "outputs": [
    {
     "data": {
      "image/png": "[encoded data removed]",
      "text/plain": [
       "<Figure size 720x576 with 1 Axes>"
      ]
     },
     "metadata": {},
     "output_type": "display_data"
    }
   ],
   "source": [
    "## We start with the 2D svc model and try to decide which degree of the polynomial will result in the best solution\n",
    "TEST = list(clTrials_test['Completed_Status'])\n",
    "TRAIN = list(clTrials_train['Completed_Status'])\n",
    "\n",
    "def train_SVC(ker, deg, features):\n",
    "    X = np.array([[list(clTrials_train[features[j]])[i] for j in range(len(features))] for i in range(len(clTrials_train[\"Enrollment\"]))])\n",
    "    y = np.array(clTrials_train[\"Completed_Status\"])\n",
    "    if ker = 'poly':\n",
    "            svc_ker = SVC(kernel = 'poly', degree=deg, C=10)\n",
    "    else:\n",
    "            svc_ker = SVC(kernel = ker, C=10)\n",
    "\n",
    "    svc_ker.fit(X,y)\n",
    "    preds = svc_ker.predict(X)\n",
    "    c=0\n",
    "    for j in range(len(preds)):\n",
    "        if preds[j] == TRAIN[j]:\n",
    "            c = c+1\n",
    "    return c/len(preds)\n",
    "            \n",
    "def test_SVC(ker, deg, features):\n",
    "    X = np.array([[list(clTrials_train[features[j]])[i] for j in range(len(features))] for i in range(len(clTrials_train[\"Enrollment\"]))])\n",
    "    y = np.array(clTrials_train[\"Completed_Status\"])\n",
    "    X_test = np.array([[list(clTrials_test[features[j]])[i] for j in range(len(features))] for i in range(len(clTrials_test[\"Enrollment\"]))])\n",
    "    if ker = 'poly':\n",
    "            svc_ker = SVC(kernel = 'poly', degree=deg, C=10)\n",
    "    else:\n",
    "            svc_ker = SVC(kernel = ker, C=10)\n",
    "    svc_ker.fit(X,y)\n",
    "    preds = svc_ker.predict(X_test)\n",
    "    c=0\n",
    "    for j in range(len(preds)):\n",
    "        if preds[j] == TEST[j]:\n",
    "            c = c+1\n",
    "    return c/len(preds)\n",
    "\n",
    "\n",
    "Features = [\"Enrollment\",\"Study Duration (months)\"]\n",
    "\n",
    "acc_train = [train_SVC(i,Features) for i in range(2,6)]\n",
    "acc_test = [test_SVC(i,Features) for i in range(2,6)]\n",
    "            \n",
    "plt.figure(figsize = (10,8))\n",
    "plt.plot(range(2,6),acc_test,color = 'blue',label = \"Accuracy of Prediction\")\n",
    "plt.plot(range(2,6),acc_train,color = 'green',label = \"Accuracy of Training set\")\n",
    "plt.legend(loc = \"upper left\")\n",
    "plt.show()"
   ]
  },
  {
   "cell_type": "code",
   "execution_count": 12,
   "metadata": {},
   "outputs": [
    {
     "data": {
      "image/png": "[encoded data removed]",
      "text/plain": [
       "<Figure size 1080x504 with 3 Axes>"
      ]
     },
     "metadata": {},
     "output_type": "display_data"
    }
   ],
   "source": [
    "## Using the result above, we will test the poly SVC with the RBF SVC in 2D \n",
    "\n",
    "## one with poly, degree=2, C = 10\n",
    "svc_poly = SVC(kernel = 'poly', degree=2, C=10)\n",
    "\n",
    "## one with rbf kernel, C = 10\n",
    "svc_rbf = SVC(kernel = 'rbf', C = 10)\n",
    "\n",
    "## one with sigmoid, C = 10\n",
    "svc_sig = SVC(kernel = 'sigmoid', C = 10)\n",
    "\n",
    "## fit a model\n",
    "\n",
    "svc_poly.fit(clTrials_train[['Enrollment', 'Study Duration (months)']], clTrials_train.Completed_Status)\n",
    "svc_rbf.fit(clTrials_train[['Enrollment', 'Study Duration (months)']], clTrials_train.Completed_Status)\n",
    "svc_sig.fit(clTrials_train[['Enrollment', 'Study Duration (months)']], clTrials_train.Completed_Status)\n",
    "\n",
    "# get a grid of x1 values\n",
    "x1x1 = np.linspace(0, 1500, 100)\n",
    "\n",
    "# get a grid of x2 values\n",
    "x2x2 = np.linspace(0, 275, 100)\n",
    "\n",
    "# arrange them in a 2D grid\n",
    "X1X1, X2X2 = np.meshgrid(x1x1, x2x2)\n",
    "\n",
    "# make a cleaner array\n",
    "x1x2 = np.vstack([X1X1.ravel(), X2X2.ravel()]).T\n",
    "\n",
    "# get the value of the decision function for this grid\n",
    "Z_poly = svc_poly.decision_function(x1x2).reshape(X1X1.shape)\n",
    "Z_rbf = svc_rbf.decision_function(x1x2).reshape(X1X1.shape)\n",
    "Z_sig = svc_sig.decision_function(x1x2).reshape(X1X1.shape)\n",
    "\n",
    "\n",
    "## Make a figure\n",
    "\n",
    "fig,ax = plt.subplots(1,3,figsize=(15,7))\n",
    "\n",
    "## plot the training data\n",
    "ax[0].scatter(clTrials_train.loc[clTrials_train.Status=='Completed']['Enrollment'],\n",
    "        clTrials_train.loc[clTrials_train.Status =='Completed']['Study Duration (months)'],\n",
    "        c='blue',\n",
    "        s=60,\n",
    "        label=\"Not Completed\")\n",
    "\n",
    "ax[0].scatter(clTrials_train.loc[clTrials_train.Status !='Completed']['Enrollment'],\n",
    "        clTrials_train.loc[clTrials_train.Status !='Completed']['Study Duration (months)'],\n",
    "        c='orange',\n",
    "        s=60,\n",
    "        marker='v',\n",
    "        label=\"Completed\")\n",
    "\n",
    "ax[1].scatter(clTrials_train.loc[clTrials_train.Status=='Completed']['Enrollment'],\n",
    "        clTrials_train.loc[clTrials_train.Status =='Completed']['Study Duration (months)'],\n",
    "        c='blue',\n",
    "        s=60,\n",
    "        label=\"Not Completed\")\n",
    "\n",
    "ax[1].scatter(clTrials_train.loc[clTrials_train.Status !='Completed']['Enrollment'],\n",
    "        clTrials_train.loc[clTrials_train.Status !='Completed']['Study Duration (months)'],\n",
    "        c='orange',\n",
    "        s=60,\n",
    "        marker='v',\n",
    "        label=\"Completed\")\n",
    "\n",
    "ax[2].scatter(clTrials_train.loc[clTrials_train.Status=='Completed']['Enrollment'],\n",
    "        clTrials_train.loc[clTrials_train.Status =='Completed']['Study Duration (months)'],\n",
    "        c='blue',\n",
    "        s=60,\n",
    "        label=\"Not Completed\")\n",
    "\n",
    "ax[2].scatter(clTrials_train.loc[clTrials_train.Status !='Completed']['Enrollment'],\n",
    "        clTrials_train.loc[clTrials_train.Status !='Completed']['Study Duration (months)'],\n",
    "        c='orange',\n",
    "        s=60,\n",
    "        marker='v',\n",
    "        label=\"Completed\")\n",
    "\n",
    "\n",
    "## plot the separating line, and the margins\n",
    "ax[0].contour(X1X1, X2X2, Z_poly,\n",
    "              colors='k', levels=[-1,0,1], \n",
    "              alpha=.8, linestyles=['--','-','--'])\n",
    "ax[1].contour(X1X1, X2X2, Z_rbf,\n",
    "              colors='k', levels=[-1,0,1], \n",
    "              alpha=.8, linestyles=['--','-','--'])\n",
    "ax[2].contour(X1X1, X2X2, Z_sig,\n",
    "              colors='k', levels=[-1,0,1], \n",
    "              alpha=.8, linestyles=['--','-','--'])\n",
    "\n",
    "\n",
    "ax[0].set_title(\"Polynomial Kernel\", fontsize=20)\n",
    "ax[1].set_title(\"RBF Kernel\", fontsize=20)\n",
    "ax[2].set_title(\"Sigmoid Kernel\", fontsize=20)\n",
    "\n",
    "\n",
    "ax[0].set_xlabel(\"Enrollment\", fontsize=18)\n",
    "ax[1].set_xlabel(\"Enrollment\", fontsize=18)\n",
    "ax[2].set_xlabel(\"Enrollment\", fontsize=18)\n",
    "ax[0].set_ylabel(\"Study Duration (months)\", fontsize=18)\n",
    "ax[1].set_ylabel(\"Study Duration (months)\", fontsize=18)\n",
    "ax[2].set_ylabel(\"Study Duration (months)\", fontsize=18)\n",
    "\n",
    "plt.show()"
   ]
  },
  {
   "cell_type": "code",
   "execution_count": null,
   "metadata": {},
   "outputs": [],
   "source": [
    "Pred_svc_poly = svc_poly.predict(clTrials_test_modified[['Enrollment','Study Duration (months)']])\n",
    "Pred_svc_rbf = svc_rbf.predict(clTrials_test_modified[['Enrollment','Study Duration (months)']])\n",
    "Pred_svc_sig = svc_sig.predict(clTrials_test_modified[['Enrollment','Study Duration (months)']])"
   ]
  },
  {
   "cell_type": "code",
   "execution_count": 22,
   "metadata": {},
   "outputs": [
    {
     "name": "stdout",
     "output_type": "stream",
     "text": [
      "0.7273755656108597\n",
      "0.7274\n",
      "1.0\n",
      "0.8421905754312841\n",
      "0.5\n",
      "0.8085407239819005\n",
      "0.8412\n",
      "0.9082\n",
      "0.8734169886818336\n",
      "0.7253499999999999\n",
      "0.7893099547511312\n",
      "0.8553\n",
      "0.855\n",
      "0.8551499736888265\n",
      "0.73455\n"
     ]
    }
   ],
   "source": [
    "def train_SVC_con(y, ker, deg, features):\n",
    "    X = np.array([[list(clTrials_train[features[j]])[i] for j in range(len(features))] for i in range(len(clTrials_train[\"Enrollment\"]))])\n",
    "    if ker == 'poly':\n",
    "            svc_ker = SVC(kernel = 'poly', degree=deg, C=10)\n",
    "    else:\n",
    "            svc_ker = SVC(kernel = ker, C=10)\n",
    "\n",
    "    svc_ker.fit(X,y)\n",
    "    \n",
    "    return svc_ker.predict(X)\n",
    "\n",
    "def accuracy(preds):\n",
    "    c = 0\n",
    "    for j in range(len(preds)):\n",
    "        if preds[j] == TRAIN[j]:\n",
    "            c = c+1\n",
    "    return c/len(preds)\n",
    "\n",
    "def f1_score(recall, precision):\n",
    "    return 2*(recall)*precision/(recall+precision)\n",
    "\n",
    "\n",
    "## We also try the 3D version of the models adding in the minimum age feature\n",
    "y = np.array(clTrials_train[\"Completed_Status\"])\n",
    "\n",
    "features = ['Enrollment', 'Study Duration (months)', 'Minimum Age']\n",
    "## one with poly, degree=2, C = 10\n",
    "\n",
    "preds = train_SVC_con(y, 'poly',  2, features)\n",
    "TN_poly = confusion_matrix(y, preds)[0,0]\n",
    "FP_poly = confusion_matrix(y, preds)[0,1]\n",
    "FN_poly = confusion_matrix(y, preds)[1,0]\n",
    "TP_poly = confusion_matrix(y, preds)[1,1]\n",
    "\n",
    "ac_poly = accuracy(preds)\n",
    "pr_poly = np.round(TP_poly/(FP_poly + TP_poly), 4)\n",
    "re_poly = np.round(TP_poly/(FN_poly + TP_poly), 4)\n",
    "f1_poly = f1_score(re_poly, pr_poly)\n",
    "ROC_poly = (np.round(TP_poly/(TP_poly+FN_poly),4) + np.round(TN_poly/(TN_poly+FP_poly),4))/2\n",
    "print(ac_poly)\n",
    "print(pr_poly)\n",
    "print(re_poly)  \n",
    "print(f1_poly) \n",
    "print(ROC_poly)\n",
    "\n",
    "preds = train_SVC_con(y, 'rbf',  2, features)\n",
    "TN_rbf = confusion_matrix(y, preds)[0,0]\n",
    "FP_rbf = confusion_matrix(y, preds)[0,1]\n",
    "FN_rbf = confusion_matrix(y, preds)[1,0]\n",
    "TP_rbf = confusion_matrix(y, preds)[1,1]\n",
    "\n",
    "ac_rbf = accuracy(preds)\n",
    "pr_rbf = np.round(TP_rbf/(FP_rbf + TP_rbf), 4)\n",
    "re_rbf = np.round(TP_rbf/(FN_rbf + TP_rbf), 4)\n",
    "f1_rbf = f1_score(re_rbf, pr_rbf)\n",
    "ROC_rbf = (np.round(TP_rbf/(TP_rbf+FN_rbf),4) + np.round(TN_rbf/(TN_rbf+FP_rbf),4))/2\n",
    "print(ac_rbf)\n",
    "print(pr_rbf)\n",
    "print(re_rbf)\n",
    "print(f1_rbf)\n",
    "print(ROC_rbf)\n",
    "\n",
    "\n",
    "preds = train_SVC_con(y, 'sigmoid', 2, features)\n",
    "TN_sig = confusion_matrix(y, preds)[0,0]\n",
    "FP_sig = confusion_matrix(y, preds)[0,1]\n",
    "FN_sig = confusion_matrix(y, preds)[1,0]\n",
    "TP_sig = confusion_matrix(y, preds)[1,1]\n",
    "\n",
    "ac_sig = accuracy(preds)\n",
    "pr_sig = np.round(TP_sig/(FP_sig + TP_sig), 4)\n",
    "re_sig = np.round(TP_sig/(FN_sig + TP_sig), 4)\n",
    "f1_sig = f1_score(re_sig, pr_sig)\n",
    "ROC_sig = (np.round(TP_sig/(TP_sig+FN_sig),4) + np.round(TN_sig/(TN_sig+FP_sig),4))/2\n",
    "\n",
    "print(ac_sig)\n",
    "print(pr_sig)\n",
    "print(re_sig)  \n",
    "print(f1_sig) \n",
    "print(ROC_sig)\n"
   ]
  },
  {
   "cell_type": "code",
   "execution_count": null,
   "metadata": {},
   "outputs": [],
   "source": []
  }
 ],
 "metadata": {
  "kernelspec": {
   "display_name": "Python 3",
   "language": "python",
   "name": "python3"
  },
  "language_info": {
   "codemirror_mode": {
    "name": "ipython",
    "version": 3
   },
   "file_extension": ".py",
   "mimetype": "text/x-python",
   "name": "python",
   "nbconvert_exporter": "python",
   "pygments_lexer": "ipython3",
   "version": "3.7.7"
  }
 },
 "nbformat": 4,
 "nbformat_minor": 5
}
