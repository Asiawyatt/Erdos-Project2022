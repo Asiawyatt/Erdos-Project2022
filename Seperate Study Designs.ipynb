{
 "cells": [
  {
   "cell_type": "code",
   "execution_count": 1,
   "id": "511113e7-4921-481a-a151-26431cc38010",
   "metadata": {},
   "outputs": [],
   "source": [
    "import pandas as pd\n",
    "df = pd.read_csv(\"CancerClinicalTrialData.csv\")\n",
    "df1 = df.copy()\n",
    "Alloc =[]\n",
    "Interv = []\n",
    "Mask = []\n",
    "Purp = []"
   ]
  },
  {
   "cell_type": "code",
   "execution_count": 2,
   "id": "46d10c9e-6efc-4b86-8194-693eb938fb6e",
   "metadata": {},
   "outputs": [
    {
     "name": "stdout",
     "output_type": "stream",
     "text": [
      "6936\n"
     ]
    }
   ],
   "source": [
    "#Check if every entry of Study Designs is a string\n",
    "\n",
    "for i in range(len(df1['Study Designs'])):\n",
    "    if not isinstance(df1['Study Designs'][i], str):\n",
    "        print(i)"
   ]
  },
  {
   "cell_type": "markdown",
   "id": "91cbfa15-243b-4fb3-bf39-082f08f28e7e",
   "metadata": {},
   "source": [
    "The study 6937 has empty Study Design--see the csv file."
   ]
  },
  {
   "cell_type": "code",
   "execution_count": 3,
   "id": "027b0909-abf2-4a7f-b4fe-a6cf746bc734",
   "metadata": {
    "collapsed": true,
    "jupyter": {
     "outputs_hidden": true
    },
    "tags": []
   },
   "outputs": [
    {
     "name": "stdout",
     "output_type": "stream",
     "text": [
      "Intervention Model: Sequential Assignment|Masking: None (Open Label)|Primary Purpose: Treatment\n",
      "Intervention Model: Parallel Assignment|Masking: None (Open Label)|Primary Purpose: Other\n",
      "Intervention Model: Crossover Assignment|Masking: Triple (Participant, Investigator, Outcomes Assessor)|Primary Purpose: Treatment\n",
      "Intervention Model: Sequential Assignment|Masking: None (Open Label)|Primary Purpose: Treatment\n",
      "Masking: None (Open Label)|Primary Purpose: Treatment\n",
      "Masking: None (Open Label)|Primary Purpose: Treatment\n",
      "Intervention Model: Parallel Assignment|Masking: None (Open Label)|Primary Purpose: Treatment\n",
      "Intervention Model: Parallel Assignment|Masking: None (Open Label)|Primary Purpose: Treatment\n",
      "Masking: None (Open Label)\n",
      "Intervention Model: Sequential Assignment|Masking: None (Open Label)|Primary Purpose: Treatment\n",
      "Intervention Model: Sequential Assignment|Masking: None (Open Label)|Primary Purpose: Treatment\n",
      "Intervention Model: Sequential Assignment|Masking: None (Open Label)|Primary Purpose: Treatment\n",
      "Masking: None (Open Label)|Primary Purpose: Treatment\n",
      "Intervention Model: Parallel Assignment|Masking: None (Open Label)|Primary Purpose: Treatment\n",
      "Intervention Model: Sequential Assignment|Masking: None (Open Label)|Primary Purpose: Treatment\n",
      "Intervention Model: Sequential Assignment|Masking: None (Open Label)|Primary Purpose: Treatment\n",
      "Intervention Model: Parallel Assignment|Primary Purpose: Prevention\n",
      "Masking: None (Open Label)|Primary Purpose: Treatment\n",
      "Intervention Model: Crossover Assignment|Masking: Quadruple (Participant, Care Provider, Investigator, Outcomes Assessor)|Primary Purpose: Supportive Care\n",
      "Masking: None (Open Label)|Primary Purpose: Treatment\n",
      "Intervention Model: Sequential Assignment|Masking: None (Open Label)|Primary Purpose: Treatment\n",
      "Masking: None (Open Label)\n",
      "Intervention Model: Sequential Assignment|Masking: None (Open Label)|Primary Purpose: Treatment\n",
      "Intervention Model: Sequential Assignment|Masking: None (Open Label)|Primary Purpose: Treatment\n",
      "Intervention Model: Sequential Assignment|Masking: None (Open Label)|Primary Purpose: Treatment\n",
      "Intervention Model: Parallel Assignment|Masking: None (Open Label)|Primary Purpose: Treatment\n",
      "Intervention Model: Sequential Assignment|Masking: None (Open Label)|Primary Purpose: Treatment\n",
      "Intervention Model: Sequential Assignment|Masking: None (Open Label)|Primary Purpose: Treatment\n",
      "Primary Purpose: Treatment\n",
      "Intervention Model: Sequential Assignment|Masking: None (Open Label)|Primary Purpose: Treatment\n",
      "Masking: None (Open Label)|Primary Purpose: Other\n",
      "Intervention Model: Sequential Assignment|Masking: None (Open Label)|Primary Purpose: Other\n",
      "Masking: None (Open Label)|Primary Purpose: Treatment\n",
      "Intervention Model: Parallel Assignment|Masking: None (Open Label)|Primary Purpose: Treatment\n",
      "Masking: None (Open Label)|Primary Purpose: Treatment\n",
      "Intervention Model: Sequential Assignment|Masking: None (Open Label)|Primary Purpose: Treatment\n",
      "Masking: None (Open Label)|Primary Purpose: Other\n",
      "Masking: None (Open Label)|Primary Purpose: Treatment\n",
      "Intervention Model: Crossover Assignment|Masking: None (Open Label)|Primary Purpose: Other\n",
      "Intervention Model: Sequential Assignment|Masking: None (Open Label)|Primary Purpose: Treatment\n",
      "Intervention Model: Sequential Assignment|Masking: None (Open Label)|Primary Purpose: Treatment\n",
      "Masking: None (Open Label)|Primary Purpose: Treatment\n",
      "Intervention Model: Sequential Assignment|Masking: None (Open Label)|Primary Purpose: Treatment\n",
      "Intervention Model: Sequential Assignment|Masking: None (Open Label)|Primary Purpose: Treatment\n",
      "Intervention Model: Sequential Assignment|Masking: None (Open Label)|Primary Purpose: Treatment\n",
      "Intervention Model: Sequential Assignment|Masking: None (Open Label)|Primary Purpose: Treatment\n",
      "Intervention Model: Sequential Assignment|Masking: None (Open Label)|Primary Purpose: Treatment\n",
      "Intervention Model: Parallel Assignment|Masking: None (Open Label)|Primary Purpose: Treatment\n",
      "Intervention Model: Sequential Assignment|Masking: None (Open Label)|Primary Purpose: Treatment\n",
      "Intervention Model: Parallel Assignment|Masking: None (Open Label)|Primary Purpose: Supportive Care\n",
      "Intervention Model: Sequential Assignment|Masking: None (Open Label)|Primary Purpose: Other\n",
      "Intervention Model: Sequential Assignment|Masking: None (Open Label)|Primary Purpose: Treatment\n",
      "Intervention Model: Parallel Assignment|Masking: None (Open Label)|Primary Purpose: Treatment\n",
      "Masking: None (Open Label)\n",
      "Intervention Model: Parallel Assignment|Masking: None (Open Label)|Primary Purpose: Treatment\n",
      "Intervention Model: Sequential Assignment|Masking: None (Open Label)|Primary Purpose: Treatment\n",
      "Masking: None (Open Label)|Primary Purpose: Treatment\n",
      "Masking: None (Open Label)|Primary Purpose: Treatment\n",
      "Masking: None (Open Label)|Primary Purpose: Treatment\n",
      "nan\n",
      "Intervention Model: Parallel Assignment|Masking: None (Open Label)|Primary Purpose: Treatment\n",
      "Intervention Model: Parallel Assignment|Masking: None (Open Label)|Primary Purpose: Treatment\n",
      "Intervention Model: Sequential Assignment|Masking: None (Open Label)|Primary Purpose: Treatment\n",
      "Intervention Model: Sequential Assignment|Masking: None (Open Label)|Primary Purpose: Treatment\n",
      "Intervention Model: Parallel Assignment|Masking: None (Open Label)|Primary Purpose: Treatment\n",
      "Intervention Model: Parallel Assignment|Masking: None (Open Label)|Primary Purpose: Treatment\n",
      "Intervention Model: Sequential Assignment|Masking: None (Open Label)|Primary Purpose: Treatment\n",
      "Intervention Model: Sequential Assignment|Masking: None (Open Label)|Primary Purpose: Treatment\n",
      "Intervention Model: Parallel Assignment|Masking: None (Open Label)|Primary Purpose: Treatment\n",
      "Masking: None (Open Label)|Primary Purpose: Treatment\n",
      "Masking: None (Open Label)|Primary Purpose: Treatment\n",
      "Intervention Model: Sequential Assignment|Masking: None (Open Label)|Primary Purpose: Treatment\n",
      "Intervention Model: Sequential Assignment|Masking: None (Open Label)|Primary Purpose: Treatment\n",
      "Intervention Model: Sequential Assignment|Masking: None (Open Label)|Primary Purpose: Treatment\n",
      "Masking: None (Open Label)|Primary Purpose: Treatment\n",
      "Intervention Model: Sequential Assignment|Masking: None (Open Label)|Primary Purpose: Treatment\n",
      "Masking: None (Open Label)|Primary Purpose: Treatment\n",
      "Masking: None (Open Label)|Primary Purpose: Treatment\n",
      "Intervention Model: Sequential Assignment|Masking: None (Open Label)|Primary Purpose: Treatment\n",
      "Masking: None (Open Label)|Primary Purpose: Treatment\n",
      "Intervention Model: Parallel Assignment|Masking: None (Open Label)|Primary Purpose: Treatment\n",
      "Intervention Model: Sequential Assignment|Masking: None (Open Label)|Primary Purpose: Treatment\n",
      "Masking: None (Open Label)|Primary Purpose: Treatment\n",
      "Intervention Model: Sequential Assignment|Masking: None (Open Label)|Primary Purpose: Treatment\n",
      "Intervention Model: Sequential Assignment|Masking: None (Open Label)|Primary Purpose: Treatment\n",
      "Intervention Model: Sequential Assignment|Masking: None (Open Label)|Primary Purpose: Treatment\n",
      "Masking: None (Open Label)|Primary Purpose: Treatment\n",
      "Intervention Model: Sequential Assignment|Masking: None (Open Label)|Primary Purpose: Treatment\n",
      "Masking: None (Open Label)|Primary Purpose: Treatment\n",
      "Masking: None (Open Label)|Primary Purpose: Treatment\n",
      "Masking: None (Open Label)|Primary Purpose: Treatment\n",
      "Intervention Model: Sequential Assignment|Masking: None (Open Label)|Primary Purpose: Treatment\n",
      "Intervention Model: Sequential Assignment|Masking: None (Open Label)|Primary Purpose: Treatment\n",
      "Intervention Model: Parallel Assignment|Masking: None (Open Label)|Primary Purpose: Treatment\n"
     ]
    }
   ],
   "source": [
    "#Check if Allocation is always written the same way in Study Designs\n",
    "for item in df1['Study Designs']:\n",
    "    if isinstance(item, str):\n",
    "        if 'Allocation: ' not in item:\n",
    "            print(item)\n",
    "    else:\n",
    "        print(item)"
   ]
  },
  {
   "cell_type": "code",
   "execution_count": 4,
   "id": "15ccca86-6d74-4c38-8dd1-4864c4065226",
   "metadata": {},
   "outputs": [],
   "source": [
    "# Seperate the allocation info from Study Desings\n",
    "def create_alloc():\n",
    "    for item in df1['Study Designs']:\n",
    "        if isinstance(item, str):\n",
    "            if 'Allocation' in item:\n",
    "                Alloc_splitted = item.split('Allocation: ')\n",
    "                Alloc_splitted_more = Alloc_splitted[1].split('|')\n",
    "                Alloc.append(Alloc_splitted_more[0])\n",
    "            else:\n",
    "                Alloc.append('N/A')\n",
    "        else: \n",
    "            Alloc.append('N/A')\n"
   ]
  },
  {
   "cell_type": "code",
   "execution_count": 5,
   "id": "8061fa0c-bdac-4162-b75e-dec393284626",
   "metadata": {},
   "outputs": [
    {
     "data": {
      "text/plain": [
       "'N/A'"
      ]
     },
     "execution_count": 5,
     "metadata": {},
     "output_type": "execute_result"
    }
   ],
   "source": [
    "create_alloc()\n",
    "Alloc[6936]"
   ]
  },
  {
   "cell_type": "code",
   "execution_count": 7,
   "id": "64eb60ea-f4d1-4046-8080-834a7713610d",
   "metadata": {
    "collapsed": true,
    "jupyter": {
     "outputs_hidden": true
    },
    "tags": []
   },
   "outputs": [
    {
     "name": "stdout",
     "output_type": "stream",
     "text": [
      "Allocation: Non-Randomized|Masking: None (Open Label)|Primary Purpose: Treatment\n",
      "Allocation: N/A|Masking: None (Open Label)|Primary Purpose: Treatment\n",
      "Allocation: Randomized|Masking: None (Open Label)|Primary Purpose: Treatment\n",
      "Allocation: Non-Randomized|Masking: None (Open Label)|Primary Purpose: Treatment\n",
      "Allocation: Randomized|Masking: Quadruple (Participant, Care Provider, Investigator, Outcomes Assessor)|Primary Purpose: Treatment\n",
      "Masking: None (Open Label)|Primary Purpose: Treatment\n",
      "Allocation: Randomized|Masking: None (Open Label)|Primary Purpose: Treatment\n",
      "Masking: None (Open Label)|Primary Purpose: Treatment\n",
      "Allocation: Randomized|Masking: Double (Participant, Investigator)|Primary Purpose: Treatment\n",
      "Allocation: Non-Randomized|Masking: None (Open Label)|Primary Purpose: Basic Science\n",
      "Allocation: Non-Randomized|Masking: None (Open Label)|Primary Purpose: Treatment\n",
      "Allocation: Randomized|Masking: None (Open Label)|Primary Purpose: Treatment\n",
      "Masking: None (Open Label)\n",
      "Allocation: N/A|Masking: None (Open Label)|Primary Purpose: Treatment\n",
      "Allocation: Non-Randomized|Masking: None (Open Label)|Primary Purpose: Treatment\n",
      "Allocation: Non-Randomized|Masking: None (Open Label)|Primary Purpose: Treatment\n",
      "Allocation: N/A|Masking: None (Open Label)|Primary Purpose: Treatment\n",
      "Allocation: Randomized|Masking: Double (Participant, Investigator)|Primary Purpose: Treatment\n",
      "Allocation: Non-Randomized|Masking: None (Open Label)|Primary Purpose: Basic Science\n",
      "Masking: None (Open Label)|Primary Purpose: Treatment\n",
      "Allocation: Non-Randomized|Masking: None (Open Label)|Primary Purpose: Treatment\n",
      "Masking: None (Open Label)|Primary Purpose: Treatment\n",
      "Allocation: Non-Randomized|Masking: None (Open Label)|Primary Purpose: Treatment\n",
      "Allocation: Non-Randomized|Masking: None (Open Label)|Primary Purpose: Treatment\n",
      "Masking: None (Open Label)|Primary Purpose: Treatment\n",
      "Allocation: Non-Randomized|Masking: None (Open Label)|Primary Purpose: Treatment\n",
      "Masking: None (Open Label)\n",
      "Allocation: Non-Randomized|Masking: None (Open Label)|Primary Purpose: Treatment\n",
      "Primary Purpose: Treatment\n",
      "Allocation: Non-Randomized|Masking: None (Open Label)|Primary Purpose: Treatment\n",
      "Allocation: Non-Randomized|Masking: None (Open Label)|Primary Purpose: Treatment\n",
      "Allocation: Non-Randomized|Masking: None (Open Label)|Primary Purpose: Treatment\n",
      "Masking: None (Open Label)|Primary Purpose: Other\n",
      "Allocation: Randomized|Masking: None (Open Label)|Primary Purpose: Treatment\n",
      "Masking: None (Open Label)|Primary Purpose: Treatment\n",
      "Allocation: Randomized|Masking: None (Open Label)|Primary Purpose: Treatment\n",
      "Masking: None (Open Label)|Primary Purpose: Treatment\n",
      "Allocation: Non-Randomized|Masking: None (Open Label)|Primary Purpose: Treatment\n",
      "Allocation: Non-Randomized|Masking: None (Open Label)|Primary Purpose: Treatment\n",
      "Allocation: N/A|Masking: None (Open Label)|Primary Purpose: Treatment\n",
      "Allocation: Non-Randomized|Masking: None (Open Label)|Primary Purpose: Treatment\n",
      "Allocation: Non-Randomized|Masking: None (Open Label)|Primary Purpose: Treatment\n",
      "Masking: None (Open Label)|Primary Purpose: Other\n",
      "Masking: None (Open Label)|Primary Purpose: Treatment\n",
      "Masking: None (Open Label)|Primary Purpose: Treatment\n",
      "Allocation: Non-Randomized|Masking: None (Open Label)|Primary Purpose: Treatment\n",
      "Allocation: Randomized|Masking: Quadruple (Participant, Care Provider, Investigator, Outcomes Assessor)|Primary Purpose: Treatment\n",
      "Allocation: Non-Randomized|Masking: None (Open Label)|Primary Purpose: Treatment\n",
      "Allocation: Randomized|Masking: Quadruple (Participant, Care Provider, Investigator, Outcomes Assessor)|Primary Purpose: Treatment\n",
      "Allocation: Non-Randomized|Masking: None (Open Label)|Primary Purpose: Treatment\n",
      "Allocation: Non-Randomized|Masking: None (Open Label)|Primary Purpose: Treatment\n",
      "Allocation: Non-Randomized|Masking: None (Open Label)|Primary Purpose: Treatment\n",
      "Masking: None (Open Label)\n",
      "Allocation: Randomized|Masking: None (Open Label)|Primary Purpose: Treatment\n",
      "Masking: None (Open Label)|Primary Purpose: Treatment\n",
      "Masking: None (Open Label)|Primary Purpose: Treatment\n",
      "Allocation: Non-Randomized|Masking: None (Open Label)|Primary Purpose: Treatment\n",
      "Masking: None (Open Label)|Primary Purpose: Treatment\n",
      "nan\n",
      "Allocation: Non-Randomized|Masking: None (Open Label)|Primary Purpose: Treatment\n",
      "Allocation: Non-Randomized|Masking: None (Open Label)|Primary Purpose: Treatment\n",
      "Masking: None (Open Label)|Primary Purpose: Treatment\n",
      "Allocation: Non-Randomized|Masking: None (Open Label)|Primary Purpose: Treatment\n",
      "Allocation: Randomized|Masking: None (Open Label)|Primary Purpose: Treatment\n",
      "Masking: None (Open Label)|Primary Purpose: Treatment\n",
      "Allocation: Randomized|Masking: None (Open Label)|Primary Purpose: Treatment\n",
      "Allocation: Randomized|Masking: None (Open Label)|Primary Purpose: Treatment\n",
      "Masking: None (Open Label)|Primary Purpose: Treatment\n",
      "Allocation: Non-Randomized|Masking: None (Open Label)|Primary Purpose: Basic Science\n",
      "Masking: None (Open Label)|Primary Purpose: Treatment\n",
      "Masking: None (Open Label)|Primary Purpose: Treatment\n",
      "Masking: None (Open Label)|Primary Purpose: Treatment\n",
      "Masking: None (Open Label)|Primary Purpose: Treatment\n",
      "Allocation: Randomized|Masking: None (Open Label)|Primary Purpose: Treatment\n",
      "Masking: None (Open Label)|Primary Purpose: Treatment\n",
      "Masking: None (Open Label)|Primary Purpose: Treatment\n",
      "Masking: None (Open Label)|Primary Purpose: Treatment\n",
      "Masking: None (Open Label)|Primary Purpose: Treatment\n",
      "Allocation: Non-Randomized|Masking: None (Open Label)|Primary Purpose: Treatment\n",
      "Allocation: Randomized|Masking: None (Open Label)|Primary Purpose: Treatment\n",
      "Allocation: Randomized|Masking: None (Open Label)|Primary Purpose: Treatment\n",
      "Allocation: Randomized|Masking: None (Open Label)|Primary Purpose: Treatment\n",
      "Allocation: N/A|Masking: None (Open Label)|Primary Purpose: Treatment\n"
     ]
    }
   ],
   "source": [
    "#Check if Intervention Model is always written the same way in Study Designs\n",
    "\n",
    "for item in df1['Study Designs']:\n",
    "    if isinstance(item, str):\n",
    "        if 'Intervention Model: ' not in item:\n",
    "            print(item)\n",
    "    else:\n",
    "        print(item)"
   ]
  },
  {
   "cell_type": "code",
   "execution_count": 8,
   "id": "e2cdef34-1128-40cb-a8fe-32d69b2d605d",
   "metadata": {},
   "outputs": [],
   "source": [
    "# Seperate the allocation info from Study Desings\n",
    "\n",
    "def create_interv():\n",
    "    for item in df1['Study Designs']:\n",
    "        if isinstance(item, str):\n",
    "            if 'Intervention Model' in item:\n",
    "                Interv_splitted = item.split('Intervention Model: ')\n",
    "                Interv_splitted_more = Interv_splitted[1].split('|')\n",
    "                Interv.append(Interv_splitted_more[0])\n",
    "            else:\n",
    "                Interv.append('N/A')\n",
    "        else: \n",
    "            Interv.append('N/A')\n"
   ]
  },
  {
   "cell_type": "code",
   "execution_count": 9,
   "id": "39227c61-cd3d-431d-abc8-373fd5f553b0",
   "metadata": {},
   "outputs": [
    {
     "data": {
      "text/plain": [
       "'N/A'"
      ]
     },
     "execution_count": 9,
     "metadata": {},
     "output_type": "execute_result"
    }
   ],
   "source": [
    "create_interv()\n",
    "Interv[6936]"
   ]
  },
  {
   "cell_type": "code",
   "execution_count": 10,
   "id": "3546ee67-8855-47da-8431-b87d07507cd5",
   "metadata": {
    "collapsed": true,
    "jupyter": {
     "outputs_hidden": true
    },
    "tags": []
   },
   "outputs": [
    {
     "name": "stdout",
     "output_type": "stream",
     "text": [
      "Allocation: N/A|Intervention Model: Single Group Assignment\n",
      "Allocation: N/A|Intervention Model: Single Group Assignment|Primary Purpose: Diagnostic\n",
      "Allocation: N/A|Intervention Model: Single Group Assignment|Primary Purpose: Treatment\n",
      "Allocation: Randomized|Intervention Model: Single Group Assignment|Primary Purpose: Treatment\n",
      "Allocation: N/A|Intervention Model: Single Group Assignment|Primary Purpose: Basic Science\n",
      "Intervention Model: Parallel Assignment|Primary Purpose: Prevention\n",
      "Primary Purpose: Treatment\n",
      "Allocation: Randomized|Intervention Model: Parallel Assignment|Primary Purpose: Treatment\n",
      "Allocation: Randomized|Intervention Model: Parallel Assignment|Primary Purpose: Treatment\n",
      "Allocation: N/A|Intervention Model: Single Group Assignment|Primary Purpose: Diagnostic\n",
      "Allocation: Non-Randomized|Intervention Model: Parallel Assignment|Primary Purpose: Treatment\n",
      "nan\n",
      "Allocation: N/A|Intervention Model: Single Group Assignment|Primary Purpose: Treatment\n"
     ]
    }
   ],
   "source": [
    "#Check if Masking is always written the same way in Study Designs\n",
    "\n",
    "for item in df1['Study Designs']:\n",
    "    if isinstance(item, str):\n",
    "        if 'Masking: ' not in item:\n",
    "            print(item)\n",
    "    else:\n",
    "        print(item)"
   ]
  },
  {
   "cell_type": "code",
   "execution_count": 11,
   "id": "81831eda-43ab-400c-92be-d6df5b18f7ad",
   "metadata": {},
   "outputs": [],
   "source": [
    "# Seperate the masking info from Study Desings\n",
    "\n",
    "def create_mask():\n",
    "    for item in df1['Study Designs']:\n",
    "        if isinstance(item, str):\n",
    "            if 'Masking' in item:\n",
    "                Mask_splitted = item.split('Masking: ')\n",
    "                Mask_splitted_more = Mask_splitted[1].split('|')\n",
    "                Mask.append(Mask_splitted_more[0])\n",
    "            else:\n",
    "                Mask.append('N/A')\n",
    "        else: \n",
    "            Mask.append('N/A')\n"
   ]
  },
  {
   "cell_type": "code",
   "execution_count": 12,
   "id": "ecec96f2-9467-42c5-ba7b-0cb6134442f4",
   "metadata": {},
   "outputs": [
    {
     "data": {
      "text/plain": [
       "'N/A'"
      ]
     },
     "execution_count": 12,
     "metadata": {},
     "output_type": "execute_result"
    }
   ],
   "source": [
    "create_mask()\n",
    "Mask[6936]"
   ]
  },
  {
   "cell_type": "code",
   "execution_count": 13,
   "id": "0bd734b2-46cb-4a13-b9a9-b8738710ba10",
   "metadata": {
    "collapsed": true,
    "jupyter": {
     "outputs_hidden": true
    },
    "tags": []
   },
   "outputs": [
    {
     "name": "stdout",
     "output_type": "stream",
     "text": [
      "Allocation: N/A|Intervention Model: Single Group Assignment\n",
      "Allocation: Randomized|Intervention Model: Parallel Assignment|Masking: None (Open Label)\n",
      "Allocation: N/A|Intervention Model: Single Group Assignment|Masking: None (Open Label)\n",
      "Allocation: Randomized|Intervention Model: Parallel Assignment|Masking: None (Open Label)\n",
      "Masking: None (Open Label)\n",
      "Allocation: N/A|Intervention Model: Single Group Assignment|Masking: None (Open Label)\n",
      "Allocation: Randomized|Intervention Model: Parallel Assignment|Masking: Single (Participant)\n",
      "Allocation: Randomized|Intervention Model: Crossover Assignment|Masking: None (Open Label)\n",
      "Allocation: Non-Randomized|Intervention Model: Single Group Assignment|Masking: None (Open Label)\n",
      "Allocation: N/A|Intervention Model: Single Group Assignment|Masking: None (Open Label)\n",
      "Allocation: Non-Randomized|Intervention Model: Parallel Assignment|Masking: None (Open Label)\n",
      "Allocation: Randomized|Intervention Model: Parallel Assignment|Masking: None (Open Label)\n",
      "Masking: None (Open Label)\n",
      "Allocation: Non-Randomized|Intervention Model: Parallel Assignment|Masking: None (Open Label)\n",
      "Allocation: Randomized|Intervention Model: Parallel Assignment|Masking: Double (Participant, Investigator)\n",
      "Allocation: N/A|Intervention Model: Single Group Assignment|Masking: None (Open Label)\n",
      "Allocation: Randomized|Intervention Model: Parallel Assignment|Masking: None (Open Label)\n",
      "Allocation: Randomized|Intervention Model: Parallel Assignment|Masking: Single (Outcomes Assessor)\n",
      "Allocation: N/A|Intervention Model: Single Group Assignment|Masking: None (Open Label)\n",
      "Allocation: N/A|Intervention Model: Single Group Assignment|Masking: None (Open Label)\n",
      "Allocation: N/A|Intervention Model: Single Group Assignment|Masking: None (Open Label)\n",
      "Allocation: N/A|Intervention Model: Single Group Assignment|Masking: None (Open Label)\n",
      "Allocation: Randomized|Intervention Model: Parallel Assignment|Masking: None (Open Label)\n",
      "Allocation: N/A|Intervention Model: Single Group Assignment|Masking: Single (Participant)\n",
      "Allocation: Randomized|Intervention Model: Parallel Assignment|Masking: Triple (Participant, Care Provider, Outcomes Assessor)\n",
      "Allocation: Non-Randomized|Intervention Model: Single Group Assignment|Masking: Single (Participant)\n",
      "Allocation: N/A|Intervention Model: Single Group Assignment|Masking: None (Open Label)\n",
      "Allocation: Randomized|Intervention Model: Parallel Assignment|Masking: None (Open Label)\n",
      "Allocation: Randomized|Intervention Model: Parallel Assignment|Masking: None (Open Label)\n",
      "Allocation: N/A|Intervention Model: Single Group Assignment|Masking: None (Open Label)\n",
      "Allocation: Non-Randomized|Intervention Model: Single Group Assignment|Masking: None (Open Label)\n",
      "Allocation: Randomized|Intervention Model: Parallel Assignment|Masking: Double (Participant, Investigator)\n",
      "Allocation: Randomized|Intervention Model: Parallel Assignment|Masking: None (Open Label)\n",
      "Allocation: Randomized|Intervention Model: Parallel Assignment|Masking: Double (Participant, Investigator)\n",
      "Allocation: N/A|Intervention Model: Single Group Assignment|Masking: None (Open Label)\n",
      "Allocation: Randomized|Intervention Model: Parallel Assignment|Masking: None (Open Label)\n",
      "Masking: None (Open Label)\n",
      "nan\n",
      "Allocation: N/A|Intervention Model: Single Group Assignment|Masking: None (Open Label)\n",
      "Allocation: Non-Randomized|Intervention Model: Single Group Assignment|Masking: None (Open Label)\n",
      "Allocation: Randomized|Intervention Model: Parallel Assignment|Masking: Quadruple (Participant, Care Provider, Investigator, Outcomes Assessor)\n",
      "Allocation: Non-Randomized|Intervention Model: Single Group Assignment|Masking: None (Open Label)\n",
      "Allocation: Randomized|Intervention Model: Parallel Assignment|Masking: None (Open Label)\n",
      "Allocation: Randomized|Intervention Model: Parallel Assignment|Masking: None (Open Label)\n"
     ]
    }
   ],
   "source": [
    "#Check if Primary Purpose is always written the same way in Study Designs\n",
    "\n",
    "for item in df1['Study Designs']:\n",
    "    if isinstance(item, str):\n",
    "        if 'Primary Purpose: ' not in item:\n",
    "            print(item)\n",
    "    else:\n",
    "        print(item)"
   ]
  },
  {
   "cell_type": "code",
   "execution_count": 14,
   "id": "e6ce8ea8-18f3-4c11-96d2-a15dadf2dc56",
   "metadata": {},
   "outputs": [],
   "source": [
    "# Seperate the primary purpose info from Study Desings\n",
    "\n",
    "def create_purp():\n",
    "    for item in df1['Study Designs']:\n",
    "        if isinstance(item, str):\n",
    "            if 'Primary Purpose' in item:\n",
    "                Purp_splitted = item.split('Primary Purpose: ')\n",
    "                Purp_splitted_more = Purp_splitted[1].split('|')\n",
    "                Purp.append(Purp_splitted_more[0])\n",
    "            else:\n",
    "                Purp.append('N/A')\n",
    "        else: \n",
    "            Purp.append('N/A')\n"
   ]
  },
  {
   "cell_type": "code",
   "execution_count": 15,
   "id": "a8fd60c8-efe3-422c-a1b8-e6923f148894",
   "metadata": {},
   "outputs": [
    {
     "data": {
      "text/plain": [
       "'N/A'"
      ]
     },
     "execution_count": 15,
     "metadata": {},
     "output_type": "execute_result"
    }
   ],
   "source": [
    "create_purp()\n",
    "Purp[6936]"
   ]
  }
 ],
 "metadata": {
  "kernelspec": {
   "display_name": "Python 3 (ipykernel)",
   "language": "python",
   "name": "python3"
  },
  "language_info": {
   "codemirror_mode": {
    "name": "ipython",
    "version": 3
   },
   "file_extension": ".py",
   "mimetype": "text/x-python",
   "name": "python",
   "nbconvert_exporter": "python",
   "pygments_lexer": "ipython3",
   "version": "3.10.4"
  }
 },
 "nbformat": 4,
 "nbformat_minor": 5
}
