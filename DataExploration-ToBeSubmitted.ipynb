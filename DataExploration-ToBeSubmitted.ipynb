{
 "cells": [
  {
   "cell_type": "code",
   "execution_count": 3,
   "metadata": {},
   "outputs": [],
   "source": [
    "import pandas as pd\n",
    "import numpy as np\n",
    "from collections import Counter\n",
    "import matplotlib.pyplot as plt\n",
    "from seaborn import set_style\n",
    "from sklearn.model_selection import train_test_split\n",
    "from sklearn.linear_model import LinearRegression\n",
    "from sklearn.neighbors import KNeighborsClassifier\n",
    "from sklearn import tree\n",
    "from sklearn.tree import DecisionTreeClassifier\n",
    "from mpl_toolkits import mplot3d\n",
    "set_style(\"darkgrid\")"
   ]
  },
  {
   "cell_type": "code",
   "execution_count": 4,
   "metadata": {},
   "outputs": [],
   "source": [
    "clTrials = pd.read_csv(\"CancerClinicalTrialData.csv\")"
   ]
  },
  {
   "cell_type": "code",
   "execution_count": 5,
   "metadata": {},
   "outputs": [
    {
     "data": {
      "text/plain": [
       "<bound method Counter.most_common of Counter({'Industry': 4053, 'Other': 2515, 'Other|Industry': 1851, 'Other|NIH': 1471, 'NIH': 786, 'Industry|Other': 146, 'Other|NIH|Industry': 117, 'NIH|Other': 76, 'Other|Industry|NIH': 42, 'Other|U.S. Fed': 41, 'U.S. Fed': 33, 'U.S. Fed|Other': 13, 'Industry|NIH': 13, 'Other|U.S. Fed|Industry': 8, 'Other|Industry|U.S. Fed': 7, 'NIH|Industry': 6, 'Other|U.S. Fed|NIH': 4, 'Industry|Other|U.S. Fed': 2, 'Industry|Other|NIH': 2, 'Industry|NIH|Other': 2, 'U.S. Fed|Industry': 2, 'NIH|Other|Industry': 2, 'U.S. Fed|NIH|Other': 1, 'U.S. Fed|NIH': 1, 'NIH|Other|U.S. Fed': 1, 'Industry|U.S. Fed': 1})>"
      ]
     },
     "execution_count": 5,
     "metadata": {},
     "output_type": "execute_result"
    }
   ],
   "source": [
    "Counter(clTrials[\"Funded Bys\"]).most_common"
   ]
  },
  {
   "cell_type": "code",
   "execution_count": 6,
   "metadata": {},
   "outputs": [
    {
     "data": {
      "text/html": [
       "<div>\n",
       "<style scoped>\n",
       "    .dataframe tbody tr th:only-of-type {\n",
       "        vertical-align: middle;\n",
       "    }\n",
       "\n",
       "    .dataframe tbody tr th {\n",
       "        vertical-align: top;\n",
       "    }\n",
       "\n",
       "    .dataframe thead th {\n",
       "        text-align: right;\n",
       "    }\n",
       "</style>\n",
       "<table border=\"1\" class=\"dataframe\">\n",
       "  <thead>\n",
       "    <tr style=\"text-align: right;\">\n",
       "      <th></th>\n",
       "      <th>Rank</th>\n",
       "      <th>Title</th>\n",
       "      <th>Status</th>\n",
       "      <th>Study Results</th>\n",
       "      <th>Conditions</th>\n",
       "      <th>Interventions</th>\n",
       "      <th>Outcome Measures</th>\n",
       "      <th>Gender</th>\n",
       "      <th>Age</th>\n",
       "      <th>Phases</th>\n",
       "      <th>Enrollment</th>\n",
       "      <th>Funded Bys</th>\n",
       "      <th>Study Designs</th>\n",
       "      <th>Start Date</th>\n",
       "      <th>Completion Date</th>\n",
       "      <th>Study Duration (months)</th>\n",
       "      <th>Locations</th>\n",
       "      <th>URL</th>\n",
       "    </tr>\n",
       "  </thead>\n",
       "  <tbody>\n",
       "    <tr>\n",
       "      <th>0</th>\n",
       "      <td>1</td>\n",
       "      <td>Immediate-Release Oxycodone Capsules Study in ...</td>\n",
       "      <td>Completed</td>\n",
       "      <td>Has Results</td>\n",
       "      <td>Cancer</td>\n",
       "      <td>Drug: Oxycodone|Drug: Morphine</td>\n",
       "      <td>Numerical Rating Scale (NRS)|The Average Dose ...</td>\n",
       "      <td>All</td>\n",
       "      <td>18 Years to 80 Years   (Adult, Older Adult)</td>\n",
       "      <td>Phase 3</td>\n",
       "      <td>242</td>\n",
       "      <td>Industry</td>\n",
       "      <td>Allocation: Randomized|Intervention Model: Par...</td>\n",
       "      <td>Jan-11</td>\n",
       "      <td>Jul-12</td>\n",
       "      <td>18</td>\n",
       "      <td>NaN</td>\n",
       "      <td>https://ClinicalTrials.gov/show/NCT01675622</td>\n",
       "    </tr>\n",
       "    <tr>\n",
       "      <th>1</th>\n",
       "      <td>2</td>\n",
       "      <td>A Phase II Study of Nivolumab in Combination W...</td>\n",
       "      <td>Completed</td>\n",
       "      <td>Has Results</td>\n",
       "      <td>Breast Cancer</td>\n",
       "      <td>Drug: Nivolumab|Drug: Cabozantinib</td>\n",
       "      <td>Overall Response Rate|Number of Participants W...</td>\n",
       "      <td>Female</td>\n",
       "      <td>18 Years and older   (Adult, Older Adult)</td>\n",
       "      <td>Phase 2</td>\n",
       "      <td>18</td>\n",
       "      <td>Other|Industry</td>\n",
       "      <td>Allocation: N/A|Intervention Model: Single Gro...</td>\n",
       "      <td>30-Nov-17</td>\n",
       "      <td>30-Aug-19</td>\n",
       "      <td>21</td>\n",
       "      <td>Dana-Farber Cancer Institute, Boston, Massachu...</td>\n",
       "      <td>https://ClinicalTrials.gov/show/NCT03316586</td>\n",
       "    </tr>\n",
       "    <tr>\n",
       "      <th>2</th>\n",
       "      <td>3</td>\n",
       "      <td>Radiation, Cetuximab and Pemetrexed With or Wi...</td>\n",
       "      <td>Completed</td>\n",
       "      <td>Has Results</td>\n",
       "      <td>Cancer</td>\n",
       "      <td>Drug: Bevacizumab|Drug: Cetuximab|Drug: Pemetr...</td>\n",
       "      <td>2-year Progression-free Survival (PFS)|2-year ...</td>\n",
       "      <td>All</td>\n",
       "      <td>18 Years and older   (Adult, Older Adult)</td>\n",
       "      <td>Phase 2</td>\n",
       "      <td>80</td>\n",
       "      <td>Other|Industry</td>\n",
       "      <td>Allocation: Randomized|Intervention Model: Sin...</td>\n",
       "      <td>Oct-08</td>\n",
       "      <td>Sep-14</td>\n",
       "      <td>71</td>\n",
       "      <td>University of Pittsburgh Medical Center, Pitts...</td>\n",
       "      <td>https://ClinicalTrials.gov/show/NCT00703976</td>\n",
       "    </tr>\n",
       "    <tr>\n",
       "      <th>3</th>\n",
       "      <td>4</td>\n",
       "      <td>Fulvestrant Plus Enzalutamide in ER+/Her2- Adv...</td>\n",
       "      <td>Completed</td>\n",
       "      <td>Has Results</td>\n",
       "      <td>Breast Cancer</td>\n",
       "      <td>Drug: Fulvestrant with Enzalutamide</td>\n",
       "      <td>Clinical Benefit Rate of the Combination of En...</td>\n",
       "      <td>Female</td>\n",
       "      <td>18 Years to 100 Years   (Adult, Older Adult)</td>\n",
       "      <td>Phase 2</td>\n",
       "      <td>32</td>\n",
       "      <td>Other|U.S. Fed</td>\n",
       "      <td>Allocation: N/A|Intervention Model: Single Gro...</td>\n",
       "      <td>6-Jul-17</td>\n",
       "      <td>10-Apr-20</td>\n",
       "      <td>33</td>\n",
       "      <td>University of Colorado, Aurora, Colorado, Unit...</td>\n",
       "      <td>https://ClinicalTrials.gov/show/NCT02953860</td>\n",
       "    </tr>\n",
       "    <tr>\n",
       "      <th>4</th>\n",
       "      <td>5</td>\n",
       "      <td>PROspective Non-interventional Open laBEl Tria...</td>\n",
       "      <td>Completed</td>\n",
       "      <td>Has Results</td>\n",
       "      <td>Cancer</td>\n",
       "      <td>Drug: Oxycodone/Naloxone</td>\n",
       "      <td>Change in Numeric Rating Scales (NRS) Score|Ch...</td>\n",
       "      <td>All</td>\n",
       "      <td>20 Years and older   (Adult, Older Adult)</td>\n",
       "      <td>Phase 4</td>\n",
       "      <td>359</td>\n",
       "      <td>Industry</td>\n",
       "      <td>Allocation: N/A|Intervention Model: Single Gro...</td>\n",
       "      <td>Jul-12</td>\n",
       "      <td>Apr-14</td>\n",
       "      <td>21</td>\n",
       "      <td>13 sites including Yeungnam University Medical...</td>\n",
       "      <td>https://ClinicalTrials.gov/show/NCT01719757</td>\n",
       "    </tr>\n",
       "    <tr>\n",
       "      <th>...</th>\n",
       "      <td>...</td>\n",
       "      <td>...</td>\n",
       "      <td>...</td>\n",
       "      <td>...</td>\n",
       "      <td>...</td>\n",
       "      <td>...</td>\n",
       "      <td>...</td>\n",
       "      <td>...</td>\n",
       "      <td>...</td>\n",
       "      <td>...</td>\n",
       "      <td>...</td>\n",
       "      <td>...</td>\n",
       "      <td>...</td>\n",
       "      <td>...</td>\n",
       "      <td>...</td>\n",
       "      <td>...</td>\n",
       "      <td>...</td>\n",
       "      <td>...</td>\n",
       "    </tr>\n",
       "    <tr>\n",
       "      <th>11191</th>\n",
       "      <td>11192</td>\n",
       "      <td>Safety and Efficacy of ATIR101 as Adjunctive T...</td>\n",
       "      <td>Terminated</td>\n",
       "      <td>Has Results</td>\n",
       "      <td>Acute Myeloid Leukemia|Acute Lymphoblastic Leu...</td>\n",
       "      <td>Biological: ATIR101|Drug: Cyclophosphamide|Pro...</td>\n",
       "      <td>Graft-versus-host Disease-free, Relapse-free S...</td>\n",
       "      <td>All</td>\n",
       "      <td>18 Years to 70 Years   (Adult, Older Adult)</td>\n",
       "      <td>Phase 3</td>\n",
       "      <td>63</td>\n",
       "      <td>Industry</td>\n",
       "      <td>Allocation: Randomized|Intervention Model: Par...</td>\n",
       "      <td>29-Nov-17</td>\n",
       "      <td>17-Dec-21</td>\n",
       "      <td>48</td>\n",
       "      <td>City of Hope National Medical Center, Duarte, ...</td>\n",
       "      <td>https://ClinicalTrials.gov/show/NCT02999854</td>\n",
       "    </tr>\n",
       "    <tr>\n",
       "      <th>11192</th>\n",
       "      <td>11193</td>\n",
       "      <td>CD24Fc for the Treatment of Immune Related Adv...</td>\n",
       "      <td>Terminated</td>\n",
       "      <td>Has Results</td>\n",
       "      <td>Advanced Malignant Solid Neoplasm</td>\n",
       "      <td>Biological: CD24 Extracellular Domain-IgG1 Fc ...</td>\n",
       "      <td>Incidence of New Adverse Event (AE) of &gt;= Grad...</td>\n",
       "      <td>All</td>\n",
       "      <td>18 Years and older   (Adult, Older Adult)</td>\n",
       "      <td>Phase 1|Phase 2</td>\n",
       "      <td>3</td>\n",
       "      <td>Other|NIH|Industry</td>\n",
       "      <td>Allocation: Randomized|Intervention Model: Par...</td>\n",
       "      <td>30-Oct-20</td>\n",
       "      <td>26-Jan-22</td>\n",
       "      <td>14</td>\n",
       "      <td>University of California Davis Comprehensive C...</td>\n",
       "      <td>https://ClinicalTrials.gov/show/NCT04552704</td>\n",
       "    </tr>\n",
       "    <tr>\n",
       "      <th>11193</th>\n",
       "      <td>11194</td>\n",
       "      <td>Immune Checkpoint Inhibitor M7824 and the Immu...</td>\n",
       "      <td>Terminated</td>\n",
       "      <td>Has Results</td>\n",
       "      <td>Histologically or Cytologically Confirmed Panc...</td>\n",
       "      <td>Drug: M7824|Drug: M9241|Radiation: SBRT</td>\n",
       "      <td>Recommended Phase 2 Dose (RP2D) of NHS-IL12 (M...</td>\n",
       "      <td>All</td>\n",
       "      <td>18 Years and older   (Adult, Older Adult)</td>\n",
       "      <td>Phase 1|Phase 2</td>\n",
       "      <td>3</td>\n",
       "      <td>NIH</td>\n",
       "      <td>Allocation: Non-Randomized|Intervention Model:...</td>\n",
       "      <td>15-Jun-21</td>\n",
       "      <td>3-Feb-22</td>\n",
       "      <td>7</td>\n",
       "      <td>National Institutes of Health Clinical Center,...</td>\n",
       "      <td>https://ClinicalTrials.gov/show/NCT04327986</td>\n",
       "    </tr>\n",
       "    <tr>\n",
       "      <th>11194</th>\n",
       "      <td>11195</td>\n",
       "      <td>Study of Euthyroid Hypothyroxinemia in Metasta...</td>\n",
       "      <td>Terminated</td>\n",
       "      <td>Has Results</td>\n",
       "      <td>Metastatic Breast Cancer|Thyroid Dysfunction</td>\n",
       "      <td>Drug: Triiodothyronine (T3)</td>\n",
       "      <td>Number of Participants With Progression-free S...</td>\n",
       "      <td>All</td>\n",
       "      <td>18 Years to 105 Years   (Adult, Older Adult)</td>\n",
       "      <td>Phase 2</td>\n",
       "      <td>7</td>\n",
       "      <td>Other</td>\n",
       "      <td>Allocation: N/A|Intervention Model: Single Gro...</td>\n",
       "      <td>1-Mar-19</td>\n",
       "      <td>9-Mar-22</td>\n",
       "      <td>36</td>\n",
       "      <td>Aultman Medical Group Hematology and Oncology,...</td>\n",
       "      <td>https://ClinicalTrials.gov/show/NCT03787303</td>\n",
       "    </tr>\n",
       "    <tr>\n",
       "      <th>11195</th>\n",
       "      <td>11196</td>\n",
       "      <td>A Phase 2 Study of Durvalumab in Combination W...</td>\n",
       "      <td>Suspended</td>\n",
       "      <td>Has Results</td>\n",
       "      <td>Mesothelioma</td>\n",
       "      <td>Drug: Tremelimumab|Drug: Durvalumab</td>\n",
       "      <td>Overall Response Rate|Overall Survival|Progres...</td>\n",
       "      <td>All</td>\n",
       "      <td>18 Years and older   (Adult, Older Adult)</td>\n",
       "      <td>Phase 2</td>\n",
       "      <td>19</td>\n",
       "      <td>Other|Industry</td>\n",
       "      <td>Allocation: N/A|Intervention Model: Single Gro...</td>\n",
       "      <td>10-Apr-17</td>\n",
       "      <td>30-Sep-24</td>\n",
       "      <td>89</td>\n",
       "      <td>Dana Farber Cancer Institute, Boston, Massachu...</td>\n",
       "      <td>https://ClinicalTrials.gov/show/NCT03075527</td>\n",
       "    </tr>\n",
       "  </tbody>\n",
       "</table>\n",
       "<p>11196 rows × 18 columns</p>\n",
       "</div>"
      ],
      "text/plain": [
       "        Rank                                              Title      Status  \\\n",
       "0          1  Immediate-Release Oxycodone Capsules Study in ...   Completed   \n",
       "1          2  A Phase II Study of Nivolumab in Combination W...   Completed   \n",
       "2          3  Radiation, Cetuximab and Pemetrexed With or Wi...   Completed   \n",
       "3          4  Fulvestrant Plus Enzalutamide in ER+/Her2- Adv...   Completed   \n",
       "4          5  PROspective Non-interventional Open laBEl Tria...   Completed   \n",
       "...      ...                                                ...         ...   \n",
       "11191  11192  Safety and Efficacy of ATIR101 as Adjunctive T...  Terminated   \n",
       "11192  11193  CD24Fc for the Treatment of Immune Related Adv...  Terminated   \n",
       "11193  11194  Immune Checkpoint Inhibitor M7824 and the Immu...  Terminated   \n",
       "11194  11195  Study of Euthyroid Hypothyroxinemia in Metasta...  Terminated   \n",
       "11195  11196  A Phase 2 Study of Durvalumab in Combination W...   Suspended   \n",
       "\n",
       "      Study Results                                         Conditions  \\\n",
       "0       Has Results                                             Cancer   \n",
       "1       Has Results                                      Breast Cancer   \n",
       "2       Has Results                                             Cancer   \n",
       "3       Has Results                                      Breast Cancer   \n",
       "4       Has Results                                             Cancer   \n",
       "...             ...                                                ...   \n",
       "11191   Has Results  Acute Myeloid Leukemia|Acute Lymphoblastic Leu...   \n",
       "11192   Has Results                  Advanced Malignant Solid Neoplasm   \n",
       "11193   Has Results  Histologically or Cytologically Confirmed Panc...   \n",
       "11194   Has Results       Metastatic Breast Cancer|Thyroid Dysfunction   \n",
       "11195   Has Results                                       Mesothelioma   \n",
       "\n",
       "                                           Interventions  \\\n",
       "0                         Drug: Oxycodone|Drug: Morphine   \n",
       "1                     Drug: Nivolumab|Drug: Cabozantinib   \n",
       "2      Drug: Bevacizumab|Drug: Cetuximab|Drug: Pemetr...   \n",
       "3                    Drug: Fulvestrant with Enzalutamide   \n",
       "4                               Drug: Oxycodone/Naloxone   \n",
       "...                                                  ...   \n",
       "11191  Biological: ATIR101|Drug: Cyclophosphamide|Pro...   \n",
       "11192  Biological: CD24 Extracellular Domain-IgG1 Fc ...   \n",
       "11193            Drug: M7824|Drug: M9241|Radiation: SBRT   \n",
       "11194                        Drug: Triiodothyronine (T3)   \n",
       "11195                Drug: Tremelimumab|Drug: Durvalumab   \n",
       "\n",
       "                                        Outcome Measures  Gender  \\\n",
       "0      Numerical Rating Scale (NRS)|The Average Dose ...     All   \n",
       "1      Overall Response Rate|Number of Participants W...  Female   \n",
       "2      2-year Progression-free Survival (PFS)|2-year ...     All   \n",
       "3      Clinical Benefit Rate of the Combination of En...  Female   \n",
       "4      Change in Numeric Rating Scales (NRS) Score|Ch...     All   \n",
       "...                                                  ...     ...   \n",
       "11191  Graft-versus-host Disease-free, Relapse-free S...     All   \n",
       "11192  Incidence of New Adverse Event (AE) of >= Grad...     All   \n",
       "11193  Recommended Phase 2 Dose (RP2D) of NHS-IL12 (M...     All   \n",
       "11194  Number of Participants With Progression-free S...     All   \n",
       "11195  Overall Response Rate|Overall Survival|Progres...     All   \n",
       "\n",
       "                                                Age           Phases  \\\n",
       "0       18 Years to 80 Years   (Adult, Older Adult)          Phase 3   \n",
       "1         18 Years and older   (Adult, Older Adult)          Phase 2   \n",
       "2         18 Years and older   (Adult, Older Adult)          Phase 2   \n",
       "3      18 Years to 100 Years   (Adult, Older Adult)          Phase 2   \n",
       "4         20 Years and older   (Adult, Older Adult)          Phase 4   \n",
       "...                                             ...              ...   \n",
       "11191   18 Years to 70 Years   (Adult, Older Adult)          Phase 3   \n",
       "11192     18 Years and older   (Adult, Older Adult)  Phase 1|Phase 2   \n",
       "11193     18 Years and older   (Adult, Older Adult)  Phase 1|Phase 2   \n",
       "11194  18 Years to 105 Years   (Adult, Older Adult)          Phase 2   \n",
       "11195     18 Years and older   (Adult, Older Adult)          Phase 2   \n",
       "\n",
       "       Enrollment          Funded Bys  \\\n",
       "0             242            Industry   \n",
       "1              18      Other|Industry   \n",
       "2              80      Other|Industry   \n",
       "3              32      Other|U.S. Fed   \n",
       "4             359            Industry   \n",
       "...           ...                 ...   \n",
       "11191          63            Industry   \n",
       "11192           3  Other|NIH|Industry   \n",
       "11193           3                 NIH   \n",
       "11194           7               Other   \n",
       "11195          19      Other|Industry   \n",
       "\n",
       "                                           Study Designs Start Date  \\\n",
       "0      Allocation: Randomized|Intervention Model: Par...     Jan-11   \n",
       "1      Allocation: N/A|Intervention Model: Single Gro...  30-Nov-17   \n",
       "2      Allocation: Randomized|Intervention Model: Sin...     Oct-08   \n",
       "3      Allocation: N/A|Intervention Model: Single Gro...   6-Jul-17   \n",
       "4      Allocation: N/A|Intervention Model: Single Gro...     Jul-12   \n",
       "...                                                  ...        ...   \n",
       "11191  Allocation: Randomized|Intervention Model: Par...  29-Nov-17   \n",
       "11192  Allocation: Randomized|Intervention Model: Par...  30-Oct-20   \n",
       "11193  Allocation: Non-Randomized|Intervention Model:...  15-Jun-21   \n",
       "11194  Allocation: N/A|Intervention Model: Single Gro...   1-Mar-19   \n",
       "11195  Allocation: N/A|Intervention Model: Single Gro...  10-Apr-17   \n",
       "\n",
       "      Completion Date  Study Duration (months)  \\\n",
       "0              Jul-12                       18   \n",
       "1           30-Aug-19                       21   \n",
       "2              Sep-14                       71   \n",
       "3           10-Apr-20                       33   \n",
       "4              Apr-14                       21   \n",
       "...               ...                      ...   \n",
       "11191       17-Dec-21                       48   \n",
       "11192       26-Jan-22                       14   \n",
       "11193        3-Feb-22                        7   \n",
       "11194        9-Mar-22                       36   \n",
       "11195       30-Sep-24                       89   \n",
       "\n",
       "                                               Locations  \\\n",
       "0                                                    NaN   \n",
       "1      Dana-Farber Cancer Institute, Boston, Massachu...   \n",
       "2      University of Pittsburgh Medical Center, Pitts...   \n",
       "3      University of Colorado, Aurora, Colorado, Unit...   \n",
       "4      13 sites including Yeungnam University Medical...   \n",
       "...                                                  ...   \n",
       "11191  City of Hope National Medical Center, Duarte, ...   \n",
       "11192  University of California Davis Comprehensive C...   \n",
       "11193  National Institutes of Health Clinical Center,...   \n",
       "11194  Aultman Medical Group Hematology and Oncology,...   \n",
       "11195  Dana Farber Cancer Institute, Boston, Massachu...   \n",
       "\n",
       "                                               URL  \n",
       "0      https://ClinicalTrials.gov/show/NCT01675622  \n",
       "1      https://ClinicalTrials.gov/show/NCT03316586  \n",
       "2      https://ClinicalTrials.gov/show/NCT00703976  \n",
       "3      https://ClinicalTrials.gov/show/NCT02953860  \n",
       "4      https://ClinicalTrials.gov/show/NCT01719757  \n",
       "...                                            ...  \n",
       "11191  https://ClinicalTrials.gov/show/NCT02999854  \n",
       "11192  https://ClinicalTrials.gov/show/NCT04552704  \n",
       "11193  https://ClinicalTrials.gov/show/NCT04327986  \n",
       "11194  https://ClinicalTrials.gov/show/NCT03787303  \n",
       "11195  https://ClinicalTrials.gov/show/NCT03075527  \n",
       "\n",
       "[11196 rows x 18 columns]"
      ]
     },
     "execution_count": 6,
     "metadata": {},
     "output_type": "execute_result"
    }
   ],
   "source": [
    "clTrials"
   ]
  },
  {
   "cell_type": "code",
   "execution_count": 7,
   "metadata": {},
   "outputs": [],
   "source": [
    "def check_breast_substring(x):\n",
    "    if \"Breast\" in x:\n",
    "        return 1\n",
    "    else:\n",
    "        return 0\n",
    "def check_blood_substring(x):\n",
    "    if \"Leukemia\" in x:\n",
    "        return 1\n",
    "    elif \"Lymphoma\" in x:\n",
    "        return 1\n",
    "    elif \"Myeloma\" in x:\n",
    "        return 1\n",
    "    elif \"Blood\" in x:\n",
    "        return 1\n",
    "    else:\n",
    "        return 0\n",
    "def check_lung_substring(x):\n",
    "    if \"Lung\" in x:\n",
    "        return 1\n",
    "    else:\n",
    "        return 0\n",
    "def check_colorectal_substring(x):\n",
    "    if \"Colorectal\" in x:\n",
    "        return 1\n",
    "    else:\n",
    "        return 0\n",
    "def check_ovarian_substring(x):\n",
    "    if \"Ovarian\" in x:\n",
    "        return 1\n",
    "    else:\n",
    "        return 0\n",
    "def check_cervical_substring(x):\n",
    "    if \"Cervical\" in x:\n",
    "        return 1\n",
    "    else:\n",
    "        return 0\n",
    "    \n",
    "def check_melanoma_substring(x):\n",
    "    if \"Melanoma\" in x:\n",
    "        return 1\n",
    "    else:\n",
    "        return 0\n",
    "    \n",
    "def check_pancreatic_substring(x):\n",
    "    if \"Pancreatic\" in x:\n",
    "        return 1\n",
    "    else:\n",
    "        return 0\n",
    "def check_treatment_substring(x):\n",
    "    if \"Treatment\" in x:\n",
    "        return 1\n",
    "    else:\n",
    "        return 0\n",
    "def check_industry_substring(x):\n",
    "    if \"Industry\" in x:\n",
    "        return 1\n",
    "    else:\n",
    "        return 0\n",
    "def check_fed_substring(x):\n",
    "    if \"Fed\" in x:\n",
    "        return 1\n",
    "    elif \"NIH\" in x:\n",
    "        return 1\n",
    "    else:\n",
    "        return 0\n",
    "def check_female_substring(x):\n",
    "    if \"Female\" in x:\n",
    "        return 1\n",
    "    else:\n",
    "        return 0    \n",
    "def check_male_substring(x):\n",
    "    if \"Male\" in x:\n",
    "        return 1\n",
    "    else:\n",
    "        return 0    \n",
    "def check_metastatic_substring(x):\n",
    "    if \"Metastatic\" in x:\n",
    "        return 1\n",
    "    else:\n",
    "        return 0     \n",
    "def check_complete_substring(x):\n",
    "    if \"Completed\" in x:\n",
    "        return 1\n",
    "    else:\n",
    "        return 0     "
   ]
  },
  {
   "cell_type": "code",
   "execution_count": 8,
   "metadata": {},
   "outputs": [],
   "source": [
    "clTrials[\"Breast Cancer\"] = clTrials[\"Conditions\"].apply(check_breast_substring)\n",
    "clTrials[\"Blood Cancer\"] = clTrials[\"Conditions\"].apply(check_blood_substring)\n",
    "clTrials[\"Lung Cancer\"] = clTrials[\"Conditions\"].apply(check_lung_substring)\n",
    "clTrials[\"Colorectal Cancer\"] = clTrials[\"Conditions\"].apply(check_colorectal_substring)\n",
    "clTrials[\"Ovarian Cancer\"] = clTrials[\"Conditions\"].apply(check_ovarian_substring)\n",
    "clTrials[\"Cervical Cancer\"] = clTrials[\"Conditions\"].apply(check_cervical_substring)\n",
    "clTrials[\"Melanoma Cancer\"] = clTrials[\"Conditions\"].apply(check_melanoma_substring)\n",
    "clTrials[\"Pancreatic Cancer\"] = clTrials[\"Conditions\"].apply(check_pancreatic_substring)\n",
    "clTrials['Study Designs'] = clTrials['Study Designs'].astype('str')\n",
    "clTrials[\"Treatment (Purpose)\"] = clTrials[\"Study Designs\"].apply(check_treatment_substring)\n",
    "clTrials[\"Fed Funding\"] = clTrials[\"Funded Bys\"].apply(check_industry_substring)\n",
    "clTrials[\"Industry Funding\"] = clTrials[\"Funded Bys\"].apply(check_fed_substring)\n",
    "clTrials['Gender'] = clTrials['Gender'].astype('str')\n",
    "clTrials[\"Female\"] = clTrials[\"Gender\"].apply(check_female_substring)\n",
    "clTrials[\"Male\"] = clTrials[\"Gender\"].apply(check_male_substring)\n",
    "clTrials[\"Metastatic\"] = clTrials[\"Conditions\"].apply(check_metastatic_substring)\n",
    "phase_mapper = {\"Not Applicable\":0, \"Early Phase 1\":1, \"Phase 1\":1, \"Phase 1|Phase 2\":2, \"Phase 2\":3, \"Phase 2|Phase 3\":4, \"Phase 3\":5, \"Phase 4\":6}\n",
    "clTrials[\"Phases Num\"] = clTrials[\"Phases\"].replace(phase_mapper)\n",
    "clTrials[\"Completed Status\"] = clTrials[\"Status\"].apply(check_complete_substring)"
   ]
  },
  {
   "cell_type": "code",
   "execution_count": 9,
   "metadata": {},
   "outputs": [],
   "source": [
    "clTrials = clTrials[clTrials[\"Treatment (Purpose)\"] == 1]"
   ]
  },
  {
   "cell_type": "code",
   "execution_count": 10,
   "metadata": {},
   "outputs": [
    {
     "data": {
      "text/plain": [
       "4420"
      ]
     },
     "execution_count": 10,
     "metadata": {},
     "output_type": "execute_result"
    }
   ],
   "source": [
    "Br = clTrials[\"Breast Cancer\"] == 1 \n",
    "Bl = clTrials[\"Blood Cancer\"] == 1 \n",
    "Co = clTrials[\"Colorectal Cancer\"] == 1 \n",
    "Ov = clTrials[\"Ovarian Cancer\"] == 1 \n",
    "Ce = clTrials[\"Cervical Cancer\"] == 1 \n",
    "Me = clTrials[\"Melanoma Cancer\"] == 1\n",
    "Pa = clTrials[\"Pancreatic Cancer\"] == 1\n",
    "np.size(clTrials[Br | Bl | Co | Ov | Ce | Me | Pa],0)"
   ]
  },
  {
   "cell_type": "code",
   "execution_count": 11,
   "metadata": {},
   "outputs": [],
   "source": [
    "clTrials = clTrials[Br | Bl | Co | Ov | Ce | Me | Pa]"
   ]
  },
  {
   "cell_type": "code",
   "execution_count": 12,
   "metadata": {},
   "outputs": [
    {
     "data": {
      "text/plain": [
       "<bound method Counter.most_common of Counter({0: 3391, 1: 1029})>"
      ]
     },
     "execution_count": 12,
     "metadata": {},
     "output_type": "execute_result"
    }
   ],
   "source": [
    "Counter(clTrials[\"Breast Cancer\"]).most_common"
   ]
  },
  {
   "cell_type": "code",
   "execution_count": 13,
   "metadata": {},
   "outputs": [
    {
     "data": {
      "text/plain": [
       "<bound method Counter.most_common of Counter({0: 2336, 1: 2084})>"
      ]
     },
     "execution_count": 13,
     "metadata": {},
     "output_type": "execute_result"
    }
   ],
   "source": [
    "Counter(clTrials[\"Blood Cancer\"]).most_common"
   ]
  },
  {
   "cell_type": "code",
   "execution_count": 14,
   "metadata": {},
   "outputs": [
    {
     "data": {
      "text/plain": [
       "<bound method Counter.most_common of Counter({0: 4344, 1: 76})>"
      ]
     },
     "execution_count": 14,
     "metadata": {},
     "output_type": "execute_result"
    }
   ],
   "source": [
    "Counter(clTrials[\"Lung Cancer\"]).most_common"
   ]
  },
  {
   "cell_type": "code",
   "execution_count": 15,
   "metadata": {},
   "outputs": [
    {
     "data": {
      "text/plain": [
       "4420"
      ]
     },
     "execution_count": 15,
     "metadata": {},
     "output_type": "execute_result"
    }
   ],
   "source": [
    "Br = clTrials[\"Breast Cancer\"] == 1 \n",
    "Bl = clTrials[\"Blood Cancer\"] == 1 \n",
    "Co = clTrials[\"Colorectal Cancer\"] == 1 \n",
    "Ov = clTrials[\"Ovarian Cancer\"] == 1 \n",
    "Ce = clTrials[\"Cervical Cancer\"] == 1 \n",
    "Me = clTrials[\"Melanoma Cancer\"] == 1\n",
    "Pa = clTrials[\"Pancreatic Cancer\"] == 1\n",
    "np.size(clTrials[Br | Bl | Co | Ov | Ce | Me | Pa],0)"
   ]
  },
  {
   "cell_type": "code",
   "execution_count": 16,
   "metadata": {},
   "outputs": [
    {
     "data": {
      "text/plain": [
       "<bound method Counter.most_common of Counter({0: 4042, 1: 378})>"
      ]
     },
     "execution_count": 16,
     "metadata": {},
     "output_type": "execute_result"
    }
   ],
   "source": [
    "Counter(clTrials[\"Metastatic\"]).most_common"
   ]
  },
  {
   "cell_type": "code",
   "execution_count": 17,
   "metadata": {},
   "outputs": [],
   "source": [
    "clTrials = clTrials[Br | Bl | Co | Ov | Ce | Me | Pa]"
   ]
  },
  {
   "cell_type": "code",
   "execution_count": 18,
   "metadata": {},
   "outputs": [
    {
     "data": {
      "text/plain": [
       "<bound method Counter.most_common of Counter({0: 3391, 1: 1029})>"
      ]
     },
     "execution_count": 18,
     "metadata": {},
     "output_type": "execute_result"
    }
   ],
   "source": [
    "Counter(clTrials[\"Breast Cancer\"]).most_common"
   ]
  },
  {
   "cell_type": "code",
   "execution_count": 19,
   "metadata": {},
   "outputs": [
    {
     "name": "stdout",
     "output_type": "stream",
     "text": [
      "71.16402116402116\n",
      "72.88471053933696\n"
     ]
    }
   ],
   "source": [
    "met = clTrials[\"Metastatic\"] == 1\n",
    "notMet = clTrials[\"Metastatic\"] == 0\n",
    "comp = clTrials[\"Completed Status\"] == 1\n",
    "perMetComp = np.size(clTrials[met & comp],0) / 378 * 100\n",
    "perNotMetComp = np.size(clTrials[notMet & comp],0) / 4042 * 100\n",
    "\n",
    "print(perMetComp)\n",
    "print(perNotMetComp)"
   ]
  },
  {
   "cell_type": "code",
   "execution_count": 20,
   "metadata": {},
   "outputs": [
    {
     "data": {
      "text/plain": [
       "<bound method Counter.most_common of Counter({3.0: 2567, 2.0: 640, 5.0: 520, 1.0: 377, 0.0: 220, 6.0: 66, 4.0: 30})>"
      ]
     },
     "execution_count": 20,
     "metadata": {},
     "output_type": "execute_result"
    }
   ],
   "source": [
    "Counter(clTrials[\"Phases Num\"]).most_common"
   ]
  },
  {
   "cell_type": "code",
   "execution_count": 21,
   "metadata": {},
   "outputs": [
    {
     "name": "stdout",
     "output_type": "stream",
     "text": [
      "74.82993197278913\n",
      "71.83301343570058\n"
     ]
    }
   ],
   "source": [
    "Br = clTrials[\"Breast Cancer\"] == 1 \n",
    "Bl = clTrials[\"Blood Cancer\"] == 1 \n",
    "Co = clTrials[\"Colorectal Cancer\"] == 1 \n",
    "Ov = clTrials[\"Ovarian Cancer\"] == 1 \n",
    "Ce = clTrials[\"Cervical Cancer\"] == 1 \n",
    "Me = clTrials[\"Melanoma Cancer\"] == 1\n",
    "Pa = clTrials[\"Pancreatic Cancer\"] == 1\n",
    "Fe = clTrials[\"Female\"] == 1\n",
    "Ma = clTrials[\"Female\"] == 0\n",
    "\n",
    "perBrComp = np.size(clTrials[Br & comp],0) / 1029 * 100\n",
    "perBlComp = np.size(clTrials[Bl & comp],0) / 2084 * 100\n",
    "\n",
    "print(perBrComp)\n",
    "print(perBlComp)"
   ]
  },
  {
   "cell_type": "code",
   "execution_count": 22,
   "metadata": {},
   "outputs": [
    {
     "name": "stdout",
     "output_type": "stream",
     "text": [
      "74.6268656716418\n"
     ]
    }
   ],
   "source": [
    "perFeComp = np.size(clTrials[Fe & comp],0) / 938 * 100\n",
    "\n",
    "print(perFeComp)"
   ]
  },
  {
   "cell_type": "code",
   "execution_count": 23,
   "metadata": {},
   "outputs": [
    {
     "name": "stdout",
     "output_type": "stream",
     "text": [
      "72.22860425043078\n"
     ]
    }
   ],
   "source": [
    "perNotFeComp = np.size(clTrials[Ma & comp],0) / 3482 * 100\n",
    "\n",
    "print(perNotFeComp)"
   ]
  },
  {
   "cell_type": "code",
   "execution_count": 24,
   "metadata": {},
   "outputs": [
    {
     "name": "stdout",
     "output_type": "stream",
     "text": [
      "73.74005305039788\n",
      "66.875\n",
      "71.71795870666148\n",
      "70.0\n",
      "83.26923076923077\n",
      "84.84848484848484\n",
      "71.81818181818181\n"
     ]
    }
   ],
   "source": [
    "P1 = clTrials[\"Phases Num\"] == 1\n",
    "perP1Comp = np.size(clTrials[P1 & comp],0) / 377 * 100\n",
    "print(perP1Comp)\n",
    "\n",
    "P2 = clTrials[\"Phases Num\"] == 2\n",
    "perP2Comp = np.size(clTrials[P2 & comp],0) / 640 * 100\n",
    "print(perP2Comp)\n",
    "\n",
    "P3 = clTrials[\"Phases Num\"] == 3\n",
    "perP3Comp = np.size(clTrials[P3 & comp],0) / 2567 * 100\n",
    "print(perP3Comp)\n",
    "\n",
    "P4 = clTrials[\"Phases Num\"] == 4\n",
    "perP4Comp = np.size(clTrials[P4 & comp],0) / 30 * 100\n",
    "print(perP4Comp)\n",
    "\n",
    "P5 = clTrials[\"Phases Num\"] == 5\n",
    "perP5Comp = np.size(clTrials[P5 & comp],0) / 520 * 100\n",
    "print(perP5Comp)\n",
    "\n",
    "P6 = clTrials[\"Phases Num\"] == 6\n",
    "perP6Comp = np.size(clTrials[P6 & comp],0) / 66 * 100\n",
    "print(perP6Comp)\n",
    "\n",
    "P0 = clTrials[\"Phases Num\"] == 0\n",
    "perP0Comp = np.size(clTrials[P0 & comp],0) / 220 * 100\n",
    "print(perP0Comp)\n"
   ]
  },
  {
   "cell_type": "code",
   "execution_count": 25,
   "metadata": {},
   "outputs": [
    {
     "data": {
      "text/plain": [
       "<bound method Counter.most_common of Counter({'Industry': 1593, 'Other': 855, 'Other|Industry': 837, 'Other|NIH': 610, 'NIH': 336, 'Industry|Other': 67, 'Other|NIH|Industry': 47, 'NIH|Other': 34, 'Other|Industry|NIH': 18, 'Other|U.S. Fed': 6, 'Industry|NIH': 5, 'NIH|Industry': 3, 'Other|U.S. Fed|Industry': 2, 'Other|Industry|U.S. Fed': 2, 'Industry|Other|U.S. Fed': 1, 'U.S. Fed': 1, 'Industry|NIH|Other': 1, 'Other|U.S. Fed|NIH': 1, 'Industry|Other|NIH': 1})>"
      ]
     },
     "execution_count": 25,
     "metadata": {},
     "output_type": "execute_result"
    }
   ],
   "source": [
    "Counter(clTrials[\"Funded Bys\"]).most_common"
   ]
  },
  {
   "cell_type": "code",
   "execution_count": 26,
   "metadata": {},
   "outputs": [
    {
     "data": {
      "text/plain": [
       "2577"
      ]
     },
     "execution_count": 26,
     "metadata": {},
     "output_type": "execute_result"
    }
   ],
   "source": [
    "np.size(clTrials[clTrials[\"Fed Funding\"] == 1],0)"
   ]
  },
  {
   "cell_type": "code",
   "execution_count": 27,
   "metadata": {},
   "outputs": [
    {
     "name": "stdout",
     "output_type": "stream",
     "text": [
      "73.40823970037454\n",
      "74.54404346138921\n"
     ]
    }
   ],
   "source": [
    "F1 = clTrials[\"Industry Funding\"] == 1\n",
    "perF1Comp = np.size(clTrials[F1 & comp],0) / 1068 * 100\n",
    "print(perF1Comp)\n",
    "\n",
    "F2 = clTrials[\"Fed Funding\"] == 1\n",
    "perF2Comp = np.size(clTrials[F2 & comp],0) / 2577 * 100\n",
    "print(perF2Comp)\n"
   ]
  },
  {
   "cell_type": "code",
   "execution_count": 28,
   "metadata": {},
   "outputs": [
    {
     "data": {
      "text/plain": [
       "855"
      ]
     },
     "execution_count": 28,
     "metadata": {},
     "output_type": "execute_result"
    }
   ],
   "source": [
    "np.size(clTrials[~(F1 | F2)],0)"
   ]
  },
  {
   "cell_type": "code",
   "execution_count": 29,
   "metadata": {},
   "outputs": [
    {
     "name": "stdout",
     "output_type": "stream",
     "text": [
      "65.84795321637426\n"
     ]
    }
   ],
   "source": [
    "perF3Comp = np.size(clTrials[~(F1 | F2) & comp],0) / 855 * 100\n",
    "print(perF3Comp)"
   ]
  },
  {
   "cell_type": "code",
   "execution_count": 30,
   "metadata": {},
   "outputs": [
    {
     "data": {
      "text/plain": [
       "Index(['Rank', 'Title', 'Status', 'Study Results', 'Conditions',\n",
       "       'Interventions', 'Outcome Measures', 'Gender', 'Age', 'Phases',\n",
       "       'Enrollment', 'Funded Bys', 'Study Designs', 'Start Date',\n",
       "       'Completion Date', 'Study Duration (months)', 'Locations', 'URL',\n",
       "       'Breast Cancer', 'Blood Cancer', 'Lung Cancer', 'Colorectal Cancer',\n",
       "       'Ovarian Cancer', 'Cervical Cancer', 'Melanoma Cancer',\n",
       "       'Pancreatic Cancer', 'Treatment (Purpose)', 'Fed Funding',\n",
       "       'Industry Funding', 'Female', 'Male', 'Metastatic', 'Phases Num',\n",
       "       'Completed Status'],\n",
       "      dtype='object')"
      ]
     },
     "execution_count": 30,
     "metadata": {},
     "output_type": "execute_result"
    }
   ],
   "source": [
    "clTrials.columns"
   ]
  },
  {
   "cell_type": "code",
   "execution_count": 31,
   "metadata": {},
   "outputs": [],
   "source": [
    "# Add Minimum Age columns\n",
    "\n",
    "age_str = clTrials[\"Age\"].copy()\n",
    "\n",
    "for i in range(len(age_str)):\n",
    "    flag = 0\n",
    "    for m in age_str.iloc[i].split(): \n",
    "        if m.isdigit():\n",
    "            flag = 1\n",
    "    if flag == 1:\n",
    "        age_str.iloc[i] = [int(m) for m in age_str.iloc[i].split() if m.isdigit()]\n",
    "    else:         \n",
    "        age_str.iloc[i] = [0]\n",
    "    age_str.iloc[i] = min(age_str.iloc[i])\n",
    "     \n",
    "clTrials[\"Minimum Age\"] = age_str"
   ]
  },
  {
   "cell_type": "code",
   "execution_count": 32,
   "metadata": {},
   "outputs": [],
   "source": [
    "# We add Hospital column\n",
    "\n",
    "def check_hospital_substring(x):\n",
    "    if 'Hospital' in x:\n",
    "        return 1\n",
    "    elif 'University' in x:\n",
    "        return 1\n",
    "    elif 'Medical Center' in x:\n",
    "        return 1\n",
    "    elif 'National Institutes of Health' in x:\n",
    "        return 1\n",
    "    else:\n",
    "        return 0\n",
    "clTrials['Locations'] = clTrials['Locations'].astype('str')\n",
    "clTrials[\"Hospital\"] = clTrials[\"Locations\"].apply(check_hospital_substring)"
   ]
  },
  {
   "cell_type": "code",
   "execution_count": 33,
   "metadata": {},
   "outputs": [],
   "source": [
    "#Add Intervention Model, Masking as a new column\n",
    "\n",
    "Interv = []\n",
    "Mask = []\n",
    "\n",
    "def create_interv():\n",
    "    for item in clTrials['Study Designs']:\n",
    "        if isinstance(item, str):\n",
    "            if 'Intervention Model' in item:\n",
    "                Interv_splitted = item.split('Intervention Model: ')\n",
    "                Interv_splitted_more = Interv_splitted[1].split('|')\n",
    "                Interv.append(Interv_splitted_more[0])\n",
    "            else:\n",
    "                Interv.append('N/A')\n",
    "        else: \n",
    "            Interv.append('N/A')\n",
    "create_interv()\n",
    "\n",
    "def create_mask():\n",
    "    for item in clTrials['Study Designs']:\n",
    "        if isinstance(item, str):\n",
    "            if 'Masking' in item:\n",
    "                Mask_splitted = item.split('Masking: ')\n",
    "                Mask_splitted_more = Mask_splitted[1].split('|')\n",
    "                Mask.append(Mask_splitted_more[0])\n",
    "            else:\n",
    "                Mask.append('N/A')\n",
    "        else: \n",
    "            Mask.append('N/A')\n",
    "create_mask()\n",
    "Interv_str = Interv.copy()\n",
    "\n",
    "for i in range(len(Interv)):\n",
    "    if Interv[i] == 'N/A':\n",
    "        Interv[i] = 0\n",
    "    elif Interv[i] == 'Crossover Assignment':\n",
    "        Interv[i] = 1\n",
    "    elif Interv[i] == 'Factorial Assignment':\n",
    "        Interv[i] = 2\n",
    "    elif Interv[i] == 'Parallel Assignment':\n",
    "        Interv[i] = 3\n",
    "    elif Interv[i] == 'Sequential Assignment':\n",
    "        Interv[i] = 4\n",
    "    else:\n",
    "        Interv[i]=5\n",
    "        \n",
    "        \n",
    "for i in range(len(Mask)):\n",
    "    if Mask[i] == 'N/A':\n",
    "        Mask[i] = 0\n",
    "    elif Mask[i] == 'None (Open Label)':\n",
    "        Mask[i] = 0\n",
    "    elif 'Single' in Mask[i]:\n",
    "        Mask[i] = 1\n",
    "    elif 'Double' in Mask[i]:\n",
    "        Mask[i] = 2\n",
    "    elif 'Triple' in Mask[i]:\n",
    "        Mask[i] = 3\n",
    "    elif 'Quadruple' in Mask[i]:\n",
    "        Mask[i] = 4\n",
    "        \n",
    "clTrials['Intervention Model'] = Interv\n",
    "clTrials['Intervention_model_string'] = Interv_str\n",
    "clTrials['Masking'] = Mask"
   ]
  },
  {
   "cell_type": "code",
   "execution_count": 34,
   "metadata": {},
   "outputs": [],
   "source": [
    "clTrials['Completed_Status'] = clTrials['Completed Status']"
   ]
  },
  {
   "cell_type": "code",
   "execution_count": 35,
   "metadata": {},
   "outputs": [],
   "source": [
    "# to create the cleaned and modified csv we run, \n",
    "\n",
    "# clTrials.to_csv('Cleaned_and_Modified_Data.csv')"
   ]
  },
  {
   "cell_type": "code",
   "execution_count": 36,
   "metadata": {},
   "outputs": [],
   "source": [
    "clTrials_train, clTrials_test = train_test_split(clTrials.copy(), \n",
    "                                            shuffle=True,\n",
    "                                            random_state=314,\n",
    "                                            stratify=clTrials['Completed Status'],\n",
    "                                            test_size=.2)"
   ]
  },
  {
   "cell_type": "code",
   "execution_count": 37,
   "metadata": {},
   "outputs": [
    {
     "data": {
      "image/png": "[encoded data removed]",
      "text/plain": [
       "<Figure size 864x576 with 1 Axes>"
      ]
     },
     "metadata": {},
     "output_type": "display_data"
    }
   ],
   "source": [
    "plt.figure(figsize=(12,8))\n",
    "\n",
    "clTrials_train_completed = clTrials_train[clTrials_train[\"Status\"]==\"Completed\"]\n",
    "clTrials_train_not_completed = clTrials_train[clTrials_train[\"Status\"]!=\"Completed\"]\n",
    "\n",
    "plt.scatter(clTrials_train_completed[\"Enrollment\"],\n",
    "               clTrials_train_completed[\"Completed_Status\"],color = 'b',label = \"Completed Trials\")\n",
    "\n",
    "plt.scatter(clTrials_train_not_completed[\"Enrollment\"],\n",
    "               clTrials_train_not_completed[\"Completed_Status\"],color = 'orange',marker = 'v',label = \"Not Completed Trials\")\n",
    "\n",
    "\n",
    "plt.legend(loc = \"center right\")\n",
    "plt.xlabel(\"Enrollment\", fontsize=20)\n",
    "plt.ylabel(\"Complete Status\", fontsize=20)\n",
    "plt.xticks(fontsize=14)\n",
    "plt.yticks(fontsize=14)\n",
    "\n",
    "plt.show()\n"
   ]
  },
  {
   "cell_type": "markdown",
   "metadata": {},
   "source": [
    "We modify the df so that enrollment <= 1500. Because, training set shows that if it is >1500, then it is completed.\n",
    "\n",
    "\n",
    "So, in our model, first we should check whether enrollment > 1500.\n",
    "\n",
    "For a model, if we don't use enrollment, then the original clTrials can be used."
   ]
  },
  {
   "cell_type": "code",
   "execution_count": 38,
   "metadata": {},
   "outputs": [],
   "source": [
    "clTrials_completed = clTrials[clTrials[\"Status\"]==\"Completed\"]\n",
    "clTrials_not_completed = clTrials[clTrials[\"Status\"]!=\"Completed\"]"
   ]
  },
  {
   "cell_type": "code",
   "execution_count": 39,
   "metadata": {},
   "outputs": [
    {
     "data": {
      "image/png": "[encoded data removed]",
      "text/plain": [
       "<Figure size 720x504 with 1 Axes>"
      ]
     },
     "metadata": {},
     "output_type": "display_data"
    },
    {
     "data": {
      "image/png": "[encoded data removed]",
      "text/plain": [
       "<Figure size 720x504 with 1 Axes>"
      ]
     },
     "metadata": {},
     "output_type": "display_data"
    }
   ],
   "source": [
    "a1 = np.array(clTrials_completed[\"Enrollment\"])\n",
    " \n",
    "# Creating histogram\n",
    "fig, a1x = plt.subplots(figsize =(10, 7))\n",
    "#a1x.hist(a1, bins = [0,100,200,300,400,500,600,700,800,900,1000,1100,1200,1300,1400,1500],color = 'b')\n",
    "a1x.hist(a1, bins = [0,500,1000,1500,2000,2500,3000,3500,4000,4500,5000,5500,6000,6500,7000,7500,8000,8500,9000,9500,10000],color = 'b')\n",
    "plt.yscale(\"log\")\n",
    "plt.ylabel(\"Enrollment of Completed Trials\")\n",
    "\n",
    "\n",
    "a2 = np.array(clTrials_not_completed[\"Enrollment\"])\n",
    " \n",
    "# Creating histogram\n",
    "fig, a2x = plt.subplots(figsize =(10, 7))\n",
    "#a2x.hist(a2, bins = [0,100,200,300,400,500,600,700,800,900,1000,1100,1200,1300,1400,1500,2000],color = 'orange')\n",
    "a2x.hist(a2, bins = [0,500,1000,1500,2000,2500,3000,3500,4000,4500,5000,5500,6000,6500,7000,7500,8000,8500,9000,9500,10000],color = 'orange')\n",
    "\n",
    "\n",
    " \n",
    "# Show plot\n",
    "\n",
    "plt.ylabel(\"Enrollment of Not Completed Trials\")\n",
    "plt.yscale(\"log\")\n",
    "plt.show()"
   ]
  },
  {
   "cell_type": "code",
   "execution_count": 40,
   "metadata": {},
   "outputs": [],
   "source": [
    "#Here we introduce the modified data.\n",
    "\n",
    "clTrials_train_modified = clTrials_train[clTrials_train['Enrollment'] <= 1500]\n",
    "clTrials_test_modified = clTrials_test[clTrials_test['Enrollment'] <= 1500]"
   ]
  },
  {
   "cell_type": "code",
   "execution_count": 41,
   "metadata": {},
   "outputs": [
    {
     "data": {
      "image/png": "[encoded data removed]",
      "text/plain": [
       "<Figure size 864x576 with 1 Axes>"
      ]
     },
     "metadata": {},
     "output_type": "display_data"
    }
   ],
   "source": [
    "# We know this is stupid :))\n",
    "\n",
    "plt.figure(figsize=(12,8))\n",
    "\n",
    "plt.scatter(clTrials_train[\"Phases Num\"],\n",
    "               clTrials_train[\"Completed Status\"])\n",
    "\n",
    "plt.xlabel(\"Phases Num\", fontsize=20)\n",
    "plt.ylabel(\"Complete Status\", fontsize=20)\n",
    "plt.xticks(fontsize=14)\n",
    "plt.yticks(fontsize=14)\n",
    "\n",
    "plt.show()"
   ]
  },
  {
   "cell_type": "code",
   "execution_count": 42,
   "metadata": {},
   "outputs": [
    {
     "data": {
      "image/png": "[encoded data removed]",
      "text/plain": [
       "<Figure size 1152x576 with 1 Axes>"
      ]
     },
     "metadata": {},
     "output_type": "display_data"
    }
   ],
   "source": [
    "plt.figure(figsize=(16,8))\n",
    "\n",
    "# plt.scatter(clTrials_train[\"Phases Num\"],\n",
    "#                clTrials_train[\"Enrollment\"])\n",
    "\n",
    "\n",
    "plt.scatter(clTrials_train_modified.loc[clTrials_train_modified.Status=='Completed']['Phases'],\n",
    "            clTrials_train_modified.loc[clTrials_train_modified.Status =='Completed']['Enrollment'],\n",
    "            c='blue',\n",
    "            s=60,\n",
    "            label=\"Completed Trials\")\n",
    "\n",
    "plt.scatter(clTrials_train_modified.loc[clTrials_train_modified.Status !='Completed']['Phases'],\n",
    "            clTrials_train_modified.loc[clTrials_train_modified.Status !='Completed']['Enrollment'],\n",
    "            c='orange',\n",
    "            s=60,\n",
    "            marker='v',\n",
    "            label=\"Not Completed Trials\")\n",
    "\n",
    "\n",
    "plt.xlabel(\"Phase\", fontsize=20)\n",
    "plt.ylabel(\"Enrollment\", fontsize=20)\n",
    "plt.xticks(fontsize=14)\n",
    "plt.yticks(fontsize=14)\n",
    "plt.legend(loc = \"upper right\")\n",
    "\n",
    "plt.show()\n",
    "\n"
   ]
  },
  {
   "cell_type": "code",
   "execution_count": 49,
   "metadata": {},
   "outputs": [
    {
     "data": {
      "image/png": "[encoded data removed]",
      "text/plain": [
       "<Figure size 864x576 with 1 Axes>"
      ]
     },
     "metadata": {},
     "output_type": "display_data"
    }
   ],
   "source": [
    "plt.figure(figsize=(12,8))\n",
    "\n",
    "# plt.scatter(clTrials_train[\"Phases Num\"],\n",
    "#                clTrials_train[\"Enrollment\"])\n",
    "\n",
    "\n",
    "plt.scatter(clTrials_train_modified.loc[clTrials_train_modified.Status=='Completed']['Study Duration (months)'],\n",
    "            clTrials_train_modified.loc[clTrials_train_modified.Status =='Completed']['Enrollment'],\n",
    "            c='blue',\n",
    "            s=60,\n",
    "            label=\"Completed Trials\")\n",
    "\n",
    "plt.scatter(clTrials_train_modified.loc[clTrials_train_modified.Status !='Completed']['Study Duration (months)'],\n",
    "            clTrials_train_modified.loc[clTrials_train_modified.Status !='Completed']['Enrollment'],\n",
    "            c='orange',\n",
    "            s=60,\n",
    "            marker='v',\n",
    "            label=\"Not Completed Trials\")\n",
    "\n",
    "\n",
    "plt.xlabel(\"Duration\", fontsize=20)\n",
    "plt.ylabel(\"Enrollment\", fontsize=20)\n",
    "plt.xticks(fontsize=14)\n",
    "plt.yticks(fontsize=14)\n",
    "plt.legend(loc = \"upper right\")\n",
    "plt.savefig('DE1.png', Transparent = True)\n",
    "plt.show()"
   ]
  },
  {
   "cell_type": "code",
   "execution_count": 46,
   "metadata": {},
   "outputs": [
    {
     "data": {
      "image/png": "[encoded data removed]",
      "text/plain": [
       "<Figure size 1296x576 with 1 Axes>"
      ]
     },
     "metadata": {},
     "output_type": "display_data"
    }
   ],
   "source": [
    "plt.figure(figsize=(18,8))\n",
    "\n",
    "# plt.scatter(clTrials_train[\"Phases Num\"],\n",
    "#                clTrials_train[\"Enrollment\"])\n",
    "\n",
    "\n",
    "plt.scatter(clTrials_train_modified.loc[clTrials_train_modified.Status=='Completed']['Intervention_model_string'],\n",
    "            clTrials_train_modified.loc[clTrials_train_modified.Status =='Completed']['Enrollment'],\n",
    "            c='blue',\n",
    "            s=60,\n",
    "            label=\"Completed Trials\")\n",
    "\n",
    "plt.scatter(clTrials_train_modified.loc[clTrials_train_modified.Status !='Completed']['Intervention_model_string'],\n",
    "            clTrials_train_modified.loc[clTrials_train_modified.Status !='Completed']['Enrollment'],\n",
    "            c='orange',\n",
    "            s=60,\n",
    "            marker='v',\n",
    "            label=\"Not Completed Trials\")\n",
    "\n",
    "\n",
    "plt.xlabel(\"Intervention Model\", fontsize=20)\n",
    "plt.ylabel(\"Enrollment\", fontsize=20)\n",
    "plt.xticks(fontsize=14)\n",
    "plt.yticks(fontsize=14)\n",
    "plt.legend(loc = \"upper right\")\n",
    "plt.savefig('DE2.png')\n",
    "plt.show()"
   ]
  },
  {
   "cell_type": "code",
   "execution_count": null,
   "metadata": {},
   "outputs": [],
   "source": [
    "# NOT MODIFIED has been used here!\n",
    "\n",
    "plt.figure(figsize=(18,8))\n",
    "\n",
    "\n",
    "# plt.scatter(clTrials_train[\"Phases Num\"],\n",
    "#                clTrials_train[\"Enrollment\"])\n",
    "\n",
    "\n",
    "plt.scatter(clTrials_train.loc[clTrials_train.Status=='Completed']['Intervention_model_string'],\n",
    "            clTrials_train.loc[clTrials_train.Status =='Completed']['Study Duration (months)'],\n",
    "            c='blue',\n",
    "            s=60,\n",
    "            label=\"Completed Trials\")\n",
    "\n",
    "plt.scatter(clTrials_train.loc[clTrials_train.Status !='Completed']['Intervention_model_string'],\n",
    "            clTrials_train.loc[clTrials_train.Status !='Completed']['Study Duration (months)'],\n",
    "            c='orange',\n",
    "            s=60,\n",
    "            marker='v',\n",
    "            label=\"Not Completed Trials\")\n",
    "\n",
    "\n",
    "plt.xlabel(\"Intervention Model\", fontsize=20)\n",
    "plt.ylabel(\"Duration\", fontsize=20)\n",
    "plt.xticks(fontsize=14)\n",
    "plt.yticks(fontsize=14)\n",
    "plt.legend(loc = \"upper right\")\n",
    "\n",
    "plt.show()"
   ]
  },
  {
   "cell_type": "code",
   "execution_count": null,
   "metadata": {},
   "outputs": [],
   "source": [
    "plt.figure(figsize=(15,10))\n",
    "ax = plt.axes(projection='3d')\n",
    "\n",
    "\n",
    "# Data for three-dimensional scattered points\n",
    "zdata = clTrials_train_modified.loc[clTrials_train_modified.Status =='Completed']['Study Duration (months)']\n",
    "xdata = clTrials_train_modified.loc[clTrials_train_modified.Status =='Completed']['Enrollment']\n",
    "ydata = clTrials_train_modified.loc[clTrials_train_modified.Status =='Completed']['Intervention Model'] \n",
    "ax.scatter3D(xdata, ydata, zdata, color=\"b\",label = \"Completed Trials\");\n",
    "\n",
    "Zdata = clTrials_train_modified.loc[clTrials_train_modified.Status !='Completed']['Study Duration (months)']\n",
    "Xdata = clTrials_train_modified.loc[clTrials_train_modified.Status !='Completed']['Enrollment']\n",
    "Ydata = clTrials_train_modified.loc[clTrials_train_modified.Status !='Completed']['Intervention Model']\n",
    "\n",
    "\n",
    "ax.set_xlabel('Enrollment')\n",
    "ax.set_ylabel('Intervention Model')\n",
    "ax.set_zlabel('Study Duration (months)') \n",
    "ax.scatter3D(Xdata, Ydata, Zdata, color=\"orange\",marker = \"v\",label = \"Not Completed Trials\");\n",
    "ax.legend(loc = \"upper right\")\n"
   ]
  },
  {
   "cell_type": "markdown",
   "metadata": {},
   "source": [
    "# SOME COMMENTS MAYBE"
   ]
  }
 ],
 "metadata": {
  "kernelspec": {
   "display_name": "Python 3",
   "language": "python",
   "name": "python3"
  },
  "language_info": {
   "codemirror_mode": {
    "name": "ipython",
    "version": 3
   },
   "file_extension": ".py",
   "mimetype": "text/x-python",
   "name": "python",
   "nbconvert_exporter": "python",
   "pygments_lexer": "ipython3",
   "version": "3.7.7"
  }
 },
 "nbformat": 4,
 "nbformat_minor": 4
}
