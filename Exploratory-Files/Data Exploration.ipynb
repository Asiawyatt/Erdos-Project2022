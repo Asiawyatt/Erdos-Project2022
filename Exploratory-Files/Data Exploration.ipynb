{
 "cells": [
  {
   "cell_type": "code",
   "execution_count": 88,
   "metadata": {},
   "outputs": [],
   "source": [
    "import pandas as pd\n",
    "import numpy as np\n",
    "from collections import Counter\n",
    "import matplotlib.pyplot as plt\n",
    "from seaborn import set_style\n",
    "from sklearn.model_selection import train_test_split\n",
    "from sklearn.linear_model import LinearRegression\n",
    "set_style(\"whitegrid\")"
   ]
  },
  {
   "cell_type": "code",
   "execution_count": 37,
   "metadata": {},
   "outputs": [],
   "source": [
    "clTrials = pd.read_csv(\"CancerClinicalTrialData.csv\")"
   ]
  },
  {
   "cell_type": "code",
   "execution_count": 38,
   "metadata": {},
   "outputs": [
    {
     "data": {
      "text/plain": [
       "<bound method Counter.most_common of Counter({'Industry': 4053, 'Other': 2515, 'Other|Industry': 1851, 'Other|NIH': 1471, 'NIH': 786, 'Industry|Other': 146, 'Other|NIH|Industry': 117, 'NIH|Other': 76, 'Other|Industry|NIH': 42, 'Other|U.S. Fed': 41, 'U.S. Fed': 33, 'U.S. Fed|Other': 13, 'Industry|NIH': 13, 'Other|U.S. Fed|Industry': 8, 'Other|Industry|U.S. Fed': 7, 'NIH|Industry': 6, 'Other|U.S. Fed|NIH': 4, 'Industry|Other|U.S. Fed': 2, 'Industry|Other|NIH': 2, 'Industry|NIH|Other': 2, 'U.S. Fed|Industry': 2, 'NIH|Other|Industry': 2, 'U.S. Fed|NIH|Other': 1, 'U.S. Fed|NIH': 1, 'NIH|Other|U.S. Fed': 1, 'Industry|U.S. Fed': 1})>"
      ]
     },
     "execution_count": 38,
     "metadata": {},
     "output_type": "execute_result"
    }
   ],
   "source": [
    "Counter(clTrials[\"Funded Bys\"]).most_common"
   ]
  },
  {
   "cell_type": "code",
   "execution_count": 85,
   "metadata": {},
   "outputs": [
    {
     "data": {
      "text/html": [
       "<div>\n",
       "<style scoped>\n",
       "    .dataframe tbody tr th:only-of-type {\n",
       "        vertical-align: middle;\n",
       "    }\n",
       "\n",
       "    .dataframe tbody tr th {\n",
       "        vertical-align: top;\n",
       "    }\n",
       "\n",
       "    .dataframe thead th {\n",
       "        text-align: right;\n",
       "    }\n",
       "</style>\n",
       "<table border=\"1\" class=\"dataframe\">\n",
       "  <thead>\n",
       "    <tr style=\"text-align: right;\">\n",
       "      <th></th>\n",
       "      <th>Rank</th>\n",
       "      <th>Title</th>\n",
       "      <th>Status</th>\n",
       "      <th>Study Results</th>\n",
       "      <th>Conditions</th>\n",
       "      <th>Interventions</th>\n",
       "      <th>Outcome Measures</th>\n",
       "      <th>Gender</th>\n",
       "      <th>Age</th>\n",
       "      <th>Phases</th>\n",
       "      <th>...</th>\n",
       "      <th>Melanoma Cancer</th>\n",
       "      <th>Pancreatic Cancer</th>\n",
       "      <th>Treatment (Purpose)</th>\n",
       "      <th>Fed Funding</th>\n",
       "      <th>Industry Funding</th>\n",
       "      <th>Female</th>\n",
       "      <th>Male</th>\n",
       "      <th>Metastatic</th>\n",
       "      <th>Phases Num</th>\n",
       "      <th>Completed Status</th>\n",
       "    </tr>\n",
       "  </thead>\n",
       "  <tbody>\n",
       "    <tr>\n",
       "      <th>1</th>\n",
       "      <td>2</td>\n",
       "      <td>A Phase II Study of Nivolumab in Combination W...</td>\n",
       "      <td>Completed</td>\n",
       "      <td>Has Results</td>\n",
       "      <td>Breast Cancer</td>\n",
       "      <td>Drug: Nivolumab|Drug: Cabozantinib</td>\n",
       "      <td>Overall Response Rate|Number of Participants W...</td>\n",
       "      <td>Female</td>\n",
       "      <td>18 Years and older   (Adult, Older Adult)</td>\n",
       "      <td>Phase 2</td>\n",
       "      <td>...</td>\n",
       "      <td>0</td>\n",
       "      <td>0</td>\n",
       "      <td>1</td>\n",
       "      <td>1</td>\n",
       "      <td>0</td>\n",
       "      <td>1</td>\n",
       "      <td>0</td>\n",
       "      <td>0</td>\n",
       "      <td>3</td>\n",
       "      <td>1</td>\n",
       "    </tr>\n",
       "    <tr>\n",
       "      <th>3</th>\n",
       "      <td>4</td>\n",
       "      <td>Fulvestrant Plus Enzalutamide in ER+/Her2- Adv...</td>\n",
       "      <td>Completed</td>\n",
       "      <td>Has Results</td>\n",
       "      <td>Breast Cancer</td>\n",
       "      <td>Drug: Fulvestrant with Enzalutamide</td>\n",
       "      <td>Clinical Benefit Rate of the Combination of En...</td>\n",
       "      <td>Female</td>\n",
       "      <td>18 Years to 100 Years   (Adult, Older Adult)</td>\n",
       "      <td>Phase 2</td>\n",
       "      <td>...</td>\n",
       "      <td>0</td>\n",
       "      <td>0</td>\n",
       "      <td>1</td>\n",
       "      <td>0</td>\n",
       "      <td>1</td>\n",
       "      <td>1</td>\n",
       "      <td>0</td>\n",
       "      <td>0</td>\n",
       "      <td>3</td>\n",
       "      <td>1</td>\n",
       "    </tr>\n",
       "    <tr>\n",
       "      <th>8</th>\n",
       "      <td>9</td>\n",
       "      <td>4D Image-Guided Partial Breast Radiation in St...</td>\n",
       "      <td>Completed</td>\n",
       "      <td>Has Results</td>\n",
       "      <td>Breast Cancer</td>\n",
       "      <td>Radiation: 4D Conformal Image-Guided Partial B...</td>\n",
       "      <td>Patients With Reduction in Incidental Radiatio...</td>\n",
       "      <td>Female</td>\n",
       "      <td>50 Years and older   (Adult, Older Adult)</td>\n",
       "      <td>Not Applicable</td>\n",
       "      <td>...</td>\n",
       "      <td>0</td>\n",
       "      <td>0</td>\n",
       "      <td>1</td>\n",
       "      <td>0</td>\n",
       "      <td>0</td>\n",
       "      <td>1</td>\n",
       "      <td>0</td>\n",
       "      <td>0</td>\n",
       "      <td>0</td>\n",
       "      <td>1</td>\n",
       "    </tr>\n",
       "    <tr>\n",
       "      <th>13</th>\n",
       "      <td>14</td>\n",
       "      <td>Intrathecal Trastuzumab for Leptomeningeal Met...</td>\n",
       "      <td>Completed</td>\n",
       "      <td>Has Results</td>\n",
       "      <td>Breast Cancer</td>\n",
       "      <td>Radiation: Trastuzumab</td>\n",
       "      <td>Number of Dose Limiting Toxicities (DLT) of IT...</td>\n",
       "      <td>All</td>\n",
       "      <td>18 Years and older   (Adult, Older Adult)</td>\n",
       "      <td>Phase 1|Phase 2</td>\n",
       "      <td>...</td>\n",
       "      <td>0</td>\n",
       "      <td>0</td>\n",
       "      <td>1</td>\n",
       "      <td>0</td>\n",
       "      <td>0</td>\n",
       "      <td>0</td>\n",
       "      <td>0</td>\n",
       "      <td>0</td>\n",
       "      <td>2</td>\n",
       "      <td>1</td>\n",
       "    </tr>\n",
       "    <tr>\n",
       "      <th>15</th>\n",
       "      <td>16</td>\n",
       "      <td>A Study of Eribulin Mesylate With Trastuzumab ...</td>\n",
       "      <td>Completed</td>\n",
       "      <td>Has Results</td>\n",
       "      <td>Breast Cancer</td>\n",
       "      <td>Drug: E7389</td>\n",
       "      <td>Number of Participants With Dose Limiting Toxi...</td>\n",
       "      <td>Female</td>\n",
       "      <td>20 Years to 74 Years   (Adult, Older Adult)</td>\n",
       "      <td>Phase 1</td>\n",
       "      <td>...</td>\n",
       "      <td>0</td>\n",
       "      <td>0</td>\n",
       "      <td>1</td>\n",
       "      <td>1</td>\n",
       "      <td>0</td>\n",
       "      <td>1</td>\n",
       "      <td>0</td>\n",
       "      <td>0</td>\n",
       "      <td>1</td>\n",
       "      <td>1</td>\n",
       "    </tr>\n",
       "    <tr>\n",
       "      <th>...</th>\n",
       "      <td>...</td>\n",
       "      <td>...</td>\n",
       "      <td>...</td>\n",
       "      <td>...</td>\n",
       "      <td>...</td>\n",
       "      <td>...</td>\n",
       "      <td>...</td>\n",
       "      <td>...</td>\n",
       "      <td>...</td>\n",
       "      <td>...</td>\n",
       "      <td>...</td>\n",
       "      <td>...</td>\n",
       "      <td>...</td>\n",
       "      <td>...</td>\n",
       "      <td>...</td>\n",
       "      <td>...</td>\n",
       "      <td>...</td>\n",
       "      <td>...</td>\n",
       "      <td>...</td>\n",
       "      <td>...</td>\n",
       "      <td>...</td>\n",
       "    </tr>\n",
       "    <tr>\n",
       "      <th>11185</th>\n",
       "      <td>11186</td>\n",
       "      <td>Human IL-15 (rhIL-15) and Obinutuzumab for Rel...</td>\n",
       "      <td>Terminated</td>\n",
       "      <td>Has Results</td>\n",
       "      <td>Leukemia|Lymphocytic|Chronic|B-Cell</td>\n",
       "      <td>Drug: rhIL-15|Biological: Obinutuzumab</td>\n",
       "      <td>Number of Treatment-emergent Adverse Events (A...</td>\n",
       "      <td>All</td>\n",
       "      <td>18 Years and older   (Adult, Older Adult)</td>\n",
       "      <td>Phase 1</td>\n",
       "      <td>...</td>\n",
       "      <td>0</td>\n",
       "      <td>0</td>\n",
       "      <td>1</td>\n",
       "      <td>0</td>\n",
       "      <td>1</td>\n",
       "      <td>0</td>\n",
       "      <td>0</td>\n",
       "      <td>0</td>\n",
       "      <td>1</td>\n",
       "      <td>0</td>\n",
       "    </tr>\n",
       "    <tr>\n",
       "      <th>11186</th>\n",
       "      <td>11187</td>\n",
       "      <td>BN-Brachyury, Entinostat, Adotrastuzumab Emtan...</td>\n",
       "      <td>Terminated</td>\n",
       "      <td>Has Results</td>\n",
       "      <td>Breast Cancer|Triple Negative Breast Cancer|HE...</td>\n",
       "      <td>Biological: Brachyury-TRICOM|Drug: Entinostat|...</td>\n",
       "      <td>Overall Response (Partial Response + Complete ...</td>\n",
       "      <td>All</td>\n",
       "      <td>18 Years and older   (Adult, Older Adult)</td>\n",
       "      <td>Phase 1</td>\n",
       "      <td>...</td>\n",
       "      <td>0</td>\n",
       "      <td>0</td>\n",
       "      <td>1</td>\n",
       "      <td>0</td>\n",
       "      <td>1</td>\n",
       "      <td>0</td>\n",
       "      <td>0</td>\n",
       "      <td>1</td>\n",
       "      <td>1</td>\n",
       "      <td>0</td>\n",
       "    </tr>\n",
       "    <tr>\n",
       "      <th>11187</th>\n",
       "      <td>11188</td>\n",
       "      <td>Optune Device - TT Field Plus Nivolumab and Ip...</td>\n",
       "      <td>Terminated</td>\n",
       "      <td>Has Results</td>\n",
       "      <td>Melanoma With Brain Metastasis</td>\n",
       "      <td>Device: Optune|Biological: Nivolumab|Biologica...</td>\n",
       "      <td>Intracranial Progression-free Survival|Overall...</td>\n",
       "      <td>All</td>\n",
       "      <td>18 Years and older   (Adult, Older Adult)</td>\n",
       "      <td>Phase 2</td>\n",
       "      <td>...</td>\n",
       "      <td>1</td>\n",
       "      <td>0</td>\n",
       "      <td>1</td>\n",
       "      <td>1</td>\n",
       "      <td>0</td>\n",
       "      <td>0</td>\n",
       "      <td>0</td>\n",
       "      <td>0</td>\n",
       "      <td>3</td>\n",
       "      <td>0</td>\n",
       "    </tr>\n",
       "    <tr>\n",
       "      <th>11193</th>\n",
       "      <td>11194</td>\n",
       "      <td>Immune Checkpoint Inhibitor M7824 and the Immu...</td>\n",
       "      <td>Terminated</td>\n",
       "      <td>Has Results</td>\n",
       "      <td>Histologically or Cytologically Confirmed Panc...</td>\n",
       "      <td>Drug: M7824|Drug: M9241|Radiation: SBRT</td>\n",
       "      <td>Recommended Phase 2 Dose (RP2D) of NHS-IL12 (M...</td>\n",
       "      <td>All</td>\n",
       "      <td>18 Years and older   (Adult, Older Adult)</td>\n",
       "      <td>Phase 1|Phase 2</td>\n",
       "      <td>...</td>\n",
       "      <td>0</td>\n",
       "      <td>1</td>\n",
       "      <td>1</td>\n",
       "      <td>0</td>\n",
       "      <td>1</td>\n",
       "      <td>0</td>\n",
       "      <td>0</td>\n",
       "      <td>1</td>\n",
       "      <td>2</td>\n",
       "      <td>0</td>\n",
       "    </tr>\n",
       "    <tr>\n",
       "      <th>11194</th>\n",
       "      <td>11195</td>\n",
       "      <td>Study of Euthyroid Hypothyroxinemia in Metasta...</td>\n",
       "      <td>Terminated</td>\n",
       "      <td>Has Results</td>\n",
       "      <td>Metastatic Breast Cancer|Thyroid Dysfunction</td>\n",
       "      <td>Drug: Triiodothyronine (T3)</td>\n",
       "      <td>Number of Participants With Progression-free S...</td>\n",
       "      <td>All</td>\n",
       "      <td>18 Years to 105 Years   (Adult, Older Adult)</td>\n",
       "      <td>Phase 2</td>\n",
       "      <td>...</td>\n",
       "      <td>0</td>\n",
       "      <td>0</td>\n",
       "      <td>1</td>\n",
       "      <td>0</td>\n",
       "      <td>0</td>\n",
       "      <td>0</td>\n",
       "      <td>0</td>\n",
       "      <td>1</td>\n",
       "      <td>3</td>\n",
       "      <td>0</td>\n",
       "    </tr>\n",
       "  </tbody>\n",
       "</table>\n",
       "<p>4420 rows × 34 columns</p>\n",
       "</div>"
      ],
      "text/plain": [
       "        Rank                                              Title      Status  \\\n",
       "1          2  A Phase II Study of Nivolumab in Combination W...   Completed   \n",
       "3          4  Fulvestrant Plus Enzalutamide in ER+/Her2- Adv...   Completed   \n",
       "8          9  4D Image-Guided Partial Breast Radiation in St...   Completed   \n",
       "13        14  Intrathecal Trastuzumab for Leptomeningeal Met...   Completed   \n",
       "15        16  A Study of Eribulin Mesylate With Trastuzumab ...   Completed   \n",
       "...      ...                                                ...         ...   \n",
       "11185  11186  Human IL-15 (rhIL-15) and Obinutuzumab for Rel...  Terminated   \n",
       "11186  11187  BN-Brachyury, Entinostat, Adotrastuzumab Emtan...  Terminated   \n",
       "11187  11188  Optune Device - TT Field Plus Nivolumab and Ip...  Terminated   \n",
       "11193  11194  Immune Checkpoint Inhibitor M7824 and the Immu...  Terminated   \n",
       "11194  11195  Study of Euthyroid Hypothyroxinemia in Metasta...  Terminated   \n",
       "\n",
       "      Study Results                                         Conditions  \\\n",
       "1       Has Results                                      Breast Cancer   \n",
       "3       Has Results                                      Breast Cancer   \n",
       "8       Has Results                                      Breast Cancer   \n",
       "13      Has Results                                      Breast Cancer   \n",
       "15      Has Results                                      Breast Cancer   \n",
       "...             ...                                                ...   \n",
       "11185   Has Results                Leukemia|Lymphocytic|Chronic|B-Cell   \n",
       "11186   Has Results  Breast Cancer|Triple Negative Breast Cancer|HE...   \n",
       "11187   Has Results                     Melanoma With Brain Metastasis   \n",
       "11193   Has Results  Histologically or Cytologically Confirmed Panc...   \n",
       "11194   Has Results       Metastatic Breast Cancer|Thyroid Dysfunction   \n",
       "\n",
       "                                           Interventions  \\\n",
       "1                     Drug: Nivolumab|Drug: Cabozantinib   \n",
       "3                    Drug: Fulvestrant with Enzalutamide   \n",
       "8      Radiation: 4D Conformal Image-Guided Partial B...   \n",
       "13                                Radiation: Trastuzumab   \n",
       "15                                           Drug: E7389   \n",
       "...                                                  ...   \n",
       "11185             Drug: rhIL-15|Biological: Obinutuzumab   \n",
       "11186  Biological: Brachyury-TRICOM|Drug: Entinostat|...   \n",
       "11187  Device: Optune|Biological: Nivolumab|Biologica...   \n",
       "11193            Drug: M7824|Drug: M9241|Radiation: SBRT   \n",
       "11194                        Drug: Triiodothyronine (T3)   \n",
       "\n",
       "                                        Outcome Measures  Gender  \\\n",
       "1      Overall Response Rate|Number of Participants W...  Female   \n",
       "3      Clinical Benefit Rate of the Combination of En...  Female   \n",
       "8      Patients With Reduction in Incidental Radiatio...  Female   \n",
       "13     Number of Dose Limiting Toxicities (DLT) of IT...     All   \n",
       "15     Number of Participants With Dose Limiting Toxi...  Female   \n",
       "...                                                  ...     ...   \n",
       "11185  Number of Treatment-emergent Adverse Events (A...     All   \n",
       "11186  Overall Response (Partial Response + Complete ...     All   \n",
       "11187  Intracranial Progression-free Survival|Overall...     All   \n",
       "11193  Recommended Phase 2 Dose (RP2D) of NHS-IL12 (M...     All   \n",
       "11194  Number of Participants With Progression-free S...     All   \n",
       "\n",
       "                                                Age           Phases  ...  \\\n",
       "1         18 Years and older   (Adult, Older Adult)          Phase 2  ...   \n",
       "3      18 Years to 100 Years   (Adult, Older Adult)          Phase 2  ...   \n",
       "8         50 Years and older   (Adult, Older Adult)   Not Applicable  ...   \n",
       "13        18 Years and older   (Adult, Older Adult)  Phase 1|Phase 2  ...   \n",
       "15      20 Years to 74 Years   (Adult, Older Adult)          Phase 1  ...   \n",
       "...                                             ...              ...  ...   \n",
       "11185     18 Years and older   (Adult, Older Adult)          Phase 1  ...   \n",
       "11186     18 Years and older   (Adult, Older Adult)          Phase 1  ...   \n",
       "11187     18 Years and older   (Adult, Older Adult)          Phase 2  ...   \n",
       "11193     18 Years and older   (Adult, Older Adult)  Phase 1|Phase 2  ...   \n",
       "11194  18 Years to 105 Years   (Adult, Older Adult)          Phase 2  ...   \n",
       "\n",
       "       Melanoma Cancer Pancreatic Cancer Treatment (Purpose) Fed Funding  \\\n",
       "1                    0                 0                   1           1   \n",
       "3                    0                 0                   1           0   \n",
       "8                    0                 0                   1           0   \n",
       "13                   0                 0                   1           0   \n",
       "15                   0                 0                   1           1   \n",
       "...                ...               ...                 ...         ...   \n",
       "11185                0                 0                   1           0   \n",
       "11186                0                 0                   1           0   \n",
       "11187                1                 0                   1           1   \n",
       "11193                0                 1                   1           0   \n",
       "11194                0                 0                   1           0   \n",
       "\n",
       "      Industry Funding  Female Male Metastatic  Phases Num  Completed Status  \n",
       "1                    0       1    0          0           3                 1  \n",
       "3                    1       1    0          0           3                 1  \n",
       "8                    0       1    0          0           0                 1  \n",
       "13                   0       0    0          0           2                 1  \n",
       "15                   0       1    0          0           1                 1  \n",
       "...                ...     ...  ...        ...         ...               ...  \n",
       "11185                1       0    0          0           1                 0  \n",
       "11186                1       0    0          1           1                 0  \n",
       "11187                0       0    0          0           3                 0  \n",
       "11193                1       0    0          1           2                 0  \n",
       "11194                0       0    0          1           3                 0  \n",
       "\n",
       "[4420 rows x 34 columns]"
      ]
     },
     "execution_count": 85,
     "metadata": {},
     "output_type": "execute_result"
    }
   ],
   "source": [
    "clTrials"
   ]
  },
  {
   "cell_type": "code",
   "execution_count": 40,
   "metadata": {},
   "outputs": [],
   "source": [
    "def check_breast_substring(x):\n",
    "    if \"Breast\" in x:\n",
    "        return 1\n",
    "    else:\n",
    "        return 0\n",
    "def check_blood_substring(x):\n",
    "    if \"Leukemia\" in x:\n",
    "        return 1\n",
    "    elif \"Lymphoma\" in x:\n",
    "        return 1\n",
    "    elif \"Myeloma\" in x:\n",
    "        return 1\n",
    "    elif \"Blood\" in x:\n",
    "        return 1\n",
    "    else:\n",
    "        return 0\n",
    "def check_lung_substring(x):\n",
    "    if \"Lung\" in x:\n",
    "        return 1\n",
    "    else:\n",
    "        return 0\n",
    "def check_colorectal_substring(x):\n",
    "    if \"Colorectal\" in x:\n",
    "        return 1\n",
    "    else:\n",
    "        return 0\n",
    "def check_ovarian_substring(x):\n",
    "    if \"Ovarian\" in x:\n",
    "        return 1\n",
    "    else:\n",
    "        return 0\n",
    "def check_cervical_substring(x):\n",
    "    if \"Cervical\" in x:\n",
    "        return 1\n",
    "    else:\n",
    "        return 0\n",
    "    \n",
    "def check_melanoma_substring(x):\n",
    "    if \"Melanoma\" in x:\n",
    "        return 1\n",
    "    else:\n",
    "        return 0\n",
    "    \n",
    "def check_pancreatic_substring(x):\n",
    "    if \"Pancreatic\" in x:\n",
    "        return 1\n",
    "    else:\n",
    "        return 0\n",
    "def check_treatment_substring(x):\n",
    "    if \"Treatment\" in x:\n",
    "        return 1\n",
    "    else:\n",
    "        return 0\n",
    "def check_industry_substring(x):\n",
    "    if \"Industry\" in x:\n",
    "        return 1\n",
    "    else:\n",
    "        return 0\n",
    "def check_fed_substring(x):\n",
    "    if \"Fed\" in x:\n",
    "        return 1\n",
    "    elif \"NIH\" in x:\n",
    "        return 1\n",
    "    else:\n",
    "        return 0\n",
    "def check_female_substring(x):\n",
    "    if \"Female\" in x:\n",
    "        return 1\n",
    "    else:\n",
    "        return 0    \n",
    "def check_male_substring(x):\n",
    "    if \"Male\" in x:\n",
    "        return 1\n",
    "    else:\n",
    "        return 0    \n",
    "def check_metastatic_substring(x):\n",
    "    if \"Metastatic\" in x:\n",
    "        return 1\n",
    "    else:\n",
    "        return 0     \n",
    "def check_complete_substring(x):\n",
    "    if \"Completed\" in x:\n",
    "        return 1\n",
    "    else:\n",
    "        return 0     "
   ]
  },
  {
   "cell_type": "code",
   "execution_count": 73,
   "metadata": {},
   "outputs": [],
   "source": [
    "clTrials[\"Breast Cancer\"] = clTrials[\"Conditions\"].apply(check_breast_substring)\n",
    "clTrials[\"Blood Cancer\"] = clTrials[\"Conditions\"].apply(check_blood_substring)\n",
    "clTrials[\"Lung Cancer\"] = clTrials[\"Conditions\"].apply(check_lung_substring)\n",
    "clTrials[\"Colorectal Cancer\"] = clTrials[\"Conditions\"].apply(check_colorectal_substring)\n",
    "clTrials[\"Ovarian Cancer\"] = clTrials[\"Conditions\"].apply(check_ovarian_substring)\n",
    "clTrials[\"Cervical Cancer\"] = clTrials[\"Conditions\"].apply(check_cervical_substring)\n",
    "clTrials[\"Melanoma Cancer\"] = clTrials[\"Conditions\"].apply(check_melanoma_substring)\n",
    "clTrials[\"Pancreatic Cancer\"] = clTrials[\"Conditions\"].apply(check_pancreatic_substring)\n",
    "clTrials['Study Designs'] = clTrials['Study Designs'].astype('str')\n",
    "clTrials[\"Treatment (Purpose)\"] = clTrials[\"Study Designs\"].apply(check_treatment_substring)\n",
    "clTrials[\"Fed Funding\"] = clTrials[\"Funded Bys\"].apply(check_industry_substring)\n",
    "clTrials[\"Industry Funding\"] = clTrials[\"Funded Bys\"].apply(check_fed_substring)\n",
    "clTrials['Gender'] = clTrials['Gender'].astype('str')\n",
    "clTrials[\"Female\"] = clTrials[\"Gender\"].apply(check_female_substring)\n",
    "clTrials[\"Male\"] = clTrials[\"Gender\"].apply(check_male_substring)\n",
    "clTrials[\"Metastatic\"] = clTrials[\"Conditions\"].apply(check_metastatic_substring)\n",
    "phase_mapper = {\"Not Applicable\":0, \"Early Phase 1\":1, \"Phase 1\":1, \"Phase 1|Phase 2\":2, \"Phase 2\":3, \"Phase 2|Phase 3\":4, \"Phase 3\":5, \"Phase 4\":6}\n",
    "clTrials[\"Phases Num\"] = clTrials[\"Phases\"].replace(phase_mapper)\n",
    "clTrials[\"Completed Status\"] = clTrials[\"Status\"].apply(check_complete_substring)"
   ]
  },
  {
   "cell_type": "code",
   "execution_count": 42,
   "metadata": {},
   "outputs": [],
   "source": [
    "clTrials = clTrials[clTrials[\"Treatment (Purpose)\"] == 1]"
   ]
  },
  {
   "cell_type": "code",
   "execution_count": 43,
   "metadata": {},
   "outputs": [
    {
     "data": {
      "text/plain": [
       "<bound method Counter.most_common of Counter({0: 8498, 1: 1029})>"
      ]
     },
     "execution_count": 43,
     "metadata": {},
     "output_type": "execute_result"
    }
   ],
   "source": [
    "Counter(clTrials[\"Breast Cancer\"]).most_common"
   ]
  },
  {
   "cell_type": "code",
   "execution_count": 44,
   "metadata": {},
   "outputs": [
    {
     "data": {
      "text/plain": [
       "<bound method Counter.most_common of Counter({0: 7443, 1: 2084})>"
      ]
     },
     "execution_count": 44,
     "metadata": {},
     "output_type": "execute_result"
    }
   ],
   "source": [
    "Counter(clTrials[\"Blood Cancer\"]).most_common"
   ]
  },
  {
   "cell_type": "code",
   "execution_count": 45,
   "metadata": {},
   "outputs": [
    {
     "data": {
      "text/plain": [
       "<bound method Counter.most_common of Counter({0: 8561, 1: 966})>"
      ]
     },
     "execution_count": 45,
     "metadata": {},
     "output_type": "execute_result"
    }
   ],
   "source": [
    "Counter(clTrials[\"Lung Cancer\"]).most_common"
   ]
  },
  {
   "cell_type": "code",
   "execution_count": 46,
   "metadata": {},
   "outputs": [
    {
     "data": {
      "text/plain": [
       "4420"
      ]
     },
     "execution_count": 46,
     "metadata": {},
     "output_type": "execute_result"
    }
   ],
   "source": [
    "Br = clTrials[\"Breast Cancer\"] == 1 \n",
    "Bl = clTrials[\"Blood Cancer\"] == 1 \n",
    "Co = clTrials[\"Colorectal Cancer\"] == 1 \n",
    "Ov = clTrials[\"Ovarian Cancer\"] == 1 \n",
    "Ce = clTrials[\"Cervical Cancer\"] == 1 \n",
    "Me = clTrials[\"Melanoma Cancer\"] == 1\n",
    "Pa = clTrials[\"Pancreatic Cancer\"] == 1\n",
    "np.size(clTrials[Br | Bl | Co | Ov | Ce | Me | Pa],0)"
   ]
  },
  {
   "cell_type": "code",
   "execution_count": 47,
   "metadata": {},
   "outputs": [
    {
     "data": {
      "text/plain": [
       "<bound method Counter.most_common of Counter({0: 8859, 1: 668})>"
      ]
     },
     "execution_count": 47,
     "metadata": {},
     "output_type": "execute_result"
    }
   ],
   "source": [
    "Counter(clTrials[\"Metastatic\"]).most_common"
   ]
  },
  {
   "cell_type": "code",
   "execution_count": 48,
   "metadata": {},
   "outputs": [],
   "source": [
    "clTrials = clTrials[Br | Bl | Co | Ov | Ce | Me | Pa]"
   ]
  },
  {
   "cell_type": "code",
   "execution_count": 54,
   "metadata": {},
   "outputs": [
    {
     "data": {
      "text/plain": [
       "<bound method Counter.most_common of Counter({0: 3391, 1: 1029})>"
      ]
     },
     "execution_count": 54,
     "metadata": {},
     "output_type": "execute_result"
    }
   ],
   "source": [
    "Counter(clTrials[\"Breast Cancer\"]).most_common"
   ]
  },
  {
   "cell_type": "code",
   "execution_count": 57,
   "metadata": {},
   "outputs": [
    {
     "name": "stdout",
     "output_type": "stream",
     "text": [
      "71.16402116402116\n",
      "72.88471053933696\n"
     ]
    }
   ],
   "source": [
    "met = clTrials[\"Metastatic\"] == 1\n",
    "notMet = clTrials[\"Metastatic\"] == 0\n",
    "comp = clTrials[\"Completed Status\"] == 1\n",
    "perMetComp = np.size(clTrials[met & comp],0) / 378 * 100\n",
    "perNotMetComp = np.size(clTrials[notMet & comp],0) / 4042 * 100\n",
    "\n",
    "print(perMetComp)\n",
    "print(perNotMetComp)"
   ]
  },
  {
   "cell_type": "code",
   "execution_count": 74,
   "metadata": {},
   "outputs": [
    {
     "data": {
      "text/plain": [
       "<bound method Counter.most_common of Counter({3: 2567, 2: 640, 5: 520, 1: 377, 0: 220, 6: 66, 4: 30})>"
      ]
     },
     "execution_count": 74,
     "metadata": {},
     "output_type": "execute_result"
    }
   ],
   "source": [
    "Counter(clTrials[\"Phases Num\"]).most_common"
   ]
  },
  {
   "cell_type": "code",
   "execution_count": 69,
   "metadata": {},
   "outputs": [
    {
     "name": "stdout",
     "output_type": "stream",
     "text": [
      "74.82993197278913\n",
      "71.83301343570058\n"
     ]
    }
   ],
   "source": [
    "Br = clTrials[\"Breast Cancer\"] == 1 \n",
    "Bl = clTrials[\"Blood Cancer\"] == 1 \n",
    "Co = clTrials[\"Colorectal Cancer\"] == 1 \n",
    "Ov = clTrials[\"Ovarian Cancer\"] == 1 \n",
    "Ce = clTrials[\"Cervical Cancer\"] == 1 \n",
    "Me = clTrials[\"Melanoma Cancer\"] == 1\n",
    "Pa = clTrials[\"Pancreatic Cancer\"] == 1\n",
    "Fe = clTrials[\"Female\"] == 1\n",
    "Ma = clTrials[\"Female\"] == 0\n",
    "\n",
    "perBrComp = np.size(clTrials[Br & comp],0) / 1029 * 100\n",
    "perBlComp = np.size(clTrials[Bl & comp],0) / 2084 * 100\n",
    "\n",
    "print(perBrComp)\n",
    "print(perBlComp)"
   ]
  },
  {
   "cell_type": "code",
   "execution_count": 65,
   "metadata": {},
   "outputs": [
    {
     "name": "stdout",
     "output_type": "stream",
     "text": [
      "74.6268656716418\n"
     ]
    }
   ],
   "source": [
    "perFeComp = np.size(clTrials[Fe & comp],0) / 938 * 100\n",
    "\n",
    "print(perFeComp)"
   ]
  },
  {
   "cell_type": "code",
   "execution_count": 70,
   "metadata": {},
   "outputs": [
    {
     "name": "stdout",
     "output_type": "stream",
     "text": [
      "72.22860425043078\n"
     ]
    }
   ],
   "source": [
    "perNotFeComp = np.size(clTrials[Ma & comp],0) / 3482 * 100\n",
    "\n",
    "print(perNotFeComp)"
   ]
  },
  {
   "cell_type": "code",
   "execution_count": 78,
   "metadata": {},
   "outputs": [
    {
     "name": "stdout",
     "output_type": "stream",
     "text": [
      "73.74005305039788\n",
      "66.875\n",
      "71.71795870666148\n",
      "70.0\n",
      "83.26923076923077\n",
      "84.84848484848484\n",
      "71.81818181818181\n"
     ]
    }
   ],
   "source": [
    "P1 = clTrials[\"Phases Num\"] == 1\n",
    "perP1Comp = np.size(clTrials[P1 & comp],0) / 377 * 100\n",
    "print(perP1Comp)\n",
    "\n",
    "P2 = clTrials[\"Phases Num\"] == 2\n",
    "perP2Comp = np.size(clTrials[P2 & comp],0) / 640 * 100\n",
    "print(perP2Comp)\n",
    "\n",
    "P3 = clTrials[\"Phases Num\"] == 3\n",
    "perP3Comp = np.size(clTrials[P3 & comp],0) / 2567 * 100\n",
    "print(perP3Comp)\n",
    "\n",
    "P4 = clTrials[\"Phases Num\"] == 4\n",
    "perP4Comp = np.size(clTrials[P4 & comp],0) / 30 * 100\n",
    "print(perP4Comp)\n",
    "\n",
    "P5 = clTrials[\"Phases Num\"] == 5\n",
    "perP5Comp = np.size(clTrials[P5 & comp],0) / 520 * 100\n",
    "print(perP5Comp)\n",
    "\n",
    "P6 = clTrials[\"Phases Num\"] == 6\n",
    "perP6Comp = np.size(clTrials[P6 & comp],0) / 66 * 100\n",
    "print(perP6Comp)\n",
    "\n",
    "P0 = clTrials[\"Phases Num\"] == 0\n",
    "perP0Comp = np.size(clTrials[P0 & comp],0) / 220 * 100\n",
    "print(perP0Comp)\n"
   ]
  },
  {
   "cell_type": "code",
   "execution_count": 79,
   "metadata": {},
   "outputs": [
    {
     "data": {
      "text/plain": [
       "<bound method Counter.most_common of Counter({'Industry': 1593, 'Other': 855, 'Other|Industry': 837, 'Other|NIH': 610, 'NIH': 336, 'Industry|Other': 67, 'Other|NIH|Industry': 47, 'NIH|Other': 34, 'Other|Industry|NIH': 18, 'Other|U.S. Fed': 6, 'Industry|NIH': 5, 'NIH|Industry': 3, 'Other|U.S. Fed|Industry': 2, 'Other|Industry|U.S. Fed': 2, 'Industry|Other|U.S. Fed': 1, 'U.S. Fed': 1, 'Industry|NIH|Other': 1, 'Other|U.S. Fed|NIH': 1, 'Industry|Other|NIH': 1})>"
      ]
     },
     "execution_count": 79,
     "metadata": {},
     "output_type": "execute_result"
    }
   ],
   "source": [
    "Counter(clTrials[\"Funded Bys\"]).most_common"
   ]
  },
  {
   "cell_type": "code",
   "execution_count": 81,
   "metadata": {},
   "outputs": [
    {
     "data": {
      "text/plain": [
       "2577"
      ]
     },
     "execution_count": 81,
     "metadata": {},
     "output_type": "execute_result"
    }
   ],
   "source": [
    "np.size(clTrials[clTrials[\"Fed Funding\"] == 1],0)"
   ]
  },
  {
   "cell_type": "code",
   "execution_count": 82,
   "metadata": {},
   "outputs": [
    {
     "name": "stdout",
     "output_type": "stream",
     "text": [
      "73.40823970037454\n",
      "74.54404346138921\n"
     ]
    }
   ],
   "source": [
    "F1 = clTrials[\"Industry Funding\"] == 1\n",
    "perF1Comp = np.size(clTrials[F1 & comp],0) / 1068 * 100\n",
    "print(perF1Comp)\n",
    "\n",
    "F2 = clTrials[\"Fed Funding\"] == 1\n",
    "perF2Comp = np.size(clTrials[F2 & comp],0) / 2577 * 100\n",
    "print(perF2Comp)\n"
   ]
  },
  {
   "cell_type": "code",
   "execution_count": 83,
   "metadata": {},
   "outputs": [
    {
     "data": {
      "text/plain": [
       "855"
      ]
     },
     "execution_count": 83,
     "metadata": {},
     "output_type": "execute_result"
    }
   ],
   "source": [
    "np.size(clTrials[~(F1 | F2)],0)"
   ]
  },
  {
   "cell_type": "code",
   "execution_count": 84,
   "metadata": {},
   "outputs": [
    {
     "name": "stdout",
     "output_type": "stream",
     "text": [
      "65.84795321637426\n"
     ]
    }
   ],
   "source": [
    "perF3Comp = np.size(clTrials[~(F1 | F2) & comp],0) / 855 * 100\n",
    "print(perF3Comp)"
   ]
  },
  {
   "cell_type": "code",
   "execution_count": 86,
   "metadata": {},
   "outputs": [
    {
     "data": {
      "text/plain": [
       "Index(['Rank', 'Title', 'Status', 'Study Results', 'Conditions',\n",
       "       'Interventions', 'Outcome Measures', 'Gender', 'Age', 'Phases',\n",
       "       'Enrollment', 'Funded Bys', 'Study Designs', 'Start Date',\n",
       "       'Completion Date', 'Study Duration (months)', 'Locations', 'URL',\n",
       "       'Breast Cancer', 'Blood Cancer', 'Lung Cancer', 'Colorectal Cancer',\n",
       "       'Ovarian Cancer', 'Cervical Cancer', 'Melanoma Cancer',\n",
       "       'Pancreatic Cancer', 'Treatment (Purpose)', 'Fed Funding',\n",
       "       'Industry Funding', 'Female', 'Male', 'Metastatic', 'Phases Num',\n",
       "       'Completed Status'],\n",
       "      dtype='object')"
      ]
     },
     "execution_count": 86,
     "metadata": {},
     "output_type": "execute_result"
    }
   ],
   "source": [
    "clTrials.columns"
   ]
  },
  {
   "cell_type": "code",
   "execution_count": 90,
   "metadata": {},
   "outputs": [],
   "source": [
    "clTrials_train, clTrials_test = train_test_split(clTrials.copy(), \n",
    "                                            shuffle=True,\n",
    "                                            random_state=314,\n",
    "                                            stratify=clTrials['Completed Status'],\n",
    "                                            test_size=.2)"
   ]
  },
  {
   "cell_type": "code",
   "execution_count": 94,
   "metadata": {},
   "outputs": [
    {
     "data": {
      "image/png": "[encoded data removed]",
      "text/plain": [
       "<Figure size 864x576 with 1 Axes>"
      ]
     },
     "metadata": {},
     "output_type": "display_data"
    }
   ],
   "source": [
    "plt.figure(figsize=(12,8))\n",
    "\n",
    "plt.scatter(clTrials_train[\"Enrollment\"],\n",
    "               clTrials_train[\"Completed Status\"])\n",
    "\n",
    "plt.xlabel(\"Enrollment\", fontsize=20)\n",
    "plt.ylabel(\"Complete Status\", fontsize=20)\n",
    "plt.xticks(fontsize=14)\n",
    "plt.yticks(fontsize=14)\n",
    "\n",
    "plt.show()"
   ]
  },
  {
   "cell_type": "code",
   "execution_count": null,
   "metadata": {},
   "outputs": [],
   "source": []
  },
  {
   "cell_type": "code",
   "execution_count": null,
   "metadata": {},
   "outputs": [],
   "source": []
  }
 ],
 "metadata": {
  "kernelspec": {
   "display_name": "Python 3 (ipykernel)",
   "language": "python",
   "name": "python3"
  },
  "language_info": {
   "codemirror_mode": {
    "name": "ipython",
    "version": 3
   },
   "file_extension": ".py",
   "mimetype": "text/x-python",
   "name": "python",
   "nbconvert_exporter": "python",
   "pygments_lexer": "ipython3",
   "version": "3.10.4"
  }
 },
 "nbformat": 4,
 "nbformat_minor": 4
}
