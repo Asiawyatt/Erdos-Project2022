{
 "cells": [
  {
   "cell_type": "code",
   "execution_count": 1,
   "metadata": {},
   "outputs": [],
   "source": [
    "import pandas as pd\n",
    "import numpy as np\n",
    "from collections import Counter\n",
    "import matplotlib.pyplot as plt\n",
    "from seaborn import set_style\n",
    "from sklearn.model_selection import train_test_split\n",
    "from sklearn.linear_model import LinearRegression\n",
    "set_style(\"whitegrid\")"
   ]
  },
  {
   "cell_type": "code",
   "execution_count": 2,
   "metadata": {},
   "outputs": [],
   "source": [
    "clTrials = pd.read_csv(\"CancerClinicalTrialData.csv\")"
   ]
  },
  {
   "cell_type": "code",
   "execution_count": 3,
   "metadata": {},
   "outputs": [
    {
     "data": {
      "text/plain": [
       "<bound method Counter.most_common of Counter({'Industry': 4053, 'Other': 2515, 'Other|Industry': 1851, 'Other|NIH': 1471, 'NIH': 786, 'Industry|Other': 146, 'Other|NIH|Industry': 117, 'NIH|Other': 76, 'Other|Industry|NIH': 42, 'Other|U.S. Fed': 41, 'U.S. Fed': 33, 'U.S. Fed|Other': 13, 'Industry|NIH': 13, 'Other|U.S. Fed|Industry': 8, 'Other|Industry|U.S. Fed': 7, 'NIH|Industry': 6, 'Other|U.S. Fed|NIH': 4, 'Industry|Other|U.S. Fed': 2, 'Industry|Other|NIH': 2, 'Industry|NIH|Other': 2, 'U.S. Fed|Industry': 2, 'NIH|Other|Industry': 2, 'U.S. Fed|NIH|Other': 1, 'U.S. Fed|NIH': 1, 'NIH|Other|U.S. Fed': 1, 'Industry|U.S. Fed': 1})>"
      ]
     },
     "execution_count": 3,
     "metadata": {},
     "output_type": "execute_result"
    }
   ],
   "source": [
    "Counter(clTrials[\"Funded Bys\"]).most_common"
   ]
  },
  {
   "cell_type": "code",
   "execution_count": null,
   "metadata": {},
   "outputs": [],
   "source": [
    "clTrials"
   ]
  },
  {
   "cell_type": "code",
   "execution_count": null,
   "metadata": {},
   "outputs": [],
   "source": [
    "def check_breast_substring(x):\n",
    "    if \"Breast\" in x:\n",
    "        return 1\n",
    "    else:\n",
    "        return 0\n",
    "def check_blood_substring(x):\n",
    "    if \"Leukemia\" in x:\n",
    "        return 1\n",
    "    elif \"Lymphoma\" in x:\n",
    "        return 1\n",
    "    elif \"Myeloma\" in x:\n",
    "        return 1\n",
    "    elif \"Blood\" in x:\n",
    "        return 1\n",
    "    else:\n",
    "        return 0\n",
    "def check_lung_substring(x):\n",
    "    if \"Lung\" in x:\n",
    "        return 1\n",
    "    else:\n",
    "        return 0\n",
    "def check_colorectal_substring(x):\n",
    "    if \"Colorectal\" in x:\n",
    "        return 1\n",
    "    else:\n",
    "        return 0\n",
    "def check_ovarian_substring(x):\n",
    "    if \"Ovarian\" in x:\n",
    "        return 1\n",
    "    else:\n",
    "        return 0\n",
    "def check_cervical_substring(x):\n",
    "    if \"Cervical\" in x:\n",
    "        return 1\n",
    "    else:\n",
    "        return 0\n",
    "    \n",
    "def check_melanoma_substring(x):\n",
    "    if \"Melanoma\" in x:\n",
    "        return 1\n",
    "    else:\n",
    "        return 0\n",
    "    \n",
    "def check_pancreatic_substring(x):\n",
    "    if \"Pancreatic\" in x:\n",
    "        return 1\n",
    "    else:\n",
    "        return 0\n",
    "def check_treatment_substring(x):\n",
    "    if \"Treatment\" in x:\n",
    "        return 1\n",
    "    else:\n",
    "        return 0\n",
    "def check_industry_substring(x):\n",
    "    if \"Industry\" in x:\n",
    "        return 1\n",
    "    else:\n",
    "        return 0\n",
    "def check_fed_substring(x):\n",
    "    if \"Fed\" in x:\n",
    "        return 1\n",
    "    elif \"NIH\" in x:\n",
    "        return 1\n",
    "    else:\n",
    "        return 0\n",
    "def check_female_substring(x):\n",
    "    if \"Female\" in x:\n",
    "        return 1\n",
    "    else:\n",
    "        return 0    \n",
    "def check_male_substring(x):\n",
    "    if \"Male\" in x:\n",
    "        return 1\n",
    "    else:\n",
    "        return 0    \n",
    "def check_metastatic_substring(x):\n",
    "    if \"Metastatic\" in x:\n",
    "        return 1\n",
    "    else:\n",
    "        return 0     \n",
    "def check_complete_substring(x):\n",
    "    if \"Completed\" in x:\n",
    "        return 1\n",
    "    else:\n",
    "        return 0     "
   ]
  },
  {
   "cell_type": "code",
   "execution_count": null,
   "metadata": {},
   "outputs": [],
   "source": []
  },
  {
   "cell_type": "code",
   "execution_count": null,
   "metadata": {},
   "outputs": [],
   "source": []
  },
  {
   "cell_type": "code",
   "execution_count": null,
   "metadata": {},
   "outputs": [],
   "source": []
  },
  {
   "cell_type": "code",
   "execution_count": null,
   "metadata": {},
   "outputs": [],
   "source": []
  },
  {
   "cell_type": "code",
   "execution_count": null,
   "metadata": {},
   "outputs": [],
   "source": []
  },
  {
   "cell_type": "code",
   "execution_count": null,
   "metadata": {},
   "outputs": [],
   "source": []
  },
  {
   "cell_type": "code",
   "execution_count": null,
   "metadata": {},
   "outputs": [],
   "source": []
  },
  {
   "cell_type": "code",
   "execution_count": null,
   "metadata": {},
   "outputs": [],
   "source": [
    "clTrials[\"Breast Cancer\"] = clTrials[\"Conditions\"].apply(check_breast_substring)\n",
    "clTrials[\"Blood Cancer\"] = clTrials[\"Conditions\"].apply(check_blood_substring)\n",
    "clTrials[\"Lung Cancer\"] = clTrials[\"Conditions\"].apply(check_lung_substring)\n",
    "clTrials[\"Colorectal Cancer\"] = clTrials[\"Conditions\"].apply(check_colorectal_substring)\n",
    "clTrials[\"Ovarian Cancer\"] = clTrials[\"Conditions\"].apply(check_ovarian_substring)\n",
    "clTrials[\"Cervical Cancer\"] = clTrials[\"Conditions\"].apply(check_cervical_substring)\n",
    "clTrials[\"Melanoma Cancer\"] = clTrials[\"Conditions\"].apply(check_melanoma_substring)\n",
    "clTrials[\"Pancreatic Cancer\"] = clTrials[\"Conditions\"].apply(check_pancreatic_substring)\n",
    "clTrials['Study Designs'] = clTrials['Study Designs'].astype('str')\n",
    "clTrials[\"Treatment (Purpose)\"] = clTrials[\"Study Designs\"].apply(check_treatment_substring)\n",
    "clTrials[\"Fed Funding\"] = clTrials[\"Funded Bys\"].apply(check_industry_substring)\n",
    "clTrials[\"Industry Funding\"] = clTrials[\"Funded Bys\"].apply(check_fed_substring)\n",
    "clTrials['Gender'] = clTrials['Gender'].astype('str')\n",
    "clTrials[\"Female\"] = clTrials[\"Gender\"].apply(check_female_substring)\n",
    "clTrials[\"Male\"] = clTrials[\"Gender\"].apply(check_male_substring)\n",
    "clTrials[\"Metastatic\"] = clTrials[\"Conditions\"].apply(check_metastatic_substring)\n",
    "phase_mapper = {\"Not Applicable\":0, \"Early Phase 1\":1, \"Phase 1\":1, \"Phase 1|Phase 2\":2, \"Phase 2\":3, \"Phase 2|Phase 3\":4, \"Phase 3\":5, \"Phase 4\":6}\n",
    "clTrials[\"Phases Num\"] = clTrials[\"Phases\"].replace(phase_mapper)\n",
    "clTrials[\"Completed Status\"] = clTrials[\"Status\"].apply(check_complete_substring)"
   ]
  },
  {
   "cell_type": "code",
   "execution_count": null,
   "metadata": {},
   "outputs": [],
   "source": [
    "clTrials = clTrials[clTrials[\"Treatment (Purpose)\"] == 1]"
   ]
  },
  {
   "cell_type": "code",
   "execution_count": null,
   "metadata": {},
   "outputs": [],
   "source": [
    "Counter(clTrials[\"Breast Cancer\"]).most_common"
   ]
  },
  {
   "cell_type": "code",
   "execution_count": null,
   "metadata": {},
   "outputs": [],
   "source": [
    "Counter(clTrials[\"Blood Cancer\"]).most_common"
   ]
  },
  {
   "cell_type": "code",
   "execution_count": null,
   "metadata": {},
   "outputs": [],
   "source": [
    "Counter(clTrials[\"Lung Cancer\"]).most_common"
   ]
  },
  {
   "cell_type": "code",
   "execution_count": null,
   "metadata": {},
   "outputs": [],
   "source": [
    "Br = clTrials[\"Breast Cancer\"] == 1 \n",
    "Bl = clTrials[\"Blood Cancer\"] == 1 \n",
    "Co = clTrials[\"Colorectal Cancer\"] == 1 \n",
    "Ov = clTrials[\"Ovarian Cancer\"] == 1 \n",
    "Ce = clTrials[\"Cervical Cancer\"] == 1 \n",
    "Me = clTrials[\"Melanoma Cancer\"] == 1\n",
    "Pa = clTrials[\"Pancreatic Cancer\"] == 1\n",
    "np.size(clTrials[Br | Bl | Co | Ov | Ce | Me | Pa],0)"
   ]
  },
  {
   "cell_type": "code",
   "execution_count": null,
   "metadata": {},
   "outputs": [],
   "source": [
    "Counter(clTrials[\"Metastatic\"]).most_common"
   ]
  },
  {
   "cell_type": "code",
   "execution_count": null,
   "metadata": {},
   "outputs": [],
   "source": [
    "clTrials = clTrials[Br | Bl | Co | Ov | Ce | Me | Pa]"
   ]
  },
  {
   "cell_type": "code",
   "execution_count": null,
   "metadata": {},
   "outputs": [],
   "source": [
    "Counter(clTrials[\"Breast Cancer\"]).most_common"
   ]
  },
  {
   "cell_type": "code",
   "execution_count": null,
   "metadata": {},
   "outputs": [],
   "source": [
    "met = clTrials[\"Metastatic\"] == 1\n",
    "notMet = clTrials[\"Metastatic\"] == 0\n",
    "comp = clTrials[\"Completed Status\"] == 1\n",
    "perMetComp = np.size(clTrials[met & comp],0) / 378 * 100\n",
    "perNotMetComp = np.size(clTrials[notMet & comp],0) / 4042 * 100\n",
    "\n",
    "print(perMetComp)\n",
    "print(perNotMetComp)"
   ]
  },
  {
   "cell_type": "code",
   "execution_count": null,
   "metadata": {},
   "outputs": [],
   "source": [
    "Counter(clTrials[\"Phases Num\"]).most_common"
   ]
  },
  {
   "cell_type": "code",
   "execution_count": null,
   "metadata": {},
   "outputs": [],
   "source": [
    "Br = clTrials[\"Breast Cancer\"] == 1 \n",
    "Bl = clTrials[\"Blood Cancer\"] == 1 \n",
    "Co = clTrials[\"Colorectal Cancer\"] == 1 \n",
    "Ov = clTrials[\"Ovarian Cancer\"] == 1 \n",
    "Ce = clTrials[\"Cervical Cancer\"] == 1 \n",
    "Me = clTrials[\"Melanoma Cancer\"] == 1\n",
    "Pa = clTrials[\"Pancreatic Cancer\"] == 1\n",
    "Fe = clTrials[\"Female\"] == 1\n",
    "Ma = clTrials[\"Female\"] == 0\n",
    "\n",
    "perBrComp = np.size(clTrials[Br & comp],0) / 1029 * 100\n",
    "perBlComp = np.size(clTrials[Bl & comp],0) / 2084 * 100\n",
    "\n",
    "print(perBrComp)\n",
    "print(perBlComp)"
   ]
  },
  {
   "cell_type": "code",
   "execution_count": null,
   "metadata": {},
   "outputs": [],
   "source": [
    "perFeComp = np.size(clTrials[Fe & comp],0) / 938 * 100\n",
    "\n",
    "print(perFeComp)"
   ]
  },
  {
   "cell_type": "code",
   "execution_count": null,
   "metadata": {},
   "outputs": [],
   "source": [
    "perNotFeComp = np.size(clTrials[Ma & comp],0) / 3482 * 100\n",
    "\n",
    "print(perNotFeComp)"
   ]
  },
  {
   "cell_type": "code",
   "execution_count": null,
   "metadata": {},
   "outputs": [],
   "source": [
    "P1 = clTrials[\"Phases Num\"] == 1\n",
    "perP1Comp = np.size(clTrials[P1 & comp],0) / 377 * 100\n",
    "print(perP1Comp)\n",
    "\n",
    "P2 = clTrials[\"Phases Num\"] == 2\n",
    "perP2Comp = np.size(clTrials[P2 & comp],0) / 640 * 100\n",
    "print(perP2Comp)\n",
    "\n",
    "P3 = clTrials[\"Phases Num\"] == 3\n",
    "perP3Comp = np.size(clTrials[P3 & comp],0) / 2567 * 100\n",
    "print(perP3Comp)\n",
    "\n",
    "P4 = clTrials[\"Phases Num\"] == 4\n",
    "perP4Comp = np.size(clTrials[P4 & comp],0) / 30 * 100\n",
    "print(perP4Comp)\n",
    "\n",
    "P5 = clTrials[\"Phases Num\"] == 5\n",
    "perP5Comp = np.size(clTrials[P5 & comp],0) / 520 * 100\n",
    "print(perP5Comp)\n",
    "\n",
    "P6 = clTrials[\"Phases Num\"] == 6\n",
    "perP6Comp = np.size(clTrials[P6 & comp],0) / 66 * 100\n",
    "print(perP6Comp)\n",
    "\n",
    "P0 = clTrials[\"Phases Num\"] == 0\n",
    "perP0Comp = np.size(clTrials[P0 & comp],0) / 220 * 100\n",
    "print(perP0Comp)\n"
   ]
  },
  {
   "cell_type": "code",
   "execution_count": null,
   "metadata": {},
   "outputs": [],
   "source": [
    "Counter(clTrials[\"Funded Bys\"]).most_common"
   ]
  },
  {
   "cell_type": "code",
   "execution_count": null,
   "metadata": {},
   "outputs": [],
   "source": [
    "np.size(clTrials[clTrials[\"Fed Funding\"] == 1],0)"
   ]
  },
  {
   "cell_type": "code",
   "execution_count": null,
   "metadata": {},
   "outputs": [],
   "source": [
    "F1 = clTrials[\"Industry Funding\"] == 1\n",
    "perF1Comp = np.size(clTrials[F1 & comp],0) / 1068 * 100\n",
    "print(perF1Comp)\n",
    "\n",
    "F2 = clTrials[\"Fed Funding\"] == 1\n",
    "perF2Comp = np.size(clTrials[F2 & comp],0) / 2577 * 100\n",
    "print(perF2Comp)\n"
   ]
  },
  {
   "cell_type": "code",
   "execution_count": null,
   "metadata": {},
   "outputs": [],
   "source": [
    "np.size(clTrials[~(F1 | F2)],0)"
   ]
  },
  {
   "cell_type": "code",
   "execution_count": null,
   "metadata": {},
   "outputs": [],
   "source": [
    "perF3Comp = np.size(clTrials[~(F1 | F2) & comp],0) / 855 * 100\n",
    "print(perF3Comp)"
   ]
  },
  {
   "cell_type": "code",
   "execution_count": null,
   "metadata": {},
   "outputs": [],
   "source": [
    "clTrials.columns"
   ]
  },
  {
   "cell_type": "code",
   "execution_count": null,
   "metadata": {},
   "outputs": [],
   "source": [
    "clTrials_train, clTrials_test = train_test_split(clTrials.copy(), \n",
    "                                            shuffle=True,\n",
    "                                            random_state=314,\n",
    "                                            stratify=clTrials['Completed Status'],\n",
    "                                            test_size=.2)"
   ]
  },
  {
   "cell_type": "code",
   "execution_count": null,
   "metadata": {},
   "outputs": [],
   "source": [
    "plt.figure(figsize=(12,8))\n",
    "\n",
    "plt.scatter(clTrials_train[\"Enrollment\"],\n",
    "               clTrials_train[\"Completed Status\"])\n",
    "\n",
    "plt.xlabel(\"Enrollment\", fontsize=20)\n",
    "plt.ylabel(\"Complete Status\", fontsize=20)\n",
    "plt.xticks(fontsize=14)\n",
    "plt.yticks(fontsize=14)\n",
    "\n",
    "plt.show()"
   ]
  },
  {
   "cell_type": "code",
   "execution_count": null,
   "metadata": {},
   "outputs": [],
   "source": []
  },
  {
   "cell_type": "code",
   "execution_count": null,
   "metadata": {},
   "outputs": [],
   "source": [
    "clTrials"
   ]
  },
  {
   "cell_type": "code",
   "execution_count": null,
   "metadata": {},
   "outputs": [],
   "source": [
    "plt.figure(figsize=(12,8))\n",
    "\n",
    "plt.scatter(clTrials_train[\"Phases Num\"],\n",
    "               clTrials_train[\"Completed Status\"])\n",
    "\n",
    "plt.xlabel(\"Phases Num\", fontsize=20)\n",
    "plt.ylabel(\"Complete Status\", fontsize=20)\n",
    "plt.xticks(fontsize=14)\n",
    "plt.yticks(fontsize=14)\n",
    "\n",
    "plt.show()"
   ]
  },
  {
   "cell_type": "code",
   "execution_count": null,
   "metadata": {},
   "outputs": [],
   "source": [
    "plt.figure(figsize=(12,8))\n",
    "\n",
    "# plt.scatter(clTrials_train[\"Phases Num\"],\n",
    "#                clTrials_train[\"Enrollment\"])\n",
    "\n",
    "\n",
    "plt.scatter(clTrials_train.loc[clTrials_train.Status=='Completed']['Phases Num'],\n",
    "            clTrials_train.loc[clTrials_train.Status =='Completed']['Enrollment'],\n",
    "            c='blue',\n",
    "            s=60,\n",
    "            label=\"0\")\n",
    "\n",
    "plt.scatter(clTrials_train.loc[clTrials_train.Status !='Completed']['Phases Num'],\n",
    "            clTrials_train.loc[clTrials_train.Status !='Completed']['Enrollment'],\n",
    "            c='orange',\n",
    "            s=60,\n",
    "            marker='v',\n",
    "            label=\"1\")\n",
    "\n",
    "\n",
    "plt.xlabel(\"Phase\", fontsize=20)\n",
    "plt.ylabel(\"Enrollment\", fontsize=20)\n",
    "plt.xticks(fontsize=14)\n",
    "plt.yticks(fontsize=14)\n",
    "\n",
    "plt.show()"
   ]
  },
  {
   "cell_type": "code",
   "execution_count": null,
   "metadata": {},
   "outputs": [],
   "source": [
    "clTrials_train_modified = clTrials_train[clTrials_train['Enrollment'] <= 1500]"
   ]
  },
  {
   "cell_type": "code",
   "execution_count": null,
   "metadata": {},
   "outputs": [],
   "source": [
    "clTrials_train_modified['Enrollment']"
   ]
  },
  {
   "cell_type": "code",
   "execution_count": null,
   "metadata": {},
   "outputs": [],
   "source": [
    "plt.figure(figsize=(12,8))\n",
    "\n",
    "# plt.scatter(clTrials_train[\"Phases Num\"],\n",
    "#                clTrials_train[\"Enrollment\"])\n",
    "\n",
    "\n",
    "plt.scatter(clTrials_train_modified.loc[clTrials_train_modified.Status=='Completed']['Phases Num'],\n",
    "            clTrials_train_modified.loc[clTrials_train_modified.Status =='Completed']['Enrollment'],\n",
    "            c='blue',\n",
    "            s=60,\n",
    "            label=\"0\")\n",
    "\n",
    "plt.scatter(clTrials_train_modified.loc[clTrials_train_modified.Status !='Completed']['Phases Num'],\n",
    "            clTrials_train_modified.loc[clTrials_train_modified.Status !='Completed']['Enrollment'],\n",
    "            c='orange',\n",
    "            s=60,\n",
    "            marker='v',\n",
    "            label=\"1\")\n",
    "\n",
    "\n",
    "plt.xlabel(\"Phase\", fontsize=20)\n",
    "plt.ylabel(\"Enrollment\", fontsize=20)\n",
    "plt.xticks(fontsize=14)\n",
    "plt.yticks(fontsize=14)\n",
    "\n",
    "plt.show()"
   ]
  },
  {
   "cell_type": "code",
   "execution_count": null,
   "metadata": {},
   "outputs": [],
   "source": [
    "plt.figure(figsize=(12,8))\n",
    "\n",
    "# plt.scatter(clTrials_train[\"Phases Num\"],\n",
    "#                clTrials_train[\"Enrollment\"])\n",
    "\n",
    "\n",
    "plt.scatter(clTrials_train.loc[clTrials_train.Status=='Completed']['Study Duration (months)'],\n",
    "            clTrials_train.loc[clTrials_train.Status =='Completed']['Enrollment'],\n",
    "            c='blue',\n",
    "            s=60,\n",
    "            label=\"0\")\n",
    "\n",
    "plt.scatter(clTrials_train.loc[clTrials_train.Status !='Completed']['Study Duration (months)'],\n",
    "            clTrials_train.loc[clTrials_train.Status !='Completed']['Enrollment'],\n",
    "            c='orange',\n",
    "            s=60,\n",
    "            marker='v',\n",
    "            label=\"1\")\n",
    "\n",
    "\n",
    "plt.xlabel(\"Duration\", fontsize=20)\n",
    "plt.ylabel(\"Enrollment\", fontsize=20)\n",
    "plt.xticks(fontsize=14)\n",
    "plt.yticks(fontsize=14)\n",
    "\n",
    "plt.show()"
   ]
  },
  {
   "cell_type": "code",
   "execution_count": null,
   "metadata": {},
   "outputs": [],
   "source": [
    "plt.figure(figsize=(12,8))\n",
    "\n",
    "# plt.scatter(clTrials_train[\"Phases Num\"],\n",
    "#                clTrials_train[\"Enrollment\"])\n",
    "\n",
    "\n",
    "plt.scatter(clTrials_train_modified.loc[clTrials_train_modified.Status=='Completed']['Study Duration (months)'],\n",
    "            clTrials_train_modified.loc[clTrials_train_modified.Status =='Completed']['Enrollment'],\n",
    "            c='blue',\n",
    "            s=60,\n",
    "            label=\"0\")\n",
    "\n",
    "plt.scatter(clTrials_train_modified.loc[clTrials_train_modified.Status !='Completed']['Study Duration (months)'],\n",
    "            clTrials_train_modified.loc[clTrials_train_modified.Status !='Completed']['Enrollment'],\n",
    "            c='orange',\n",
    "            s=60,\n",
    "            marker='v',\n",
    "            label=\"1\")\n",
    "\n",
    "\n",
    "plt.xlabel(\"Duration\", fontsize=20)\n",
    "plt.ylabel(\"Enrollment\", fontsize=20)\n",
    "plt.xticks(fontsize=14)\n",
    "plt.yticks(fontsize=14)\n",
    "\n",
    "plt.show()"
   ]
  },
  {
   "cell_type": "code",
   "execution_count": null,
   "metadata": {},
   "outputs": [],
   "source": [
    "Interv = []\n",
    "def create_interv():\n",
    "    for item in clTrials_train_modified['Study Designs']:\n",
    "        if isinstance(item, str):\n",
    "            if 'Intervention Model' in item:\n",
    "                Interv_splitted = item.split('Intervention Model: ')\n",
    "                Interv_splitted_more = Interv_splitted[1].split('|')\n",
    "                Interv.append(Interv_splitted_more[0])\n",
    "            else:\n",
    "                Interv.append('N/A')\n",
    "        else: \n",
    "            Interv.append('N/A')\n",
    "create_interv()"
   ]
  },
  {
   "cell_type": "code",
   "execution_count": null,
   "metadata": {},
   "outputs": [],
   "source": [
    "S=set(Interv)\n",
    "S"
   ]
  },
  {
   "cell_type": "code",
   "execution_count": null,
   "metadata": {},
   "outputs": [],
   "source": [
    "for i in range(len(Interv)):\n",
    "    if Interv[i] == 'N/A':\n",
    "        Interv[i] = 0\n",
    "    elif Interv[i] == 'Crossover Assignment':\n",
    "        Interv[i] = 1\n",
    "    elif Interv[i] == 'Factorial Assignment':\n",
    "        Interv[i] = 2\n",
    "    elif Interv[i] == 'Parallel Assignment':\n",
    "        Interv[i] = 3\n",
    "    elif Interv[i] == 'Sequential Assignment':\n",
    "        Interv[i] = 4\n",
    "    else:\n",
    "        Interv[i]=5\n",
    "        "
   ]
  },
  {
   "cell_type": "code",
   "execution_count": null,
   "metadata": {},
   "outputs": [],
   "source": [
    "clTrials_train_modified['Intervention Model'] = Interv"
   ]
  },
  {
   "cell_type": "code",
   "execution_count": null,
   "metadata": {},
   "outputs": [],
   "source": []
  },
  {
   "cell_type": "code",
   "execution_count": null,
   "metadata": {},
   "outputs": [],
   "source": [
    "clTrials_train_modified"
   ]
  },
  {
   "cell_type": "code",
   "execution_count": null,
   "metadata": {},
   "outputs": [],
   "source": [
    "plt.figure(figsize=(12,8))\n",
    "\n",
    "# plt.scatter(clTrials_train[\"Phases Num\"],\n",
    "#                clTrials_train[\"Enrollment\"])\n",
    "\n",
    "\n",
    "plt.scatter(clTrials_train_modified.loc[clTrials_train_modified.Status=='Completed']['Intervention Model'],\n",
    "            clTrials_train_modified.loc[clTrials_train_modified.Status =='Completed']['Enrollment'],\n",
    "            c='blue',\n",
    "            s=60,\n",
    "            label=\"0\")\n",
    "\n",
    "plt.scatter(clTrials_train_modified.loc[clTrials_train_modified.Status !='Completed']['Intervention Model'],\n",
    "            clTrials_train_modified.loc[clTrials_train_modified.Status !='Completed']['Enrollment'],\n",
    "            c='orange',\n",
    "            s=60,\n",
    "            marker='v',\n",
    "            label=\"1\")\n",
    "\n",
    "\n",
    "plt.xlabel(\"Intervention Model\", fontsize=20)\n",
    "plt.ylabel(\"Enrollment\", fontsize=20)\n",
    "plt.xticks(fontsize=14)\n",
    "plt.yticks(fontsize=14)\n",
    "\n",
    "plt.show()"
   ]
  },
  {
   "cell_type": "code",
   "execution_count": null,
   "metadata": {},
   "outputs": [],
   "source": [
    "plt.figure(figsize=(12,8))\n",
    "\n",
    "# plt.scatter(clTrials_train[\"Phases Num\"],\n",
    "#                clTrials_train[\"Enrollment\"])\n",
    "\n",
    "\n",
    "plt.scatter(clTrials_train_modified.loc[clTrials_train_modified.Status=='Completed']['Study Duration (months)'],\n",
    "            clTrials_train_modified.loc[clTrials_train_modified.Status =='Completed']['Intervention Model'],\n",
    "            c='blue',\n",
    "            s=60,\n",
    "            label=\"0\")\n",
    "\n",
    "plt.scatter(clTrials_train_modified.loc[clTrials_train_modified.Status !='Completed']['Study Duration (months)'],\n",
    "            clTrials_train_modified.loc[clTrials_train_modified.Status !='Completed']['Intervention Model'],\n",
    "            c='orange',\n",
    "            s=60,\n",
    "            marker='v',\n",
    "            label=\"1\")\n",
    "\n",
    "\n",
    "plt.xlabel(\"Duration\", fontsize=20)\n",
    "plt.ylabel(\"Intervention Model\", fontsize=20)\n",
    "plt.xticks(fontsize=14)\n",
    "plt.yticks(fontsize=14)\n",
    "\n",
    "plt.show()"
   ]
  },
  {
   "cell_type": "code",
   "execution_count": null,
   "metadata": {},
   "outputs": [],
   "source": [
    "from mpl_toolkits import mplot3d\n",
    "\n",
    "plt.figure(figsize=(12,8))\n",
    "\n",
    "# plt.scatter(clTrials_train[\"Phases Num\"],\n",
    "#                clTrials_train[\"Enrollment\"])\n",
    "\n",
    "\n",
    "plt.scatter(clTrials_train_modified.loc[clTrials_train_modified.Status=='Completed']['Study Duration (months)'],\n",
    "            clTrials_train_modified.loc[clTrials_train_modified.Status =='Completed']['Enrollment'],\n",
    "            clTrials_train_modified.loc[clTrials_train_modified.Status =='Completed']['Intervention Model'],\n",
    "            c='blue',\n",
    "            s=60,\n",
    "            label=\"0\")\n",
    "\n",
    "\n",
    "plt.scatter(clTrials_train_modified.loc[clTrials_train_modified.Status !='Completed']['Study Duration (months)'],\n",
    "            clTrials_train_modified.loc[clTrials_train_modified.Status !='Completed']['Enrollment'],\n",
    "            clTrials_train_modified.loc[clTrials_train_modified.Status !='Completed']['Intervention Model'],\n",
    "            c='orange',\n",
    "            s=60,\n",
    "            marker='v',\n",
    "            label=\"1\")\n",
    "\n",
    "\n",
    "plt.xlabel(\"Duration\", fontsize=20)\n",
    "plt.ylabel(\"Enrollment\", fontsize=20)\n",
    "plt.zlabel(\"Intervention Model\", fontsize=20)\n",
    "plt.xticks(fontsize=14)\n",
    "plt.yticks(fontsize=14)\n",
    "plt.zticks(fontsize=14)\n",
    "\n",
    "plt.show()"
   ]
  },
  {
   "cell_type": "code",
   "execution_count": null,
   "metadata": {},
   "outputs": [],
   "source": [
    "plt.figure(figsize=(12,8))\n",
    "ax = plt.axes(projection='3d')\n",
    "\n",
    "# Data for a three-dimensional line\n",
    "# zline = np.linspace(0, 15, 1000)\n",
    "# xline = np.sin(zline)\n",
    "# yline = np.cos(zline)\n",
    "# ax.plot3D(xline, yline, zline, 'gray')\n",
    "\n",
    "# Data for three-dimensional scattered points\n",
    "zdata = clTrials_train_modified.loc[clTrials_train_modified.Status !='Completed']['Study Duration (months)']\n",
    "xdata = clTrials_train_modified.loc[clTrials_train_modified.Status !='Completed']['Enrollment']\n",
    "ydata = clTrials_train_modified.loc[clTrials_train_modified.Status !='Completed']['Intervention Model']\n",
    "ax.scatter3D(xdata, ydata, zdata, color=\"r\"); "
   ]
  },
  {
   "cell_type": "code",
   "execution_count": null,
   "metadata": {},
   "outputs": [],
   "source": [
    "plt.figure(figsize=(12,8))\n",
    "ax = plt.axes(projection='3d')\n",
    "\n",
    "# Data for a three-dimensional line\n",
    "# zline = np.linspace(0, 15, 1000)\n",
    "# xline = np.sin(zline)\n",
    "# yline = np.cos(zline)\n",
    "# ax.plot3D(xline, yline, zline, 'gray')\n",
    "\n",
    "# Data for three-dimensional scattered points\n",
    "zdata = clTrials_train_modified.loc[clTrials_train_modified.Status =='Completed']['Study Duration (months)']\n",
    "xdata = clTrials_train_modified.loc[clTrials_train_modified.Status =='Completed']['Enrollment']\n",
    "ydata = clTrials_train_modified.loc[clTrials_train_modified.Status =='Completed']['Intervention Model']\n",
    "ax.scatter3D(xdata, ydata, zdata, color=\"b\"); "
   ]
  },
  {
   "cell_type": "code",
   "execution_count": null,
   "metadata": {},
   "outputs": [],
   "source": [
    "plt.figure(figsize=(15,10))\n",
    "ax = plt.axes(projection='3d')\n",
    "\n",
    "# Data for a three-dimensional line\n",
    "# zline = np.linspace(0, 15, 1000)\n",
    "# xline = np.sin(zline)\n",
    "# yline = np.cos(zline)\n",
    "# ax.plot3D(xline, yline, zline, 'gray')\n",
    "\n",
    "# Data for three-dimensional scattered points\n",
    "zdata = clTrials_train_modified.loc[clTrials_train_modified.Status =='Completed']['Study Duration (months)']\n",
    "xdata = clTrials_train_modified.loc[clTrials_train_modified.Status =='Completed']['Enrollment']\n",
    "ydata = clTrials_train_modified.loc[clTrials_train_modified.Status =='Completed']['Intervention Model']\n",
    "ax.scatter3D(xdata, ydata, zdata, color=\"b\"); \n",
    "\n",
    "Zdata = clTrials_train_modified.loc[clTrials_train_modified.Status !='Completed']['Study Duration (months)']\n",
    "Xdata = clTrials_train_modified.loc[clTrials_train_modified.Status !='Completed']['Enrollment']\n",
    "Ydata = clTrials_train_modified.loc[clTrials_train_modified.Status !='Completed']['Intervention Model']\n",
    "ax.scatter3D(Xdata, Ydata, Zdata, color=\"r\"); "
   ]
  },
  {
   "cell_type": "markdown",
   "metadata": {},
   "source": [
    "Use k-nearest neighbor model."
   ]
  },
  {
   "cell_type": "code",
   "execution_count": null,
   "metadata": {},
   "outputs": [],
   "source": [
    "from sklearn.neighbors import KNeighborsClassifier"
   ]
  },
  {
   "cell_type": "code",
   "execution_count": null,
   "metadata": {},
   "outputs": [],
   "source": [
    "knn = KNeighborsClassifier(5)\n",
    "\n",
    "knn.fit(clTrials_train_modified[['Study Duration (months)', 'Enrollment', 'Intervention Model']],\n",
    "           clTrials_train_modified.Status)"
   ]
  },
  {
   "cell_type": "code",
   "execution_count": null,
   "metadata": {},
   "outputs": [],
   "source": [
    "knn.predict(clTrials_train_modified[['Study Duration (months)', 'Enrollment', 'Intervention Model']])"
   ]
  },
  {
   "cell_type": "code",
   "execution_count": null,
   "metadata": {},
   "outputs": [],
   "source": [
    "clTrials_test_modified = clTrials_test[clTrials_test['Enrollment'] <= 1500]"
   ]
  },
  {
   "cell_type": "code",
   "execution_count": null,
   "metadata": {
    "tags": []
   },
   "outputs": [],
   "source": [
    "Pred = knn.predict(clTrials_test_modified[['Study Duration (months)', 'Enrollment', 'Intervention Model']])"
   ]
  },
  {
   "cell_type": "code",
   "execution_count": null,
   "metadata": {},
   "outputs": [],
   "source": [
    "test_Interv = []\n",
    "def create_interv():\n",
    "    for item in clTrials_test_modified['Study Designs']:\n",
    "        if isinstance(item, str):\n",
    "            if 'Intervention Model' in item:\n",
    "                Interv_splitted = item.split('Intervention Model: ')\n",
    "                Interv_splitted_more = Interv_splitted[1].split('|')\n",
    "                test_Interv.append(Interv_splitted_more[0])\n",
    "            else:\n",
    "                test_Interv.append('N/A')\n",
    "        else: \n",
    "            test_Interv.append('N/A')\n",
    "create_interv()"
   ]
  },
  {
   "cell_type": "code",
   "execution_count": null,
   "metadata": {},
   "outputs": [],
   "source": [
    "clTrials_test_modified['Intervention Model']=test_Interv"
   ]
  },
  {
   "cell_type": "code",
   "execution_count": null,
   "metadata": {},
   "outputs": [],
   "source": [
    "for i in range(len(test_Interv)):\n",
    "    if test_Interv[i] == 'N/A':\n",
    "        test_Interv[i] = 0\n",
    "    elif test_Interv[i] == 'Crossover Assignment':\n",
    "        test_Interv[i] = 1\n",
    "    elif test_Interv[i] == 'Factorial Assignment':\n",
    "        test_Interv[i] = 2\n",
    "    elif test_Interv[i] == 'Parallel Assignment':\n",
    "        test_Interv[i] = 3\n",
    "    elif test_Interv[i] == 'Sequential Assignment':\n",
    "        test_Interv[i] = 4\n",
    "    else:\n",
    "        test_Interv[i]=5\n",
    "        "
   ]
  },
  {
   "cell_type": "code",
   "execution_count": null,
   "metadata": {},
   "outputs": [],
   "source": [
    "clTrials_test_modified['Intervention Model']=test_Interv"
   ]
  },
  {
   "cell_type": "code",
   "execution_count": null,
   "metadata": {},
   "outputs": [],
   "source": [
    "Pred = knn.predict(clTrials_test_modified[['Study Duration (months)', 'Enrollment', 'Intervention Model']])"
   ]
  },
  {
   "cell_type": "code",
   "execution_count": null,
   "metadata": {
    "tags": []
   },
   "outputs": [],
   "source": [
    "Pred"
   ]
  },
  {
   "cell_type": "code",
   "execution_count": null,
   "metadata": {},
   "outputs": [],
   "source": [
    "TEST = list(clTrials_test_modified['Status'])\n",
    "\n",
    "c=0\n",
    "for i in range(len(Pred)):\n",
    "    if Pred[i] == TEST[i]:\n",
    "        c = c+1\n",
    "        \n",
    "print(c/len(Pred))\n",
    "\n"
   ]
  },
  {
   "cell_type": "markdown",
   "metadata": {},
   "source": [
    "With k-nearest approach, where k=5, we get 80% accuracy.\n",
    "To try with different k values, we should first clean/rearrange the code first."
   ]
  },
  {
   "cell_type": "code",
   "execution_count": null,
   "metadata": {},
   "outputs": [],
   "source": [
    "from sklearn import tree\n",
    "\n",
    "## This is the actual out of the box algorithm\n",
    "from sklearn.tree import DecisionTreeClassifier"
   ]
  },
  {
   "cell_type": "code",
   "execution_count": null,
   "metadata": {},
   "outputs": [],
   "source": [
    "tree_clf = DecisionTreeClassifier()"
   ]
  },
  {
   "cell_type": "code",
   "execution_count": null,
   "metadata": {},
   "outputs": [],
   "source": []
  }
 ],
 "metadata": {
  "kernelspec": {
   "display_name": "Python 3 (ipykernel)",
   "language": "python",
   "name": "python3"
  },
  "language_info": {
   "codemirror_mode": {
    "name": "ipython",
    "version": 3
   },
   "file_extension": ".py",
   "mimetype": "text/x-python",
   "name": "python",
   "nbconvert_exporter": "python",
   "pygments_lexer": "ipython3",
   "version": "3.10.4"
  }
 },
 "nbformat": 4,
 "nbformat_minor": 4
}
